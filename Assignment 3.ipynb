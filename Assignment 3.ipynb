{
 "cells": [
  {
   "cell_type": "code",
   "execution_count": 2,
   "metadata": {
    "collapsed": true
   },
   "outputs": [],
   "source": [
    "import pandas as pd\n",
    "import networkx\n",
    "import numpy as np\n",
    "import matplotlib.pyplot as plt\n",
    "%matplotlib inline"
   ]
  },
  {
   "cell_type": "code",
   "execution_count": 3,
   "metadata": {
    "collapsed": true
   },
   "outputs": [],
   "source": [
    "edmunds = pd.read_csv(\"C:\\Users\\Sean\\Desktop\\Fall 2016\\Text_Analytics\\Group Assignment 3\\Assignment 3 Edmunds Posts.csv\")\n",
    "senti = pd.read_csv(\"C:\\Users\\Sean\\Desktop\\Fall 2016\\Text_Analytics\\Group Assignment 3\\Assignment 3 Sentiment Scores.csv\")"
   ]
  },
  {
   "cell_type": "code",
   "execution_count": 14,
   "metadata": {
    "collapsed": false
   },
   "outputs": [
    {
     "name": "stdout",
     "output_type": "stream",
     "text": [
      "ES\n",
      "LS\n",
      "-13.0\n",
      "\n",
      "ES\n",
      "RX\n",
      "4.0\n",
      "\n",
      "ES\n",
      "A8\n",
      "2.0\n",
      "\n",
      "ES\n",
      "A6\n",
      "7.0\n",
      "\n",
      "ES\n",
      "3series\n",
      "20.0\n",
      "\n",
      "ES\n",
      "5series\n",
      "14.0\n",
      "\n",
      "ES\n",
      "7series\n",
      "4.0\n",
      "\n",
      "ES\n",
      "XJ\n",
      "0.0\n",
      "\n",
      "LS\n",
      "RX\n",
      "9.0\n",
      "\n",
      "LS\n",
      "A8\n",
      "15.0\n",
      "\n",
      "LS\n",
      "A6\n",
      "21.0\n",
      "\n",
      "LS\n",
      "3series\n",
      "12.0\n",
      "\n",
      "LS\n",
      "5series\n",
      "-4.0\n",
      "\n",
      "LS\n",
      "7series\n",
      "19.0\n",
      "\n",
      "LS\n",
      "XJ\n",
      "-4.0\n",
      "\n",
      "RX\n",
      "A8\n",
      "10.0\n",
      "\n",
      "RX\n",
      "A6\n",
      "22.0\n",
      "\n",
      "RX\n",
      "3series\n",
      "16.0\n",
      "\n",
      "RX\n",
      "5series\n",
      "18.0\n",
      "\n",
      "RX\n",
      "7series\n",
      "14.0\n",
      "\n",
      "RX\n",
      "XJ\n",
      "2.0\n",
      "\n",
      "A8\n",
      "A6\n",
      "-8.0\n",
      "\n",
      "A8\n",
      "3series\n",
      "8.0\n",
      "\n",
      "A8\n",
      "5series\n",
      "5.0\n",
      "\n",
      "A8\n",
      "7series\n",
      "3.0\n",
      "\n",
      "A8\n",
      "XJ\n",
      "-9.0\n",
      "\n",
      "A6\n",
      "3series\n",
      "1.0\n",
      "\n",
      "A6\n",
      "5series\n",
      "-2.0\n",
      "\n",
      "A6\n",
      "7series\n",
      "-5.0\n",
      "\n",
      "A6\n",
      "XJ\n",
      "1.0\n",
      "\n",
      "3series\n",
      "5series\n",
      "0\n",
      "\n",
      "3series\n",
      "7series\n",
      "1.0\n",
      "\n",
      "3series\n",
      "XJ\n",
      "-3.0\n",
      "\n",
      "5series\n",
      "7series\n",
      "5.0\n",
      "\n",
      "5series\n",
      "XJ\n",
      "-4.0\n",
      "\n",
      "7series\n",
      "XJ\n",
      "-8.0\n",
      "\n"
     ]
    }
   ],
   "source": [
    "col = senti.columns\n",
    "ar = []\n",
    "for i in range(len(col)-1):\n",
    "    for j in range(len(col)-1):\n",
    "        if j>i:\n",
    "            pos = senti[[col[i],col[j]]][(senti[col[i]]>senti[col[j]])]\n",
    "            neg = senti[[col[i],col[j]]][senti[col[i]]<senti[col[j]]]\n",
    "            posv = (pos[col[i]]-pos[col[j]]).sum()\n",
    "            negv = (neg[col[j]]-neg[col[i]]).sum()\n",
    "            sen = posv-negv\n",
    "            print col[i]\n",
    "            print col[j]\n",
    "            print sen\n",
    "            print\n",
    "            ar.append((sen,col[i],col[j]))"
   ]
  },
  {
   "cell_type": "code",
   "execution_count": 21,
   "metadata": {
    "collapsed": false
   },
   "outputs": [],
   "source": [
    "ar2=[]\n",
    "for i in ar:\n",
    "    if i[0]<0:\n",
    "        ar2.append((-i[0],i[2],i[1]))\n",
    "    else:\n",
    "        ar2.append(i)\n",
    "    "
   ]
  },
  {
   "cell_type": "code",
   "execution_count": 22,
   "metadata": {
    "collapsed": false
   },
   "outputs": [
    {
     "data": {
      "text/plain": [
       "[(13.0, 'LS', 'ES'),\n",
       " (4.0, 'ES', 'RX'),\n",
       " (2.0, 'ES', 'A8'),\n",
       " (7.0, 'ES', 'A6'),\n",
       " (20.0, 'ES', '3series'),\n",
       " (14.0, 'ES', '5series'),\n",
       " (4.0, 'ES', '7series'),\n",
       " (0.0, 'ES', 'XJ'),\n",
       " (9.0, 'LS', 'RX'),\n",
       " (15.0, 'LS', 'A8'),\n",
       " (21.0, 'LS', 'A6'),\n",
       " (12.0, 'LS', '3series'),\n",
       " (4.0, '5series', 'LS'),\n",
       " (19.0, 'LS', '7series'),\n",
       " (4.0, 'XJ', 'LS'),\n",
       " (10.0, 'RX', 'A8'),\n",
       " (22.0, 'RX', 'A6'),\n",
       " (16.0, 'RX', '3series'),\n",
       " (18.0, 'RX', '5series'),\n",
       " (14.0, 'RX', '7series'),\n",
       " (2.0, 'RX', 'XJ'),\n",
       " (8.0, 'A6', 'A8'),\n",
       " (8.0, 'A8', '3series'),\n",
       " (5.0, 'A8', '5series'),\n",
       " (3.0, 'A8', '7series'),\n",
       " (9.0, 'XJ', 'A8'),\n",
       " (1.0, 'A6', '3series'),\n",
       " (2.0, '5series', 'A6'),\n",
       " (5.0, '7series', 'A6'),\n",
       " (1.0, 'A6', 'XJ'),\n",
       " (0, '3series', '5series'),\n",
       " (1.0, '3series', '7series'),\n",
       " (3.0, 'XJ', '3series'),\n",
       " (5.0, '5series', '7series'),\n",
       " (4.0, 'XJ', '5series'),\n",
       " (8.0, 'XJ', '7series')]"
      ]
     },
     "execution_count": 22,
     "metadata": {},
     "output_type": "execute_result"
    }
   ],
   "source": [
    "ar2"
   ]
  },
  {
   "cell_type": "code",
   "execution_count": 38,
   "metadata": {
    "collapsed": false
   },
   "outputs": [
    {
     "ename": "SyntaxError",
     "evalue": "invalid syntax (<ipython-input-38-9b5875c2b214>, line 7)",
     "output_type": "error",
     "traceback": [
      "\u001b[1;36m  File \u001b[1;32m\"<ipython-input-38-9b5875c2b214>\"\u001b[1;36m, line \u001b[1;32m7\u001b[0m\n\u001b[1;33m    senti[j].map(lambda row: j if(!np.isnan(row[\"LS\"]) and !np.isnan(row[\"RX\"])):                                   j=row[\"LS\"]-row['RX'],axis=1 )\u001b[0m\n\u001b[1;37m                                  ^\u001b[0m\n\u001b[1;31mSyntaxError\u001b[0m\u001b[1;31m:\u001b[0m invalid syntax\n"
     ]
    }
   ],
   "source": [
    "col = senti.columns\n",
    "i=0\n",
    "#for i in range(len(col)):\n",
    "j=[col[i],col[i+1]]\n",
    "#def rcheck(row,col1,col2):\n",
    " #   if\n",
    "senti[j].map(lambda row: j if(!np.isnan(row[\"LS\"]) and !np.isnan(row[\"RX\"])): \\\n",
    "                                  j=row[\"LS\"]-row['RX'],axis=1 )\n",
    "senti[senti[col[0]]== 'NaN']"
   ]
  },
  {
   "cell_type": "code",
   "execution_count": 12,
   "metadata": {
    "collapsed": false
   },
   "outputs": [
    {
     "data": {
      "image/png": "[encoded data removed]",
      "text/plain": [
       "<matplotlib.figure.Figure at 0xa76f390>"
      ]
     },
     "metadata": {},
     "output_type": "display_data"
    }
   ],
   "source": [
    "import networkx as nx\n",
    "import numpy as np\n",
    "import matplotlib.pyplot as plt\n",
    "\n",
    "G = nx.DiGraph()\n",
    "G.add_edges_from(\n",
    "    [('A', 'B'), ('A', 'C'), ('D', 'B'), ('E', 'C'), ('E', 'F'),\n",
    "     ('B', 'H'), ('B', 'G'), ('B', 'F'), ('C', 'G')])\n",
    "\n",
    "val_map = {'A': 1.0,\n",
    "           'D': 0.5714285714285714,\n",
    "           'H': 0.0}\n",
    "\n",
    "values = [val_map.get(node, 0.25) for node in G.nodes()]\n",
    "\n",
    "# Specify the edges you want here\n",
    "red_edges = [('A', 'C'), ('E', 'C')]\n",
    "edge_colours = ['black' if not edge in red_edges else 'red'\n",
    "                for edge in G.edges()]\n",
    "black_edges = [edge for edge in G.edges() if edge not in red_edges]\n",
    "\n",
    "# Need to create a layout when doing\n",
    "# separate calls to draw nodes and edges\n",
    "pos = nx.spring_layout(G)\n",
    "nx.draw_networkx_nodes(G, pos, cmap=plt.get_cmap('jet'), node_color = values)\n",
    "nx.draw_networkx_edges(G, pos, edgelist=red_edges, edge_color='r', arrows=True)\n",
    "nx.draw_networkx_edges(G, pos, edgelist=black_edges, arrows=False)\n",
    "plt.show()"
   ]
  }
 ],
 "metadata": {
  "kernelspec": {
   "display_name": "Python 2",
   "language": "python",
   "name": "python2"
  },
  "language_info": {
   "codemirror_mode": {
    "name": "ipython",
    "version": 2
   },
   "file_extension": ".py",
   "mimetype": "text/x-python",
   "name": "python",
   "nbconvert_exporter": "python",
   "pygments_lexer": "ipython2",
   "version": "2.7.12"
  }
 },
 "nbformat": 4,
 "nbformat_minor": 0
}

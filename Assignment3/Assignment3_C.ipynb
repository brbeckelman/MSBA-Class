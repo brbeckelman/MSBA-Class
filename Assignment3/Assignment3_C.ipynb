{
 "cells": [
  {
   "cell_type": "code",
   "execution_count": 1,
   "metadata": {
    "collapsed": true
   },
   "outputs": [],
   "source": [
    "import pandas as pd\n",
    "import re"
   ]
  },
  {
   "cell_type": "code",
   "execution_count": 16,
   "metadata": {
    "collapsed": false
   },
   "outputs": [],
   "source": [
    "senti_scores = pd.read_csv('Assignment 3 Sentiment Scores.csv')\n",
    "edmunds_posts = pd.read_csv('Assignment 3 Edmunds Posts.csv')"
   ]
  },
  {
   "cell_type": "code",
   "execution_count": 3,
   "metadata": {
    "collapsed": false
   },
   "outputs": [
    {
     "data": {
      "text/html": [
       "<div>\n",
       "<table border=\"1\" class=\"dataframe\">\n",
       "  <thead>\n",
       "    <tr style=\"text-align: right;\">\n",
       "      <th></th>\n",
       "      <th>ES</th>\n",
       "      <th>LS</th>\n",
       "      <th>RX</th>\n",
       "      <th>A8</th>\n",
       "      <th>A6</th>\n",
       "      <th>3series</th>\n",
       "      <th>5series</th>\n",
       "      <th>7series</th>\n",
       "      <th>XJ</th>\n",
       "      <th>Sclass</th>\n",
       "    </tr>\n",
       "  </thead>\n",
       "  <tbody>\n",
       "    <tr>\n",
       "      <th>0</th>\n",
       "      <td>NaN</td>\n",
       "      <td>NaN</td>\n",
       "      <td>4.0</td>\n",
       "      <td>3.0</td>\n",
       "      <td>NaN</td>\n",
       "      <td>NaN</td>\n",
       "      <td>NaN</td>\n",
       "      <td>5.0</td>\n",
       "      <td>2.0</td>\n",
       "      <td>1.0</td>\n",
       "    </tr>\n",
       "    <tr>\n",
       "      <th>1</th>\n",
       "      <td>NaN</td>\n",
       "      <td>NaN</td>\n",
       "      <td>3.0</td>\n",
       "      <td>2.0</td>\n",
       "      <td>2.0</td>\n",
       "      <td>2.0</td>\n",
       "      <td>2.0</td>\n",
       "      <td>2.0</td>\n",
       "      <td>NaN</td>\n",
       "      <td>NaN</td>\n",
       "    </tr>\n",
       "    <tr>\n",
       "      <th>2</th>\n",
       "      <td>NaN</td>\n",
       "      <td>4.0</td>\n",
       "      <td>NaN</td>\n",
       "      <td>NaN</td>\n",
       "      <td>NaN</td>\n",
       "      <td>3.0</td>\n",
       "      <td>NaN</td>\n",
       "      <td>3.0</td>\n",
       "      <td>NaN</td>\n",
       "      <td>3.0</td>\n",
       "    </tr>\n",
       "    <tr>\n",
       "      <th>3</th>\n",
       "      <td>NaN</td>\n",
       "      <td>2.0</td>\n",
       "      <td>NaN</td>\n",
       "      <td>2.0</td>\n",
       "      <td>NaN</td>\n",
       "      <td>NaN</td>\n",
       "      <td>NaN</td>\n",
       "      <td>2.0</td>\n",
       "      <td>4.0</td>\n",
       "      <td>2.0</td>\n",
       "    </tr>\n",
       "    <tr>\n",
       "      <th>4</th>\n",
       "      <td>NaN</td>\n",
       "      <td>3.0</td>\n",
       "      <td>3.0</td>\n",
       "      <td>NaN</td>\n",
       "      <td>NaN</td>\n",
       "      <td>NaN</td>\n",
       "      <td>2.0</td>\n",
       "      <td>NaN</td>\n",
       "      <td>NaN</td>\n",
       "      <td>3.0</td>\n",
       "    </tr>\n",
       "  </tbody>\n",
       "</table>\n",
       "</div>"
      ],
      "text/plain": [
       "   ES   LS   RX   A8   A6  3series  5series  7series   XJ  Sclass\n",
       "0 NaN  NaN  4.0  3.0  NaN      NaN      NaN      5.0  2.0     1.0\n",
       "1 NaN  NaN  3.0  2.0  2.0      2.0      2.0      2.0  NaN     NaN\n",
       "2 NaN  4.0  NaN  NaN  NaN      3.0      NaN      3.0  NaN     3.0\n",
       "3 NaN  2.0  NaN  2.0  NaN      NaN      NaN      2.0  4.0     2.0\n",
       "4 NaN  3.0  3.0  NaN  NaN      NaN      2.0      NaN  NaN     3.0"
      ]
     },
     "execution_count": 3,
     "metadata": {},
     "output_type": "execute_result"
    }
   ],
   "source": [
    "senti_scores.head()"
   ]
  },
  {
   "cell_type": "code",
   "execution_count": 4,
   "metadata": {
    "collapsed": false
   },
   "outputs": [
    {
     "data": {
      "text/html": [
       "<div>\n",
       "<table border=\"1\" class=\"dataframe\">\n",
       "  <thead>\n",
       "    <tr style=\"text-align: right;\">\n",
       "      <th></th>\n",
       "      <th>word</th>\n",
       "      <th>score</th>\n",
       "    </tr>\n",
       "  </thead>\n",
       "  <tbody>\n",
       "    <tr>\n",
       "      <th>0</th>\n",
       "      <td>abandon</td>\n",
       "      <td>-2</td>\n",
       "    </tr>\n",
       "    <tr>\n",
       "      <th>1</th>\n",
       "      <td>abate</td>\n",
       "      <td>-2</td>\n",
       "    </tr>\n",
       "    <tr>\n",
       "      <th>2</th>\n",
       "      <td>abdicate</td>\n",
       "      <td>-2</td>\n",
       "    </tr>\n",
       "    <tr>\n",
       "      <th>3</th>\n",
       "      <td>abhor</td>\n",
       "      <td>-4</td>\n",
       "    </tr>\n",
       "    <tr>\n",
       "      <th>4</th>\n",
       "      <td>abject</td>\n",
       "      <td>-2</td>\n",
       "    </tr>\n",
       "  </tbody>\n",
       "</table>\n",
       "</div>"
      ],
      "text/plain": [
       "       word  score\n",
       "0   abandon     -2\n",
       "1     abate     -2\n",
       "2  abdicate     -2\n",
       "3     abhor     -4\n",
       "4    abject     -2"
      ]
     },
     "execution_count": 4,
     "metadata": {},
     "output_type": "execute_result"
    }
   ],
   "source": [
    "senti_dict = pd.read_csv(\"SentiStrength_Dict.csv\")\n",
    "del senti_dict['Unnamed: 2']\n",
    "senti_dict.head()"
   ]
  },
  {
   "cell_type": "code",
   "execution_count": 26,
   "metadata": {
    "collapsed": false
   },
   "outputs": [],
   "source": [
    "# Make list of models\n",
    "models = list(senti_scores.columns.values)\n",
    "\n",
    "# Initialize dictionary\n",
    "edmunds_dict = {}\n",
    "for item in models:\n",
    "    edmunds_dict[item] = []\n",
    "for key in edmunds_dict:\n",
    "    edmunds_dict[key] = [0]*len(edmunds_posts)\n",
    "\n",
    "for review in edmunds_posts['Posts'].tolist():\n",
    "    sentences = []\n",
    "    for sentence in re.split(r'[.]+', review):\n",
    "        sentences.append(sentence)"
   ]
  },
  {
   "cell_type": "code",
   "execution_count": 27,
   "metadata": {
    "collapsed": false
   },
   "outputs": [
    {
     "data": {
      "text/plain": [
       "['Your Logic would make Chrysler and Mercedes the same company',\n",
       " 'Heck Chrysler is carrying Mercedes',\n",
       " ' There is a HUGE difference between the Toyota/Lexus connection and the Mercedes/Chrysler connection',\n",
       " ' Mercedes and Chrysler were independent companies long before 1998 when Daimler-Benz purchased Chrysler group',\n",
       " ' Despite financial links, Mercedes maintains its independence as a separate entity from its corporate siblings',\n",
       " ' On the other-hand we have Toyota/Lexus',\n",
       " ' This isn&#146;t a matter of one company owning another company or one company merging with another company? Lexus quite literally IS Toyota in every sense',\n",
       " ' In Japan you won&#146;t find a domestic Lexus LexusLS on the road but you will see plenty of Toyota Celisors',\n",
       " ' &#147;Lexus&#148; was just re-badge stunt pulled here in the U',\n",
       " 'S',\n",
       " ' to lure unwitting American&#146;s into paying $60k for a Toyota',\n",
       " ' So yes, Lexus and Toyota are the same company? its been that way from the beginning',\n",
       " \"  All the Technology in the World is valueless if it doesn't work properly \",\n",
       " 'As I recall someone has already posted a list of often purchased parts that could effect the safety of the car',\n",
       " 'There was so much wrong with that link I&#146;m not sure where to begin',\n",
       " ' He tried to pull a fast one on all of us by posting some sort of amateur &#147;e-bay seller site&#148; and then telling us that it was definitive proof of Mercedes reliability issues',\n",
       " ' Furthermore, he claimed that he &#147;didn&#146;t see Lexus&#148; on this oh-so-professional and accurate website? which would make sense considering it was a European site and Lexus doesn&#146;t even appear on the radar in Europe',\n",
       " '  I countered by listing a news release that told of a recent recall of 150k Camry&#146;s due to defective side airbags',\n",
       " ' Furthermore, I linked to an insurance page that listed several &#147;safety problems&#148; with Lexus vehicles',\n",
       " ' The point is, if you&#146;re going to provide &#147;proof&#148; of Mercedes reliability issues, at least provide some credible proof',\n",
       " ' Also, if you&#146;re going to preach about the reliability, don&#146;t pretend that Lexus is invincible',\n",
       " ' Rear seat airbags are of little value the Curtins that protect your head and the seatbelts are the essentual safety features',\n",
       " 'So Called safety features with little more value then bragging effect is worth how much?Wrong',\n",
       " ' I am simply floored by this comment',\n",
       " ' I understand that you may want to mitigate Lexus&#146; disregard for safety by belittling the importance of side airbags, but you simply cannot',\n",
       " ' Side airbags are vital in any type of side impact',\n",
       " ' Side head airbags (pioneered by BMW) ONLY protect the head',\n",
       " ' Side airbags provide protection for the torso and pelvis that a seatbelt alone cannot',\n",
       " ' The presence of a side airbag can mean the difference between life and death',\n",
       " ' Just look at some of the side impact tests on the IIHS website and notice how cars without side airbags score extremely poorly and those same cars with side airbags score markedly better',\n",
       " ' Saying that side airbags are unimportant is just as ridiculous as saying front airbags and seatbelts are frivolous features',\n",
       " ' They once did have a great reputation for safety and innovation',\n",
       " 'If I were buying a 60s or 70s or even 80s car it would be a Mercedes',\n",
       " 'Times change many cars now have learned from Mercedes and even helped move many of Mercedes safety innovations into the 21st',\n",
       " ' Century, The result is many cars now rival Mercedes in the area of safety',\n",
       " ' The problem with this statement is that Mercedes STILL DOES have a great reputation for safety and innovation',\n",
       " ' You speak in the past tense, that they &#147;did&#148; have a great reputation, even though Mercedes has been churning out safety innovations throughout the 90s and into the present',\n",
       " ' Please, explain to me how others have &#147;helped move many innovations into the 21st century',\n",
       " '&#148; Last I checked, Mercedes was the one of the only ones pioneering these advances and furthermore had all the latest and greatest features years before Lexus',\n",
       " ' Only Volvo and BMW come close to matching the sheer number of Mercedes safety innovations',\n",
       " ' Lexus has contributed absolutely nothing and continues to leach off the R&D of others to this day',\n",
       " 'You constantly talk about cost cutting in the Lexus',\n",
       " 'That is true but far from the Negative you seem to want to project it to be',\n",
       " 'It seems pretty negative to me that Lexus decided to skimp and save $100 on their flagship sedan by not including rear side airbags',\n",
       " ' It seems pretty negative to me that Lexus decides to nickel and dime its customers for optional safety features like pre-safe',\n",
       " '  It seems pretty negative that Lexus waits upwards of 4 years before adopting critical safety features on its models like ESC and head airbags, and even then makes some of these features optional / half-assed on lower priced models',\n",
       " '  Correct me if I&#146;m wrong, but these are just a few of the many instances of Lexus cost cutting that seem pretty negative?The cost saving results partially from Lexus perfected heavy use of robots to build cars',\n",
       " 'the resulting percision is one of the primary reasons for the Lexus Reliability EDGE',\n",
       " 'Again, I already acknowledge that Lexus is more reliable',\n",
       " ' In fact, reliability is the only redeeming value of Toyota',\n",
       " \" Hopefully Toyota will force MB to make its cars more reliable, and then people won't have any reason to preach about the virtues of Lexus\",\n",
       " ' However, for me reliability takes a back seat on my priority list when I shop for a car',\n",
       " '']"
      ]
     },
     "execution_count": 27,
     "metadata": {},
     "output_type": "execute_result"
    }
   ],
   "source": []
  },
  {
   "cell_type": "code",
   "execution_count": null,
   "metadata": {
    "collapsed": true
   },
   "outputs": [],
   "source": []
  }
 ],
 "metadata": {
  "kernelspec": {
   "display_name": "Python [Root]",
   "language": "python",
   "name": "Python [Root]"
  },
  "language_info": {
   "codemirror_mode": {
    "name": "ipython",
    "version": 2
   },
   "file_extension": ".py",
   "mimetype": "text/x-python",
   "name": "python",
   "nbconvert_exporter": "python",
   "pygments_lexer": "ipython2",
   "version": "2.7.12"
  }
 },
 "nbformat": 4,
 "nbformat_minor": 0
}

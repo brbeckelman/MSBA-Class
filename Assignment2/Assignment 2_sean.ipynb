{
 "cells": [
  {
   "cell_type": "code",
   "execution_count": 216,
   "metadata": {
    "collapsed": false
   },
   "outputs": [],
   "source": [
    "import pandas as pd\n",
    "import numpy as np\n",
    "import matplotlib.pyplot as plt\n",
    "from sklearn.cross_validation import train_test_split\n",
    "from sklearn.ensemble import GradientBoostingClassifier as GBC\n",
    "from sklearn.metrics import confusion_matrix as conf_mat\n",
    "from sklearn.neighbors import KNeighborsClassifier as knn\n",
    "from sklearn.feature_extraction.text import TfidfVectorizer\n",
    "from nltk.tokenize import word_tokenize\n",
    "from sklearn.naive_bayes import BernoulliNB\n",
    "from nltk.corpus import stopwords\n",
    "from sklearn.feature_extraction.text import TfidfVectorizer\n",
    "import nltk\n",
    "%matplotlib inline"
   ]
  },
  {
   "cell_type": "markdown",
   "metadata": {},
   "source": [
    "# 1."
   ]
  },
  {
   "cell_type": "code",
   "execution_count": 11,
   "metadata": {
    "collapsed": false
   },
   "outputs": [],
   "source": [
    "df = pd.read_csv(\"C:\\\\Users\\\\Sean\\\\Desktop\\\\Fall 2016\\\\Text_Analytics\\\\Group Assignment 2\\\\Yelp Data Restaurant Reviews Ratings.csv\")"
   ]
  },
  {
   "cell_type": "code",
   "execution_count": null,
   "metadata": {
    "collapsed": true
   },
   "outputs": [],
   "source": [
    "df"
   ]
  },
  {
   "cell_type": "code",
   "execution_count": 12,
   "metadata": {
    "collapsed": true
   },
   "outputs": [],
   "source": [
    "# Took reviews out of data frame\n",
    "df_no_rev = df[['stars', 'votes_cool', 'votes_funny', 'votes_useful', 'Cheap',\\\n",
    "                'Moderate', 'Expensive', 'VeryExpensive', 'American', 'Chinese',\\\n",
    "                'French', 'Japanese', 'Indian', 'Italian', 'Greek', 'Mediterranean',\\\n",
    "                'Mexican', 'Thai', 'Vietnamese', 'Others']]\n",
    "\n",
    "# Divide the dataframe into train and test sets\n",
    "train, test = train_test_split(df_no_rev, test_size = 0.6)\n",
    "\n",
    "# Divide train and test into X and Y\n",
    "train_X = train[['votes_cool', 'votes_funny', 'votes_useful', 'Cheap', 'Moderate',\\\n",
    "       'Expensive', 'VeryExpensive', 'American', 'Chinese', 'French',\\\n",
    "       'Japanese', 'Indian', 'Italian', 'Greek', 'Mediterranean',\\\n",
    "       'Mexican', 'Thai', 'Vietnamese', 'Others']]\n",
    "train_Y = (train['stars']>=4)\n",
    "test_X = test[['votes_cool', 'votes_funny', 'votes_useful', 'Cheap', 'Moderate',\\\n",
    "       'Expensive', 'VeryExpensive', 'American', 'Chinese', 'French',\\\n",
    "       'Japanese', 'Indian', 'Italian', 'Greek', 'Mediterranean',\\\n",
    "       'Mexican', 'Thai', 'Vietnamese', 'Others']]\n",
    "test_Y = (test['stars'] >= 4)\n",
    "\n",
    "# Turn dataframes into matrices \n",
    "train_Xmat = train_X.as_matrix()\n",
    "train_Ymat = train_Y.as_matrix()\n",
    "test_Xmat = test_X.as_matrix()\n",
    "test_Ymat = test_Y.as_matrix()"
   ]
  },
  {
   "cell_type": "code",
   "execution_count": 11,
   "metadata": {
    "collapsed": false
   },
   "outputs": [],
   "source": [
    "clf1 = GBC(loss='deviance', learning_rate=0.1, n_estimators=1000,\\\n",
    "          subsample=1.0, min_samples_split=2, min_samples_leaf=1,\\\n",
    "          min_weight_fraction_leaf=0.0, max_depth=4, init=None,\\\n",
    "          random_state=None, max_features=None, verbose=0,\\\n",
    "          max_leaf_nodes=None, warm_start=False, presort='auto')"
   ]
  },
  {
   "cell_type": "code",
   "execution_count": 12,
   "metadata": {
    "collapsed": false
   },
   "outputs": [
    {
     "data": {
      "text/plain": [
       "GradientBoostingClassifier(init=None, learning_rate=0.1, loss='deviance',\n",
       "              max_depth=4, max_features=None, max_leaf_nodes=None,\n",
       "              min_samples_leaf=1, min_samples_split=2,\n",
       "              min_weight_fraction_leaf=0.0, n_estimators=1000,\n",
       "              presort='auto', random_state=None, subsample=1.0, verbose=0,\n",
       "              warm_start=False)"
      ]
     },
     "execution_count": 12,
     "metadata": {},
     "output_type": "execute_result"
    }
   ],
   "source": [
    "clf1.fit(train_Xmat, train_Ymat)"
   ]
  },
  {
   "cell_type": "code",
   "execution_count": 132,
   "metadata": {
    "collapsed": false
   },
   "outputs": [],
   "source": [
    "def model_prediction_summary(Y_actual,Y_predicted,\\\n",
    "                             Y_actual2=None,Y_predicted2=None, \\\n",
    "                             labels = ['Low','High'],\\\n",
    "                             title = 'In Sample',\n",
    "                             title2 = 'Out of Sample'):\n",
    "    \n",
    "    \"\"\"\n",
    "    Shows prediction accuracy as percent correct.\n",
    "    Plots a confusion matrix.\n",
    "    \"\"\"\n",
    "    \n",
    "    \n",
    "    if Y_actual2 == None and Y_predicted2 == None :\n",
    "        cm = conf_mat(Y_actual,Y_predicted)\n",
    "        correct = float(sum((pd.DataFrame(Y_actual)[0] == pd.Series(Y_predicted))*1))\n",
    "        total = float(len(pd.DataFrame(Y_actual)))\n",
    "        correct_rate = correct/total\n",
    "        \n",
    "        print int(correct), \"correct predictions, out of\", int(total)\n",
    "        print \"Correct ratio: \",round(correct_rate*100,2),\"%\"\n",
    "        labels = ['1','2','3','4','5']\n",
    "        plt.figure()\n",
    "        fig = plt.figure()\n",
    "        ax = fig.add_subplot(111)\n",
    "        cax = ax.matshow(cm)\n",
    "        plt.title(title)\n",
    "        fig.colorbar(cax)\n",
    "        ax.set_xticklabels([''] + labels)\n",
    "        ax.set_yticklabels([''] + labels)\n",
    "        plt.xlabel('Predicted')\n",
    "        plt.ylabel('True')\n",
    "        plt.show()\n",
    "    elif Y_actual2 != None and Y_predicted2 != None:\n",
    "\n",
    "        fig, ((ax1), (ax2)) = plt.subplots(nrows=2, ncols=1)\n",
    "        cm1 = conf_mat(Y_actual,Y_predicted)\n",
    "        cm2 = conf_mat(Y_actual2,Y_predicted2)\n",
    "        \n",
    "        fig = plt.figure(1)\n",
    "        fig.set_size_inches(8*1.5,6*1.5)\n",
    "        \n",
    "        cax1 = ax1.matshow(cm1)\n",
    "        ax1.set_title(title, y=1.2)\n",
    "        fig.colorbar(cax1, ax = ax1)\n",
    "        ax1.set_xticklabels([''] + labels)\n",
    "        ax1.set_yticklabels([''] + labels)\n",
    "        ax1.set_xlabel('Predicted')\n",
    "        ax1.set_ylabel('True')\n",
    "\n",
    "        cax2 = ax2.matshow(cm2)\n",
    "        ax2.set_title(title2, y=1.2)\n",
    "        fig.colorbar(cax2, ax = ax2)\n",
    "        ax2.set_xticklabels([''] + labels)\n",
    "        ax2.set_yticklabels([''] + labels)\n",
    "        ax2.set_xlabel('Predicted')\n",
    "        ax2.set_ylabel('True')\n",
    "        \n",
    "        plt.subplots_adjust(left=None, bottom=None, right=None, top=None,\\\n",
    "                            wspace=None,hspace=None)\n",
    "        \n",
    "        fig.tight_layout()\n",
    "        \n",
    "        plt.show()\n",
    "        \n",
    "        correct = float(sum((pd.DataFrame(Y_actual)[0] == pd.Series(Y_predicted))*1))\n",
    "        total = float(len(pd.DataFrame(Y_actual)))\n",
    "        correct_rate = correct/total\n",
    "        print\n",
    "        print\n",
    "        print \"In sample predictions:\"\n",
    "        print int(correct), \"correct predictions, out of\", int(total)\n",
    "        print \"Accuracy: \",round(correct_rate*100,2),\"%\"\n",
    "        print\n",
    "        print\n",
    "        correct2 = float(sum((pd.DataFrame(Y_actual2)[0] == pd.Series(Y_predicted2))*1))\n",
    "        total2 = float(len(pd.DataFrame(Y_actual2)))\n",
    "        correct_rate2 = correct2/total2\n",
    "        \n",
    "        print \"Out of sample predictions:\"\n",
    "        print int(correct2), \"correct predictions, out of\", int(total2)\n",
    "        print \"Accuracy: \",round(correct_rate2*100,2),\"%\"\n",
    "    else:\n",
    "        raise ValueError('You done screwed the pooch')"
   ]
  },
  {
   "cell_type": "code",
   "execution_count": 14,
   "metadata": {
    "collapsed": false
   },
   "outputs": [],
   "source": [
    "j = clf1.predict(train_Xmat)\n",
    "k = clf1.predict(test_Xmat)"
   ]
  },
  {
   "cell_type": "markdown",
   "metadata": {},
   "source": [
    "## Gradient Boosting Classifier Model"
   ]
  },
  {
   "cell_type": "code",
   "execution_count": 15,
   "metadata": {
    "collapsed": false
   },
   "outputs": [
    {
     "name": "stderr",
     "output_type": "stream",
     "text": [
      "C:\\Users\\Sean\\AppData\\Local\\Continuum\\Anaconda2\\lib\\site-packages\\ipykernel\\__main__.py:10: FutureWarning: comparison to `None` will result in an elementwise object comparison in the future.\n",
      "C:\\Users\\Sean\\AppData\\Local\\Continuum\\Anaconda2\\lib\\site-packages\\ipykernel\\__main__.py:30: FutureWarning: comparison to `None` will result in an elementwise object comparison in the future.\n"
     ]
    },
    {
     "data": {
      "image/png": "[encoded data removed]",
      "text/plain": [
       "<matplotlib.figure.Figure at 0xf47e1d0>"
      ]
     },
     "metadata": {},
     "output_type": "display_data"
    },
    {
     "name": "stdout",
     "output_type": "stream",
     "text": [
      "\n",
      "\n",
      "In sample predictions:\n",
      "5856 correct predictions, out of 7999\n",
      "Accuracy:  73.21 %\n",
      "\n",
      "\n",
      "Out of sample predictions:\n",
      "8099 correct predictions, out of 12000\n",
      "Accuracy:  67.49 %\n"
     ]
    }
   ],
   "source": [
    "model_prediction_summary(train_Ymat,j,\\\n",
    "                             test_Ymat,k, \\\n",
    "                             labels = ['1','2','3','4','5'],\\\n",
    "                             title = 'In Sample',\n",
    "                             title2 = 'Out of Sample')"
   ]
  },
  {
   "cell_type": "markdown",
   "metadata": {},
   "source": [
    "## KNN"
   ]
  },
  {
   "cell_type": "code",
   "execution_count": 32,
   "metadata": {
    "collapsed": true
   },
   "outputs": [],
   "source": [
    "kn = knn()"
   ]
  },
  {
   "cell_type": "code",
   "execution_count": 33,
   "metadata": {
    "collapsed": false
   },
   "outputs": [
    {
     "data": {
      "text/plain": [
       "KNeighborsClassifier(algorithm='auto', leaf_size=30, metric='minkowski',\n",
       "           metric_params=None, n_jobs=1, n_neighbors=5, p=2,\n",
       "           weights='uniform')"
      ]
     },
     "execution_count": 33,
     "metadata": {},
     "output_type": "execute_result"
    }
   ],
   "source": [
    "kn.fit(train_Xmat, train_Ymat)"
   ]
  },
  {
   "cell_type": "code",
   "execution_count": 34,
   "metadata": {
    "collapsed": true
   },
   "outputs": [],
   "source": [
    "L = kn.predict(train_Xmat)\n",
    "m = kn.predict(test_Xmat)"
   ]
  },
  {
   "cell_type": "code",
   "execution_count": 35,
   "metadata": {
    "collapsed": false
   },
   "outputs": [
    {
     "name": "stderr",
     "output_type": "stream",
     "text": [
      "C:\\Users\\Sean\\AppData\\Local\\Continuum\\Anaconda2\\lib\\site-packages\\ipykernel\\__main__.py:10: FutureWarning: comparison to `None` will result in an elementwise object comparison in the future.\n",
      "C:\\Users\\Sean\\AppData\\Local\\Continuum\\Anaconda2\\lib\\site-packages\\ipykernel\\__main__.py:30: FutureWarning: comparison to `None` will result in an elementwise object comparison in the future.\n"
     ]
    },
    {
     "data": {
      "image/png": "[encoded data removed]",
      "text/plain": [
       "<matplotlib.figure.Figure at 0xf59cb00>"
      ]
     },
     "metadata": {},
     "output_type": "display_data"
    },
    {
     "name": "stdout",
     "output_type": "stream",
     "text": [
      "\n",
      "\n",
      "In sample predictions:\n",
      "5341 correct predictions, out of 7999\n",
      "Accuracy:  66.77 %\n",
      "\n",
      "\n",
      "Out of sample predictions:\n",
      "7377 correct predictions, out of 12000\n",
      "Accuracy:  61.48 %\n"
     ]
    }
   ],
   "source": [
    "model_prediction_summary(train_Ymat,L,\\\n",
    "                             test_Ymat,m, \\\n",
    "                             labels = ['Low','High'],\\\n",
    "                             title = 'In Sample',\n",
    "                             title2 = 'Out of Sample')"
   ]
  },
  {
   "cell_type": "markdown",
   "metadata": {},
   "source": [
    "## Gradient Boost, factoring in KNN results"
   ]
  },
  {
   "cell_type": "code",
   "execution_count": 36,
   "metadata": {
    "collapsed": false
   },
   "outputs": [],
   "source": [
    "train_X_wKNN = train_X\n",
    "train_X_wKNN = train_X_wKNN.reset_index()\n",
    "train_X_wKNN[\"KNN Pred\"] = pd.Series(L)\n",
    "\n",
    "test_X_wKNN = test_X\n",
    "test_X_wKNN = test_X_wKNN.reset_index()\n",
    "test_X_wKNN[\"KNN Pred\"] = pd.Series(m)\n",
    "\n",
    "# Turn dataframes into matrices \n",
    "train_Xmat_wKNN = train_X_wKNN.as_matrix()\n",
    "train_Ymat = train_Y.as_matrix()\n",
    "test_Xmat_wKNN = test_X_wKNN.as_matrix()\n",
    "test_Ymat = test_Y.as_matrix()"
   ]
  },
  {
   "cell_type": "code",
   "execution_count": 37,
   "metadata": {
    "collapsed": true
   },
   "outputs": [],
   "source": [
    "clf2 = GBC(loss='deviance', learning_rate=0.1, n_estimators=1000,\\\n",
    "          subsample=1.0, min_samples_split=2, min_samples_leaf=1,\\\n",
    "          min_weight_fraction_leaf=0.0, max_depth=4, init=None,\\\n",
    "          random_state=None, max_features=None, verbose=0,\\\n",
    "          max_leaf_nodes=None, warm_start=False, presort='auto')"
   ]
  },
  {
   "cell_type": "code",
   "execution_count": 38,
   "metadata": {
    "collapsed": false
   },
   "outputs": [
    {
     "data": {
      "text/plain": [
       "GradientBoostingClassifier(init=None, learning_rate=0.1, loss='deviance',\n",
       "              max_depth=4, max_features=None, max_leaf_nodes=None,\n",
       "              min_samples_leaf=1, min_samples_split=2,\n",
       "              min_weight_fraction_leaf=0.0, n_estimators=1000,\n",
       "              presort='auto', random_state=None, subsample=1.0, verbose=0,\n",
       "              warm_start=False)"
      ]
     },
     "execution_count": 38,
     "metadata": {},
     "output_type": "execute_result"
    }
   ],
   "source": [
    "clf2.fit(train_Xmat_wKNN, train_Ymat)"
   ]
  },
  {
   "cell_type": "code",
   "execution_count": 39,
   "metadata": {
    "collapsed": false
   },
   "outputs": [],
   "source": [
    "n = clf2.predict(train_Xmat_wKNN)\n",
    "o = clf2.predict(test_Xmat_wKNN)"
   ]
  },
  {
   "cell_type": "code",
   "execution_count": 40,
   "metadata": {
    "collapsed": false
   },
   "outputs": [
    {
     "name": "stderr",
     "output_type": "stream",
     "text": [
      "C:\\Users\\Sean\\AppData\\Local\\Continuum\\Anaconda2\\lib\\site-packages\\ipykernel\\__main__.py:10: FutureWarning: comparison to `None` will result in an elementwise object comparison in the future.\n",
      "C:\\Users\\Sean\\AppData\\Local\\Continuum\\Anaconda2\\lib\\site-packages\\ipykernel\\__main__.py:30: FutureWarning: comparison to `None` will result in an elementwise object comparison in the future.\n"
     ]
    },
    {
     "data": {
      "image/png": "[encoded data removed]",
      "text/plain": [
       "<matplotlib.figure.Figure at 0xcb22da0>"
      ]
     },
     "metadata": {},
     "output_type": "display_data"
    },
    {
     "name": "stdout",
     "output_type": "stream",
     "text": [
      "\n",
      "\n",
      "In sample predictions:\n",
      "6904 correct predictions, out of 7999\n",
      "Accuracy:  86.31 %\n",
      "\n",
      "\n",
      "Out of sample predictions:\n",
      "8019 correct predictions, out of 12000\n",
      "Accuracy:  66.83 %\n"
     ]
    }
   ],
   "source": [
    "model_prediction_summary(train_Ymat,n,\\\n",
    "                             test_Ymat,o, \\\n",
    "                             labels = ['Low','High'],\\\n",
    "                             title = 'In Sample',\n",
    "                             title2 = 'Out of Sample')"
   ]
  },
  {
   "cell_type": "markdown",
   "metadata": {},
   "source": [
    "# 2."
   ]
  },
  {
   "cell_type": "code",
   "execution_count": 13,
   "metadata": {
    "collapsed": false
   },
   "outputs": [],
   "source": [
    "rev_df = df[[\"stars\",\"Review\"]]"
   ]
  },
  {
   "cell_type": "code",
   "execution_count": 194,
   "metadata": {
    "collapsed": false
   },
   "outputs": [],
   "source": [
    "train_rev, test_rev = train_test_split(rev_df, train_size = .4)\n",
    "\n",
    "train_revX = train_rev[\"Review\"]\n",
    "train_revX = train_revX.reset_index()\n",
    "train_revX = train_revX[\"Review\"]\n",
    "\n",
    "train_revY = (train_rev[\"stars\"]>=4)*1\n",
    "train_revY = train_revY.reset_index()\n",
    "train_revY = train_revY[\"stars\"]\n",
    "\n",
    "test_revX = test_rev[\"Review\"]\n",
    "test_revX = test_revX.reset_index()\n",
    "test_revX = test_revX[\"Review\"]\n",
    "\n",
    "test_revY = (test_rev[\"stars\"]>=4)*1\n",
    "test_revY = test_revY.reset_index()\n",
    "test_revY = test_revY[\"stars\"]\n",
    "\n",
    "train_revXmat = train_revX.as_matrix()\n",
    "train_revYmat = train_revY.as_matrix()\n",
    "test_revXmat = test_revX.as_matrix()\n",
    "test_revYmat = test_revY.as_matrix()"
   ]
  },
  {
   "cell_type": "code",
   "execution_count": 255,
   "metadata": {
    "collapsed": true
   },
   "outputs": [],
   "source": [
    "def word_formatter(Xseries,Yseries):\n",
    "    Xseries_token = Xseries.map(lambda x: word_tokenize(x.decode(\"utf8\")))\n",
    "    filtered_words = Xseries_token.map(lambda x: [word for word in x if word not in stopwords.words('english')])\n",
    "    Xseries_comb = filtered_words.map(lambda x: \" \".join(x))\n",
    "    Yseries_lab = Yseries.apply(lambda x: 'pos' if x==1 else 'neg')\n",
    "    zipped = zip(Xseries_comb,Yseries_lab)\n",
    "    all_words = set(word.lower() for passage in zipped for word in \\\n",
    "        word_tokenize(passage[0]))\n",
    "    t = [({word: (word in word_tokenize(x[0])) for word in all_words}, \\\n",
    "        x[1]) for x in zipped]\n",
    "    return t"
   ]
  },
  {
   "cell_type": "code",
   "execution_count": null,
   "metadata": {
    "collapsed": false
   },
   "outputs": [],
   "source": [
    "# Do not re-run this block unless you have 5 hours to spare\n",
    "\n",
    "train_form = word_formatter(train_revX,train_revY)"
   ]
  },
  {
   "cell_type": "code",
   "execution_count": null,
   "metadata": {
    "collapsed": false
   },
   "outputs": [],
   "source": [
    "classifier = nltk.NaiveBayesClassifier.train(train_form)\n",
    "classifier.show_most_informative_features()"
   ]
  },
  {
   "cell_type": "code",
   "execution_count": null,
   "metadata": {
    "collapsed": false
   },
   "outputs": [],
   "source": [
    "def word_feats(words):\n",
    "    return dict([(word, True) for word in words])"
   ]
  },
  {
   "cell_type": "code",
   "execution_count": null,
   "metadata": {
    "collapsed": false
   },
   "outputs": [],
   "source": [
    "Xseries_token = test_revX.map(lambda x: word_tokenize(x.decode(\"utf8\")))\n",
    "filtered_words = Xseries_token.map(lambda x: [word for word in x if word not in stopwords.words('english')])\n",
    "word_f = filtered_words.map(lambda x: word_feats(x))\n",
    "prediction = word_f.map(lambda x: classifier.classify(x))"
   ]
  },
  {
   "cell_type": "code",
   "execution_count": null,
   "metadata": {
    "collapsed": true
   },
   "outputs": [],
   "source": [
    "pred_mat = prediction.as_matrix()\n",
    "test_revY_mat = test_revY.apply(lambda x: 'pos' if x==1 else 'neg').as_matrix()"
   ]
  },
  {
   "cell_type": "code",
   "execution_count": null,
   "metadata": {
    "collapsed": false
   },
   "outputs": [],
   "source": [
    "model_prediction_summary(test_revY_mat,pred_mat,\\\n",
    "                             labels = ['Low','High'],\\\n",
    "                             title = 'In Sample',\n",
    "                             title2 = 'Out of Sample')"
   ]
  },
  {
   "cell_type": "code",
   "execution_count": null,
   "metadata": {
    "collapsed": true
   },
   "outputs": [],
   "source": []
  },
  {
   "cell_type": "code",
   "execution_count": 62,
   "metadata": {
    "collapsed": false
   },
   "outputs": [],
   "source": []
  },
  {
   "cell_type": "code",
   "execution_count": null,
   "metadata": {
    "collapsed": true
   },
   "outputs": [],
   "source": [
    "train_token = train_revX.map(lambda x: word_tokenize(x.decode(\"utf8\")))\n",
    "train_pos = train_token.map(lambda x: nltk.pos_tag(x))\n",
    "train_comb = train_token.map(lambda x: \" \".join(x))"
   ]
  },
  {
   "cell_type": "code",
   "execution_count": 63,
   "metadata": {
    "collapsed": false
   },
   "outputs": [],
   "source": []
  },
  {
   "cell_type": "code",
   "execution_count": 64,
   "metadata": {
    "collapsed": false
   },
   "outputs": [],
   "source": [
    "train_revY2 = train_revY.apply(lambda x: 'pos' if x==1 else 'neg')"
   ]
  },
  {
   "cell_type": "code",
   "execution_count": 77,
   "metadata": {
    "collapsed": false
   },
   "outputs": [],
   "source": [
    "train_zip = zip(train_comb,train_revY2)"
   ]
  },
  {
   "cell_type": "code",
   "execution_count": null,
   "metadata": {
    "collapsed": true
   },
   "outputs": [],
   "source": []
  },
  {
   "cell_type": "code",
   "execution_count": null,
   "metadata": {
    "collapsed": true
   },
   "outputs": [],
   "source": []
  },
  {
   "cell_type": "code",
   "execution_count": 195,
   "metadata": {
    "collapsed": false
   },
   "outputs": [
    {
     "name": "stdout",
     "output_type": "stream",
     "text": [
      "Fit Vectorizer to train set [[1 0 1 0]\n",
      " [0 1 0 1]]\n",
      "Transform Vectorizer to test set [[0 1 1 1]]\n",
      "\n",
      "[[ 0.70710678  0.          0.70710678  0.        ]\n",
      " [ 0.          0.70710678  0.          0.70710678]]\n",
      "\n",
      "[[ 0.          0.57735027  0.57735027  0.57735027]]\n"
     ]
    }
   ],
   "source": [
    "from sklearn.feature_extraction.text import CountVectorizer\n",
    "from sklearn.feature_extraction.text import TfidfTransformer\n",
    "from nltk.corpus import stopwords\n",
    "import numpy as np\n",
    "import numpy.linalg as LA\n",
    "\n",
    "train_set = [\"The sky is blue.\", \"The sun is bright.\"] #Documents\n",
    "test_set = [\"The sun in the sky is bright.\"] #Query\n",
    "stopWords = stopwords.words('english')\n",
    "\n",
    "vectorizer = CountVectorizer(stop_words = stopWords)\n",
    "#print vectorizer\n",
    "transformer = TfidfTransformer()\n",
    "#print transformer\n",
    "\n",
    "trainVectorizerArray = vectorizer.fit_transform(train_set).toarray()\n",
    "testVectorizerArray = vectorizer.transform(test_set).toarray()\n",
    "print 'Fit Vectorizer to train set', trainVectorizerArray\n",
    "print 'Transform Vectorizer to test set', testVectorizerArray\n",
    "\n",
    "transformer.fit(trainVectorizerArray)\n",
    "print\n",
    "print transformer.transform(trainVectorizerArray).toarray()\n",
    "\n",
    "transformer.fit(testVectorizerArray)\n",
    "print \n",
    "tfidf = transformer.transform(testVectorizerArray)\n",
    "print tfidf.todense()"
   ]
  },
  {
   "cell_type": "code",
   "execution_count": 229,
   "metadata": {
    "collapsed": false
   },
   "outputs": [
    {
     "name": "stdout",
     "output_type": "stream",
     "text": [
      "[   1 6902 3436 2439]\n",
      "[ 1.          0.33444704  0.30095758  0.26509017]\n",
      "0\n",
      "1\n",
      "1\n",
      "0\n"
     ]
    }
   ],
   "source": [
    "\n",
    "#from sklearn.datasets import fetch_20newsgroups\n",
    "#twenty = fetch_20newsgroups()\n",
    "\n",
    "tfidf[1:2]\n",
    "\n",
    "from sklearn.metrics.pairwise import linear_kernel\n",
    "cosine_similarities = linear_kernel(tfidf[1:2], tfidf).flatten()\n",
    "cosine_similarities\n",
    "\n",
    "related_docs_indices = cosine_similarities.argsort()[:-5:-1]\n",
    "print related_docs_indices\n",
    "\n",
    "print cosine_similarities[related_docs_indices]\n",
    "\n",
    "for i in related_docs_indices:\n",
    "    print train_revY.ix[i]\n",
    "\n",
    "#twenty"
   ]
  },
  {
   "cell_type": "markdown",
   "metadata": {},
   "source": [
    "## TF-IDF COSINE SIMILARITY MODEL"
   ]
  },
  {
   "cell_type": "code",
   "execution_count": 251,
   "metadata": {
    "collapsed": false
   },
   "outputs": [],
   "source": [
    "from sklearn.metrics.pairwise import linear_kernel\n",
    "from sklearn import linear_model\n",
    "\n",
    "\n",
    "def cos_similarity_classifier(train_revX_Series,train_revY_Series,\\\n",
    "                              test_revX_Series=None,\\\n",
    "                              nvotes=1):\n",
    "    \n",
    "    if test_revX_Series==None:\n",
    "        train_revXmat = train_revX_Series.as_matrix()\n",
    "\n",
    "        tfidf = TfidfVectorizer().fit_transform(train_revXmat)\n",
    "\n",
    "\n",
    "\n",
    "\n",
    "\n",
    "        In_sample_y_pred = []\n",
    "\n",
    "\n",
    "    \n",
    "        for i in range(len(train_revYmat)):\n",
    "            cosine_similarities = linear_kernel(tfidf[i:i+1], tfidf).flatten()\n",
    "\n",
    "            related_docs_indices = cosine_similarities.argsort()[:(-1-nvotes):-1]\n",
    "\n",
    "\n",
    "            votes = []\n",
    "\n",
    "            for j in range(nvotes-1):\n",
    "                votes.append(train_revY_Series.ix[related_docs_indices[j+1]])\n",
    "            pos = 0\n",
    "            neg = 0\n",
    "            for k in range(nvotes-1):\n",
    "                pos = pos + votes[k]\n",
    "                neg = (neg - votes[k])**2\n",
    "            if neg > pos:\n",
    "                In_sample_y_pred.append(0)\n",
    "            else:\n",
    "                In_sample_y_pred.append(1)\n",
    "\n",
    "            return In_sample_y_pred\n",
    "    else:\n",
    "        train_revXmat = train_revX_Series.as_matrix()\n",
    "\n",
    "        tfidf = TfidfVectorizer().fit_transform(train_revXmat)\n",
    "        \n",
    "        In_sample_y_pred = []\n",
    "        \n",
    "        test = vectorizer.transform(test_revX_Series)\n",
    "        clf = linear_model.SGDClassifier(loss='log')\n",
    "        clf.fit(X,Y)\n",
    "        x=clf.predict(test)\n",
    "        \n",
    "        returnx\n"
   ]
  },
  {
   "cell_type": "code",
   "execution_count": 246,
   "metadata": {
    "collapsed": false
   },
   "outputs": [
    {
     "name": "stdout",
     "output_type": "stream",
     "text": [
      "5421 correct predictions, out of 7999\n",
      "Correct ratio:  67.77 %\n"
     ]
    },
    {
     "data": {
      "text/plain": [
       "<matplotlib.figure.Figure at 0x42e5f048>"
      ]
     },
     "metadata": {},
     "output_type": "display_data"
    },
    {
     "data": {
      "image/png": "[encoded data removed]",
      "text/plain": [
       "<matplotlib.figure.Figure at 0x406e25f8>"
      ]
     },
     "metadata": {},
     "output_type": "display_data"
    }
   ],
   "source": [
    "model_prediction_summary(train_revYmat,In_sample_y_pred,train_revXmat,\\\n",
    "                             labels = ['Neg','Pos'],\\\n",
    "                             title = 'In Sample')"
   ]
  },
  {
   "cell_type": "code",
   "execution_count": 252,
   "metadata": {
    "collapsed": false
   },
   "outputs": [
    {
     "name": "stderr",
     "output_type": "stream",
     "text": [
      "C:\\Users\\Sean\\AppData\\Local\\Continuum\\Anaconda2\\lib\\site-packages\\ipykernel\\__main__.py:7: FutureWarning: comparison to `None` will result in an elementwise object comparison in the future.\n"
     ]
    },
    {
     "ename": "NameError",
     "evalue": "global name 'X' is not defined",
     "output_type": "error",
     "traceback": [
      "\u001b[1;31m---------------------------------------------------------------------------\u001b[0m",
      "\u001b[1;31mNameError\u001b[0m                                 Traceback (most recent call last)",
      "\u001b[1;32m<ipython-input-252-dccd299f3464>\u001b[0m in \u001b[0;36m<module>\u001b[1;34m()\u001b[0m\n\u001b[1;32m----> 1\u001b[1;33m \u001b[0mcos_similarity_classifier\u001b[0m\u001b[1;33m(\u001b[0m\u001b[0mtrain_revX\u001b[0m\u001b[1;33m,\u001b[0m\u001b[0mtrain_revY\u001b[0m\u001b[1;33m,\u001b[0m                              \u001b[0mtest_revXmat\u001b[0m\u001b[1;33m,\u001b[0m                              \u001b[0mnvotes\u001b[0m\u001b[1;33m=\u001b[0m\u001b[1;36m1\u001b[0m\u001b[1;33m)\u001b[0m\u001b[1;33m\u001b[0m\u001b[0m\n\u001b[0m",
      "\u001b[1;32m<ipython-input-251-ed0707215d68>\u001b[0m in \u001b[0;36mcos_similarity_classifier\u001b[1;34m(train_revX_Series, train_revY_Series, test_revX_Series, nvotes)\u001b[0m\n\u001b[0;32m     48\u001b[0m         \u001b[0mtest\u001b[0m \u001b[1;33m=\u001b[0m \u001b[0mvectorizer\u001b[0m\u001b[1;33m.\u001b[0m\u001b[0mtransform\u001b[0m\u001b[1;33m(\u001b[0m\u001b[0mtest_revX_Series\u001b[0m\u001b[1;33m)\u001b[0m\u001b[1;33m\u001b[0m\u001b[0m\n\u001b[0;32m     49\u001b[0m         \u001b[0mclf\u001b[0m \u001b[1;33m=\u001b[0m \u001b[0mlinear_model\u001b[0m\u001b[1;33m.\u001b[0m\u001b[0mSGDClassifier\u001b[0m\u001b[1;33m(\u001b[0m\u001b[0mloss\u001b[0m\u001b[1;33m=\u001b[0m\u001b[1;34m'log'\u001b[0m\u001b[1;33m)\u001b[0m\u001b[1;33m\u001b[0m\u001b[0m\n\u001b[1;32m---> 50\u001b[1;33m         \u001b[0mclf\u001b[0m\u001b[1;33m.\u001b[0m\u001b[0mfit\u001b[0m\u001b[1;33m(\u001b[0m\u001b[0mX\u001b[0m\u001b[1;33m,\u001b[0m\u001b[0mY\u001b[0m\u001b[1;33m)\u001b[0m\u001b[1;33m\u001b[0m\u001b[0m\n\u001b[0m\u001b[0;32m     51\u001b[0m         \u001b[0mx\u001b[0m\u001b[1;33m=\u001b[0m\u001b[0mclf\u001b[0m\u001b[1;33m.\u001b[0m\u001b[0mpredict\u001b[0m\u001b[1;33m(\u001b[0m\u001b[0mtest\u001b[0m\u001b[1;33m)\u001b[0m\u001b[1;33m\u001b[0m\u001b[0m\n\u001b[0;32m     52\u001b[0m \u001b[1;33m\u001b[0m\u001b[0m\n",
      "\u001b[1;31mNameError\u001b[0m: global name 'X' is not defined"
     ]
    }
   ],
   "source": [
    "cos_similarity_classifier(train_revX,train_revY,\\\n",
    "                              test_revXmat,\\\n",
    "                              nvotes=1)"
   ]
  }
 ],
 "metadata": {
  "kernelspec": {
   "display_name": "Python 2",
   "language": "python",
   "name": "python2"
  },
  "language_info": {
   "codemirror_mode": {
    "name": "ipython",
    "version": 2
   },
   "file_extension": ".py",
   "mimetype": "text/x-python",
   "name": "python",
   "nbconvert_exporter": "python",
   "pygments_lexer": "ipython2",
   "version": "2.7.12"
  }
 },
 "nbformat": 4,
 "nbformat_minor": 0
}

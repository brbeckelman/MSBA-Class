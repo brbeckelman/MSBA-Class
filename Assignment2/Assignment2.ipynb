{
 "cells": [
  {
   "cell_type": "markdown",
   "metadata": {},
   "source": [
    "# TEXT ANALYTICS GROUP ASSIGNMENT #2"
   ]
  },
  {
   "cell_type": "markdown",
   "metadata": {},
   "source": [
    "#### Group Members: Brooks Beckelman, Zack Bilderback, Dallas Griffin, Estevan Gonzalez, Sean Kessel, Davis Townsend"
   ]
  },
  {
   "cell_type": "code",
   "execution_count": 2,
   "metadata": {
    "collapsed": false
   },
   "outputs": [
    {
     "name": "stdout",
     "output_type": "stream",
     "text": [
      "Populating the interactive namespace from numpy and matplotlib\n"
     ]
    }
   ],
   "source": [
    "import pandas as pd\n",
    "from pandas import Series, DataFrame\n",
    "%pylab inline\n",
    "\n",
    "import seaborn as sns\n",
    "\n",
    "import sklearn\n",
    "from sklearn.cross_validation import train_test_split\n",
    "from sklearn import linear_model\n",
    "from sklearn import metrics\n",
    "from sklearn.neighbors import KNeighborsClassifier\n",
    "from sklearn.naive_bayes import MultinomialNB\n",
    "from sklearn.feature_extraction.text import CountVectorizer"
   ]
  },
  {
   "cell_type": "code",
   "execution_count": 3,
   "metadata": {
    "collapsed": false
   },
   "outputs": [],
   "source": [
    "yelp = pd.read_csv('YelpData.csv')"
   ]
  },
  {
   "cell_type": "code",
   "execution_count": 4,
   "metadata": {
    "collapsed": false
   },
   "outputs": [
    {
     "data": {
      "text/html": [
       "<div>\n",
       "<table border=\"1\" class=\"dataframe\">\n",
       "  <thead>\n",
       "    <tr style=\"text-align: right;\">\n",
       "      <th></th>\n",
       "      <th>stars</th>\n",
       "      <th>votes_cool</th>\n",
       "      <th>votes_funny</th>\n",
       "      <th>votes_useful</th>\n",
       "      <th>Cheap</th>\n",
       "      <th>Moderate</th>\n",
       "      <th>Expensive</th>\n",
       "      <th>VeryExpensive</th>\n",
       "      <th>American</th>\n",
       "      <th>Chinese</th>\n",
       "      <th>...</th>\n",
       "      <th>Indian</th>\n",
       "      <th>Italian</th>\n",
       "      <th>Greek</th>\n",
       "      <th>Mediterranean</th>\n",
       "      <th>Mexican</th>\n",
       "      <th>Thai</th>\n",
       "      <th>Vietnamese</th>\n",
       "      <th>Others</th>\n",
       "      <th>Review</th>\n",
       "      <th>rating</th>\n",
       "    </tr>\n",
       "  </thead>\n",
       "  <tbody>\n",
       "    <tr>\n",
       "      <th>0</th>\n",
       "      <td>1</td>\n",
       "      <td>0</td>\n",
       "      <td>0</td>\n",
       "      <td>0</td>\n",
       "      <td>1</td>\n",
       "      <td>0</td>\n",
       "      <td>0</td>\n",
       "      <td>0</td>\n",
       "      <td>0</td>\n",
       "      <td>0</td>\n",
       "      <td>...</td>\n",
       "      <td>0</td>\n",
       "      <td>0</td>\n",
       "      <td>0</td>\n",
       "      <td>0</td>\n",
       "      <td>0</td>\n",
       "      <td>0</td>\n",
       "      <td>0</td>\n",
       "      <td>1</td>\n",
       "      <td>This location is out of business. I drove by i...</td>\n",
       "      <td>low</td>\n",
       "    </tr>\n",
       "  </tbody>\n",
       "</table>\n",
       "<p>1 rows × 22 columns</p>\n",
       "</div>"
      ],
      "text/plain": [
       "   stars  votes_cool  votes_funny  votes_useful  Cheap  Moderate  Expensive  \\\n",
       "0      1           0            0             0      1         0          0   \n",
       "\n",
       "   VeryExpensive  American  Chinese   ...    Indian  Italian  Greek  \\\n",
       "0              0         0        0   ...         0        0      0   \n",
       "\n",
       "   Mediterranean  Mexican  Thai  Vietnamese  Others  \\\n",
       "0              0        0     0           0       1   \n",
       "\n",
       "                                              Review  rating  \n",
       "0  This location is out of business. I drove by i...     low  \n",
       "\n",
       "[1 rows x 22 columns]"
      ]
     },
     "execution_count": 4,
     "metadata": {},
     "output_type": "execute_result"
    }
   ],
   "source": [
    "# Convert rating to high (4,5) or low (1,2,3) for binary classification\n",
    "yelp['rating'] = np.where(yelp['stars'] >= 4, 'high','low')\n",
    "yelp.head(1)"
   ]
  },
  {
   "cell_type": "markdown",
   "metadata": {},
   "source": [
    "## Task A: Model Using Numeric Data Only"
   ]
  },
  {
   "cell_type": "markdown",
   "metadata": {},
   "source": [
    "### Approach:\n",
    "To assess the predictive power of the numerical data, we will isolate it from the actual reviews and build a few different models. These models will be fit to a training set of 75% of the data and then used to predict a test set of the remaining 25%. The accuracy of these predictions compared to a base case (predicting all reviews to have a 'high' rating) should give us an idea of the out-of-sample predictive ability of the numerical data. \n"
   ]
  },
  {
   "cell_type": "code",
   "execution_count": 5,
   "metadata": {
    "collapsed": true
   },
   "outputs": [],
   "source": [
    "# Split data into train and test sets\n",
    "train, test = train_test_split(yelp, test_size=0.25, random_state=123)\n",
    "\n",
    "x_train = train.drop(['stars', 'Review', 'rating'], axis=1)\n",
    "y_train = train['rating']\n",
    "\n",
    "x_test = test.drop(['stars', 'Review', 'rating'], axis=1)\n",
    "y_test = test['rating']"
   ]
  },
  {
   "cell_type": "markdown",
   "metadata": {},
   "source": [
    "### Base Case:\n",
    "The base case simply predicts all reviews to have a 'high' rating. This approach predicts the rating class correctly for just under 68% of the samples in the data set. Going forward, we will compare the accuracy of our models to this baseline to give us an idea of how well the models are performing."
   ]
  },
  {
   "cell_type": "code",
   "execution_count": 6,
   "metadata": {
    "collapsed": false
   },
   "outputs": [],
   "source": [
    "# Create base case that predicts all reviews to have a 'high' rating\n",
    "base = ['high']*len(yelp)\n",
    "base = np.asarray(base)"
   ]
  },
  {
   "cell_type": "code",
   "execution_count": 7,
   "metadata": {
    "collapsed": false
   },
   "outputs": [
    {
     "name": "stdout",
     "output_type": "stream",
     "text": [
      "Precision:0.677683884194\n",
      "Recall: 1.0\n",
      "Accuracy: 0.677683884194\n"
     ]
    }
   ],
   "source": [
    "# Base Case Metrics\n",
    "print 'Precision:' + str(metrics.precision_score(yelp['rating'], base, average = 'binary', pos_label='high'))\n",
    "print 'Recall: ' + str(metrics.recall_score(yelp['rating'], base, average = 'binary', pos_label='high'))\n",
    "print 'Accuracy: ' + str(metrics.accuracy_score(yelp['rating'], base))"
   ]
  },
  {
   "cell_type": "markdown",
   "metadata": {},
   "source": [
    "### Logistic Regression:\n",
    "A logistic regression model using only the numeric data yields an accuracy of about 68.44% on our test set. This is only slightly better than our base case, indicating that the model's predictive power is not very strong."
   ]
  },
  {
   "cell_type": "code",
   "execution_count": 8,
   "metadata": {
    "collapsed": false
   },
   "outputs": [],
   "source": [
    "# Fit logistic regression on training data\n",
    "logreg = linear_model.LogisticRegression()\n",
    "logreg_classifier = logreg.fit(x_train, y_train)\n",
    "\n",
    "# Make predictions for test set\n",
    "logreg_predict = logreg.predict(x_test)"
   ]
  },
  {
   "cell_type": "code",
   "execution_count": 9,
   "metadata": {
    "collapsed": false
   },
   "outputs": [
    {
     "name": "stdout",
     "output_type": "stream",
     "text": [
      "LOGISTIC REGRESSION: \n",
      "Precision:0.689127738735\n",
      "Recall: 0.978286384977\n",
      "Accuracy: 0.6844\n"
     ]
    }
   ],
   "source": [
    "# Model Metrics\n",
    "print 'LOGISTIC REGRESSION: '\n",
    "print 'Precision:' + str(metrics.precision_score(y_test, logreg_predict, average = 'binary', pos_label='high'))\n",
    "print 'Recall: ' + str(metrics.recall_score(y_test, logreg_predict, average = 'binary', pos_label='high'))\n",
    "print 'Accuracy: ' + str(metrics.accuracy_score(y_test, logreg_predict))"
   ]
  },
  {
   "cell_type": "code",
   "execution_count": 10,
   "metadata": {
    "collapsed": false
   },
   "outputs": [
    {
     "data": {
      "text/plain": [
       "<matplotlib.text.Text at 0xb33a710>"
      ]
     },
     "execution_count": 10,
     "metadata": {},
     "output_type": "execute_result"
    },
    {
     "data": {
      "image/png": "[encoded data removed]",
      "text/plain": [
       "<matplotlib.figure.Figure at 0xe577358>"
      ]
     },
     "metadata": {},
     "output_type": "display_data"
    }
   ],
   "source": [
    "# Fancy boy confusion matrix\n",
    "mat = metrics.confusion_matrix(y_test, logreg_predict)\n",
    "sns.heatmap(mat.T, square=True, annot=True, fmt='d', cbar=True, \n",
    "            xticklabels=unique(y_test), yticklabels=unique(logreg_predict))\n",
    "plt.xlabel('Actual Ratings')\n",
    "plt.ylabel('Predicted Ratings')\n",
    "plt.title('Logistic Regression')"
   ]
  },
  {
   "cell_type": "markdown",
   "metadata": {},
   "source": [
    "### Naive Bayes:\n",
    "A multinomial naive bayes model using only the text data yields an accuracy of about 68.12% for our test set. This, once again, is only slightly greater than the base case, indicating another model without much predictive power."
   ]
  },
  {
   "cell_type": "code",
   "execution_count": 11,
   "metadata": {
    "collapsed": false
   },
   "outputs": [],
   "source": [
    "# Fit naive bayes classifier on training data\n",
    "mnb = MultinomialNB()\n",
    "mnb_classifier = mnb.fit(x_train, y_train)\n",
    "\n",
    "# Make predictions for test set\n",
    "mnb_predict = mnb.predict(x_test)"
   ]
  },
  {
   "cell_type": "code",
   "execution_count": 12,
   "metadata": {
    "collapsed": false
   },
   "outputs": [
    {
     "name": "stdout",
     "output_type": "stream",
     "text": [
      "MULTINOMIAL NAIVE BAYES:\n",
      "Precision:0.682055399438\n",
      "Recall: 0.9970657277\n",
      "Accuracy: 0.6812\n"
     ]
    }
   ],
   "source": [
    "# Model Metrics\n",
    "print 'MULTINOMIAL NAIVE BAYES:'\n",
    "print 'Precision:' + str(metrics.precision_score(y_test, mnb_predict, average = 'binary', pos_label='high'))\n",
    "print 'Recall: ' + str(metrics.recall_score(y_test, mnb_predict, average = 'binary', pos_label='high'))\n",
    "print 'Accuracy: ' + str(metrics.accuracy_score(y_test, mnb_predict))"
   ]
  },
  {
   "cell_type": "code",
   "execution_count": 13,
   "metadata": {
    "collapsed": false
   },
   "outputs": [
    {
     "name": "stderr",
     "output_type": "stream",
     "text": [
      "C:\\Users\\brook\\Anaconda2\\lib\\site-packages\\seaborn\\matrix.py:151: FutureWarning: elementwise comparison failed; returning scalar instead, but in the future will perform elementwise comparison\n",
      "  if yticklabels == []:\n"
     ]
    },
    {
     "data": {
      "text/plain": [
       "<matplotlib.text.Text at 0x106f8780>"
      ]
     },
     "execution_count": 13,
     "metadata": {},
     "output_type": "execute_result"
    },
    {
     "data": {
      "image/png": "[encoded data removed]",
      "text/plain": [
       "<matplotlib.figure.Figure at 0xf040128>"
      ]
     },
     "metadata": {},
     "output_type": "display_data"
    }
   ],
   "source": [
    "# Fancy boy confusion matrix\n",
    "mat = metrics.confusion_matrix(y_test, mnb_predict)\n",
    "sns.heatmap(mat.T, square=True, annot=True, fmt='d', cbar=True, \n",
    "            xticklabels=unique(y_test), yticklabels=unique(mnb_predict))\n",
    "plt.xlabel('Actual Ratings')\n",
    "plt.ylabel('Predicted Ratings')\n",
    "plt.title('Multinomial Naive Bayes')"
   ]
  },
  {
   "cell_type": "markdown",
   "metadata": {},
   "source": [
    "### Conclusion\n",
    "After comparing the prediction accuracy of both models to that of the base case, it is apparent that not much predictive power is gained from the numerical data. Both the logistic regression and multinomial naive bayes models predicted the test set with an accuracy of just over 68%, less than 1% better than the base case. It appears that the main problem with both models, and thus with the numeric data in general, is that they drastically overpredict the number of 'high' ratings and drastically underpredict the number of 'low' ratings."
   ]
  },
  {
   "cell_type": "markdown",
   "metadata": {},
   "source": [
    "## Task B: Model Using Reviews (Text Data) Only"
   ]
  },
  {
   "cell_type": "markdown",
   "metadata": {},
   "source": [
    "### Approach:\n",
    "Next, we will try to assess the predictive power of the text data from the actual reviews and compare it to that of the numerical data. To do this, we will isolate the text data, just as we isolated the numerical data in part A, and build a couple of models to make predictions. For time purposes, we will only take a sample of 10,000 reviews rather than use the entire data set when fitting and testing these models. The models will be fit to a training set containing 75% of the sample and then used to predict a test set containing the remaining 25%. We will compare the results to those found in part A to assess the predictive power of the text data relative to that of the numeric data.  "
   ]
  },
  {
   "cell_type": "code",
   "execution_count": 14,
   "metadata": {
    "collapsed": false
   },
   "outputs": [],
   "source": [
    "# Take random sample of 10,000 reviews from data set\n",
    "sample = yelp.sample(10000, random_state=321)\n",
    "\n",
    "# Split sample into train and test sets\n",
    "trainB, testB = train_test_split(sample, test_size=0.25, random_state=123)\n",
    "\n",
    "x_trainB = trainB['Review']\n",
    "y_trainB = trainB['rating']\n",
    "\n",
    "x_testB = testB['Review']\n",
    "y_testB = testB['rating']"
   ]
  },
  {
   "cell_type": "code",
   "execution_count": 15,
   "metadata": {
    "collapsed": false
   },
   "outputs": [],
   "source": [
    "# Tokenize reviews in the training and test sets\n",
    "vectorizer = CountVectorizer(analyzer = 'word', tokenizer= None, preprocessor = None, \n",
    "                             stop_words = None, max_features = None)\n",
    "\n",
    "x_trainB = vectorizer.fit_transform(x_trainB)\n",
    "x_testB = vectorizer.transform(x_testB)"
   ]
  },
  {
   "cell_type": "markdown",
   "metadata": {},
   "source": [
    "### Naive Bayes:\n",
    "A multinomial naive bayes model using the text data yields an accuracy of about 83.24% on our test set. This is significantly higher than the test accuracies that we saw for our two models that were fit using the numeric data. It is also significantly higher than the base case, indicating that the model has some predictive power.  "
   ]
  },
  {
   "cell_type": "code",
   "execution_count": 16,
   "metadata": {
    "collapsed": false
   },
   "outputs": [],
   "source": [
    "# Fit naive bayes classifier on training set\n",
    "mnb_classifierB = MultinomialNB()\n",
    "mnb_classifierB.fit(x_trainB, y_trainB)\n",
    "\n",
    "# Make predictions for test set\n",
    "mnb_predictB = mnb_classifierB.predict(x_testB)"
   ]
  },
  {
   "cell_type": "code",
   "execution_count": 17,
   "metadata": {
    "collapsed": false
   },
   "outputs": [
    {
     "name": "stdout",
     "output_type": "stream",
     "text": [
      "MULTINOMIAL NAIVE BAYES:\n",
      "Precision:0.857612267251\n",
      "Recall: 0.907826086957\n",
      "Accuracy: 0.8324\n"
     ]
    }
   ],
   "source": [
    "# Model Metrics\n",
    "print 'MULTINOMIAL NAIVE BAYES:'\n",
    "print 'Precision:' + str(metrics.precision_score(y_testB, mnb_predictB, average = 'binary', pos_label='high'))\n",
    "print 'Recall: ' + str(metrics.recall_score(y_testB, mnb_predictB, average = 'binary', pos_label='high'))\n",
    "print 'Accuracy: ' + str(metrics.accuracy_score(y_testB, mnb_predictB))"
   ]
  },
  {
   "cell_type": "code",
   "execution_count": 18,
   "metadata": {
    "collapsed": false
   },
   "outputs": [
    {
     "data": {
      "text/plain": [
       "<matplotlib.text.Text at 0x10f1cc50>"
      ]
     },
     "execution_count": 18,
     "metadata": {},
     "output_type": "execute_result"
    },
    {
     "data": {
      "image/png": "[encoded data removed]",
      "text/plain": [
       "<matplotlib.figure.Figure at 0x1091e828>"
      ]
     },
     "metadata": {},
     "output_type": "display_data"
    }
   ],
   "source": [
    "# Fancy boy confusion matrix\n",
    "mat = metrics.confusion_matrix(y_testB, mnb_predictB)\n",
    "sns.heatmap(mat.T, square=True, annot=True, fmt='d', cbar=True, \n",
    "            xticklabels=unique(y_testB), yticklabels=unique(mnb_predictB))\n",
    "plt.xlabel('Actual Ratings')\n",
    "plt.ylabel('Predicted Ratings')\n",
    "plt.title('Multinomial Naive Bayes')"
   ]
  },
  {
   "cell_type": "markdown",
   "metadata": {},
   "source": [
    "### Logistic Regression:\n",
    "A logistic regression model fit on the text data yields an accuracy of about 82.56%. This is on the order of what we saw from the naive bayes model fit on the same data and significantly higher than the models fit on the numeric data. "
   ]
  },
  {
   "cell_type": "code",
   "execution_count": 19,
   "metadata": {
    "collapsed": false
   },
   "outputs": [],
   "source": [
    "# Fit logistic regression on training data\n",
    "logreg_classifierB = linear_model.LogisticRegression().fit(x_trainB, y_trainB)\n",
    "\n",
    "# Make predictions for test set\n",
    "logreg_predictB = logreg_classifierB.predict(x_testB)"
   ]
  },
  {
   "cell_type": "code",
   "execution_count": 20,
   "metadata": {
    "collapsed": false
   },
   "outputs": [
    {
     "name": "stdout",
     "output_type": "stream",
     "text": [
      "LOGISTIC REGRESSION:\n",
      "Precision:0.863508178229\n",
      "Recall: 0.887536231884\n",
      "Accuracy: 0.8256\n"
     ]
    }
   ],
   "source": [
    "# Model Metrics\n",
    "print 'LOGISTIC REGRESSION:'\n",
    "print 'Precision:' + str(metrics.precision_score(y_testB, logreg_predictB, average = 'binary', pos_label='high'))\n",
    "print 'Recall: ' + str(metrics.recall_score(y_testB, logreg_predictB, average = 'binary', pos_label='high'))\n",
    "print 'Accuracy: ' + str(metrics.accuracy_score(y_testB, logreg_predictB))"
   ]
  },
  {
   "cell_type": "code",
   "execution_count": 21,
   "metadata": {
    "collapsed": false
   },
   "outputs": [
    {
     "data": {
      "text/plain": [
       "<matplotlib.text.Text at 0x10ee3550>"
      ]
     },
     "execution_count": 21,
     "metadata": {},
     "output_type": "execute_result"
    },
    {
     "data": {
      "image/png": "[encoded data removed]",
      "text/plain": [
       "<matplotlib.figure.Figure at 0xb4e1080>"
      ]
     },
     "metadata": {},
     "output_type": "display_data"
    }
   ],
   "source": [
    "# Fancy boy confusion matrix\n",
    "mat = metrics.confusion_matrix(y_testB, logreg_predictB)\n",
    "sns.heatmap(mat.T, square=True, annot=True, fmt='d', cbar=True, \n",
    "            xticklabels=unique(y_testB), yticklabels=unique(logreg_predictB))\n",
    "plt.xlabel('Actual Ratings')\n",
    "plt.ylabel('Predicted Ratings')\n",
    "plt.title('Logistic Regression')"
   ]
  },
  {
   "cell_type": "markdown",
   "metadata": {},
   "source": [
    "### Conclusion\n",
    "Both models that were fit using the text data performed significantly better than the models that were fit using the numeric data. The multinomial naive bayes model predicted the test set with a slightly higher accuracy than the logistic regression model, but the difference was marginal. These results seem to indicate that the predictive power of the text data (reviews) is significantly greater than that of the numeric data. Different training and test sets were used for part A and part B, so it is possible that some of the difference could be attributed to that. However, given the scale of the differences in accuracy between the numeric models and the text models, the results appear to be conclusive."
   ]
  },
  {
   "cell_type": "markdown",
   "metadata": {},
   "source": [
    "## Task C: Hybrid Model (Numeric and Text Data)"
   ]
  },
  {
   "cell_type": "markdown",
   "metadata": {},
   "source": [
    "### Approach:\n",
    "Finally, we will fit a model using both the numeric data and the text data. This model will be a hybrid of the multinomial naive bayes model that was fit on the text data and the logistic regression model that was fit on the numeric data. First, we will use the naive bayes model to calculate the probability that each review has a 'high' rating from the text data. Then, we will add this information as a column in our data set that contains all of the numeric data and fit a logistic regression model. We will use this new model to predict the same test set from part B and compare the results to see if the numeric data adds to the predictive power relative to the text."
   ]
  },
  {
   "cell_type": "markdown",
   "metadata": {},
   "source": [
    "### Hypothesis:\n",
    "Our hypothesis is that incorporating the numeric data will improve the accuracy of our model, but only marginally. We saw in part A that the numeric data alone has very little predictive power, so it seems unlikely that it will be able to add much to what we are already getting from the text data."
   ]
  },
  {
   "cell_type": "code",
   "execution_count": 33,
   "metadata": {
    "collapsed": true
   },
   "outputs": [],
   "source": [
    "# Create new training and test sets using same sample from part B\n",
    "x_trainC = trainB.drop(['stars', 'Review', 'rating'], axis=1)\n",
    "y_trainC = trainB['rating']\n",
    "\n",
    "x_testC = testB.drop(['stars', 'Review', 'rating'], axis=1)\n",
    "y_testC = testB['rating']"
   ]
  },
  {
   "cell_type": "code",
   "execution_count": 40,
   "metadata": {
    "collapsed": true
   },
   "outputs": [],
   "source": [
    "# Obtain probabilities of 'high' and 'low' rating for each review from naive bayes text model\n",
    "train_scoresB = mnb_classifierB.predict_proba(x_trainB).tolist()\n",
    "test_scoresB = mnb_classifierB.predict_proba(x_testB).tolist()\n",
    "\n",
    "def unzip(pairs):\n",
    "    a_list = []\n",
    "    b_list = []\n",
    "    for pair in pairs:\n",
    "        a_list.append(pair[0])\n",
    "        b_list.append(pair[1])\n",
    "    return a_list, b_list\n",
    "\n",
    "train_highScoresB, train_lowScoresB = unzip(train_scoresB)\n",
    "test_highScoresB, test_lowScoresB = unzip(test_scoresB)"
   ]
  },
  {
   "cell_type": "code",
   "execution_count": 36,
   "metadata": {
    "collapsed": false
   },
   "outputs": [],
   "source": [
    "# Add column of probabilities to training and test sets\n",
    "x_trainC['TextScore'] = train_highScoresB\n",
    "x_testC['TextScore'] = test_highScoresB"
   ]
  },
  {
   "cell_type": "code",
   "execution_count": 37,
   "metadata": {
    "collapsed": false
   },
   "outputs": [],
   "source": [
    "# Fit logistic regression model on training data\n",
    "logreg = linear_model.LogisticRegression()\n",
    "logreg_classifierC = logreg.fit(x_trainC, y_trainC)\n",
    "logreg_predictC = logreg_classifierC.predict(x_testC)"
   ]
  },
  {
   "cell_type": "code",
   "execution_count": 38,
   "metadata": {
    "collapsed": false
   },
   "outputs": [
    {
     "name": "stdout",
     "output_type": "stream",
     "text": [
      "Precision:0.860209135938\n",
      "Recall: 0.906086956522\n",
      "Accuracy: 0.8336\n"
     ]
    }
   ],
   "source": [
    "# Model Metrics\n",
    "print 'Precision:' + str(metrics.precision_score(y_testC, logreg_predictC, average = 'binary', pos_label='high'))\n",
    "print 'Recall: ' + str(metrics.recall_score(y_testC, logreg_predictC, average = 'binary', pos_label='high'))\n",
    "print 'Accuracy: ' + str(metrics.accuracy_score(y_testC, logreg_predictC))"
   ]
  },
  {
   "cell_type": "code",
   "execution_count": 39,
   "metadata": {
    "collapsed": false
   },
   "outputs": [
    {
     "data": {
      "text/plain": [
       "<matplotlib.text.Text at 0x122a9ba8>"
      ]
     },
     "execution_count": 39,
     "metadata": {},
     "output_type": "execute_result"
    },
    {
     "data": {
      "image/png": "[encoded data removed]",
      "text/plain": [
       "<matplotlib.figure.Figure at 0x121e56a0>"
      ]
     },
     "metadata": {},
     "output_type": "display_data"
    }
   ],
   "source": [
    "# Fancy boy confusion matrix\n",
    "mat = metrics.confusion_matrix(y_testC, logreg_predictC)\n",
    "sns.heatmap(mat.T, square=True, annot=True, fmt='d', cbar=True, \n",
    "            xticklabels=unique(y_testC), yticklabels=unique(logreg_predictC))\n",
    "plt.xlabel('Actual Ratings')\n",
    "plt.ylabel('Predicted Ratings')\n",
    "plt.title('Logistic Regression')"
   ]
  },
  {
   "cell_type": "markdown",
   "metadata": {},
   "source": [
    "### Conclusion:\n",
    "The model incorporating both the text and numeric data predicted the test set with an accuracy of about 83.36%. As we hypothesized, this is only marginally better than the accuracy of our naive bayes model that was fit on the text data exclusively. It seems that the numeric data adds almost nothing to the predictive power relative to the text data. "
   ]
  },
  {
   "cell_type": "markdown",
   "metadata": {
    "collapsed": true
   },
   "source": [
    "## Task D: Unsupervised Sentiment Analysis"
   ]
  },
  {
   "cell_type": "markdown",
   "metadata": {},
   "source": [
    "### Approach:\n",
    "For task D, we will perform an unsupervised sentiment analysis on the reviews using SentiStrength and then use the results to fit a new model. SentiStrength will take each review and give it a positive sentiment score and a negative sentiment score. We will then use these scores, and these scores only, to fit a logistic regression model on a training set 75% of the reviews. The remaining 25% of reviews will be used as a test set that we will run the model on to assess its predictive power. Comparing these results to the results from part B should give us an idea of how much of the predictive power of the text data is captured by sentiment analysis."
   ]
  },
  {
   "cell_type": "markdown",
   "metadata": {},
   "source": [
    "### Hypothesis:\n",
    "We expect that this model will not perform as well as the models from part B that use all of the text data. However, we anticipate that it will perform significantly better than the base case and the models from part A that use only the numeric data. This would mean that the unsupervised sentiment analysis captures a good deal of the predictive power from the text data but not all of it."
   ]
  },
  {
   "cell_type": "code",
   "execution_count": 12,
   "metadata": {
    "collapsed": false
   },
   "outputs": [
    {
     "data": {
      "text/html": [
       "<div>\n",
       "<table border=\"1\" class=\"dataframe\">\n",
       "  <thead>\n",
       "    <tr style=\"text-align: right;\">\n",
       "      <th></th>\n",
       "      <th>0</th>\n",
       "      <th>1</th>\n",
       "      <th>2</th>\n",
       "      <th>3</th>\n",
       "      <th>4</th>\n",
       "      <th>5</th>\n",
       "      <th>6</th>\n",
       "      <th>7</th>\n",
       "      <th>8</th>\n",
       "      <th>9</th>\n",
       "      <th>...</th>\n",
       "      <th>13</th>\n",
       "      <th>14</th>\n",
       "      <th>15</th>\n",
       "      <th>16</th>\n",
       "      <th>17</th>\n",
       "      <th>18</th>\n",
       "      <th>19</th>\n",
       "      <th>20</th>\n",
       "      <th>21</th>\n",
       "      <th>22</th>\n",
       "    </tr>\n",
       "  </thead>\n",
       "  <tbody>\n",
       "    <tr>\n",
       "      <th>0</th>\n",
       "      <td>2</td>\n",
       "      <td>2</td>\n",
       "      <td>2</td>\n",
       "      <td>2</td>\n",
       "      <td>1</td>\n",
       "      <td>0</td>\n",
       "      <td>0</td>\n",
       "      <td>0</td>\n",
       "      <td>0</td>\n",
       "      <td>0</td>\n",
       "      <td>...</td>\n",
       "      <td>0</td>\n",
       "      <td>0</td>\n",
       "      <td>0</td>\n",
       "      <td>0</td>\n",
       "      <td>0</td>\n",
       "      <td>0</td>\n",
       "      <td>1</td>\n",
       "      <td>CLOSED            This JB s locati...</td>\n",
       "      <td>2</td>\n",
       "      <td>-2</td>\n",
       "    </tr>\n",
       "  </tbody>\n",
       "</table>\n",
       "<p>1 rows × 23 columns</p>\n",
       "</div>"
      ],
      "text/plain": [
       "   0   1   2   3   4   5   6   7   8   9  ...  13  14  15  16  17  18  19  \\\n",
       "0   2   2   2   2   1   0   0   0   0   0 ...   0   0   0   0   0   0   1   \n",
       "\n",
       "                                                  20  21  22  \n",
       "0              CLOSED            This JB s locati...   2  -2  \n",
       "\n",
       "[1 rows x 23 columns]"
      ]
     },
     "execution_count": 12,
     "metadata": {},
     "output_type": "execute_result"
    }
   ],
   "source": [
    "ss = pd.read_csv('YelpNoHeader+results.csv', header = None)\n",
    "ss.head(1)"
   ]
  },
  {
   "cell_type": "code",
   "execution_count": 13,
   "metadata": {
    "collapsed": true
   },
   "outputs": [],
   "source": [
    "ss['rating'] = np.where(ss[0] >= 4, 'high','low')"
   ]
  },
  {
   "cell_type": "code",
   "execution_count": 14,
   "metadata": {
    "collapsed": true
   },
   "outputs": [],
   "source": [
    "trainD, testD = train_test_split(ss, test_size=0.25, random_state=123)\n",
    "\n",
    "x_trainD = trainD[[21,22]]\n",
    "y_trainD = trainD['rating']\n",
    "\n",
    "x_testD = testD[[21,22]]\n",
    "y_testD = testD['rating']"
   ]
  },
  {
   "cell_type": "code",
   "execution_count": 16,
   "metadata": {
    "collapsed": false
   },
   "outputs": [],
   "source": [
    "logreg = linear_model.LogisticRegression()\n",
    "logreg_classifierD = logreg.fit(x_trainD, y_trainD)\n",
    "logreg_predictD = logreg.predict(x_testD)"
   ]
  },
  {
   "cell_type": "code",
   "execution_count": 17,
   "metadata": {
    "collapsed": false
   },
   "outputs": [
    {
     "name": "stdout",
     "output_type": "stream",
     "text": [
      "Precision:0.730088495575\n",
      "Recall: 0.929439667951\n",
      "Accuracy: 0.7206\n"
     ]
    }
   ],
   "source": [
    "# Model Metrics\n",
    "print 'Precision:' + str(metrics.precision_score(y_testD, logreg_predictD, average = 'binary', pos_label='high'))\n",
    "print 'Recall: ' + str(metrics.recall_score(y_testD, logreg_predictD, average = 'binary', pos_label='high'))\n",
    "print 'Accuracy: ' + str(metrics.accuracy_score(y_testD, logreg_predictD))"
   ]
  },
  {
   "cell_type": "code",
   "execution_count": 18,
   "metadata": {
    "collapsed": false
   },
   "outputs": [
    {
     "data": {
      "text/plain": [
       "<matplotlib.text.Text at 0xb03f1d0>"
      ]
     },
     "execution_count": 18,
     "metadata": {},
     "output_type": "execute_result"
    },
    {
     "data": {
      "image/png": "[encoded data removed]",
      "text/plain": [
       "<matplotlib.figure.Figure at 0xe1ae710>"
      ]
     },
     "metadata": {},
     "output_type": "display_data"
    }
   ],
   "source": [
    "# Fancy boy confusion matrix\n",
    "mat = metrics.confusion_matrix(y_testD, logreg_predictD)\n",
    "sns.heatmap(mat.T, square=True, annot=True, fmt='d', cbar=True, \n",
    "            xticklabels=unique(y_testD), yticklabels=unique(logreg_predictD))\n",
    "plt.xlabel('Actual Ratings')\n",
    "plt.ylabel('Predicted Ratings')\n",
    "plt.title('Logistic Regression')"
   ]
  },
  {
   "cell_type": "markdown",
   "metadata": {},
   "source": [
    "### Conclusion:\n",
    "The logistic regression model that was fit using the sentiment scores predicted our test set with an accuracy of about 72.06%. This confirms our hypothesis that the model would perform better than the models that were fit on the numeric data but not as well as the models that were fit on the text data. However, the difference between the accuracy from the numeric models and the accuracy of the sentiment score model is not as substantial as we expected. It is possible that the sentiment score model could be improved by changing some parameters in SentiStrength, such as the weights of certain words or phrases. Nevertheless, it appears that unsupervised sentiment analysis could be an effective tool to use if the data set is too large to use all of the text data or if an unsupervised approach is necessary."
   ]
  },
  {
   "cell_type": "markdown",
   "metadata": {},
   "source": [
    "## Task E: PMI Approach"
   ]
  },
  {
   "cell_type": "code",
   "execution_count": 10,
   "metadata": {
    "collapsed": false
   },
   "outputs": [],
   "source": [
    "import nltk\n",
    "from nltk import word_tokenize\n",
    "from nltk.tokenize import RegexpTokenizer\n",
    "\n",
    "yelpsub = yelp.sample(500)\n",
    "\n",
    "# Tokenize all job descriptions from sample\n",
    "yelpsub['tokenized_strip'] = yelpsub.apply(lambda row: row['Review'].decode('utf-8').strip(),axis=1)\n",
    "yelpsub['tokenized'] = yelpsub.apply(lambda row: nltk.word_tokenize(row['tokenized_strip']),axis=1)"
   ]
  },
  {
   "cell_type": "code",
   "execution_count": 11,
   "metadata": {
    "collapsed": true
   },
   "outputs": [],
   "source": [
    "reviews = []\n",
    "for index, value in yelpsub.iterrows():\n",
    "    reviews.append(value['tokenized'])"
   ]
  },
  {
   "cell_type": "code",
   "execution_count": 12,
   "metadata": {
    "collapsed": true
   },
   "outputs": [],
   "source": [
    "reviews_lower = []\n",
    "for review in reviews:\n",
    "    review_lower = []\n",
    "    for token in review:\n",
    "        token_lower = token.lower()\n",
    "        review_lower.append(token_lower)\n",
    "    reviews_lower.append(review_lower)"
   ]
  },
  {
   "cell_type": "code",
   "execution_count": 13,
   "metadata": {
    "collapsed": false
   },
   "outputs": [
    {
     "data": {
      "text/plain": [
       "72057"
      ]
     },
     "execution_count": 13,
     "metadata": {},
     "output_type": "execute_result"
    }
   ],
   "source": [
    "reviews = reviews_lower\n",
    "\n",
    "all_count = 0\n",
    "for review in reviews:\n",
    "    for token in review:\n",
    "        all_count += 1\n",
    "\n",
    "all_count"
   ]
  },
  {
   "cell_type": "code",
   "execution_count": 14,
   "metadata": {
    "collapsed": true
   },
   "outputs": [],
   "source": [
    "single_dict = {}\n",
    "for review in reviews:\n",
    "    for token in review:\n",
    "        if token in single_dict:\n",
    "            single_dict[token] += 1\n",
    "        else:\n",
    "            single_dict[token] = 1"
   ]
  },
  {
   "cell_type": "code",
   "execution_count": 15,
   "metadata": {
    "collapsed": true
   },
   "outputs": [],
   "source": [
    "bigrams = []\n",
    "for review in reviews:\n",
    "    small_list = []\n",
    "    for i in range(len(review[0:-1])):\n",
    "        small_list.append((review[i], review[i+1]))\n",
    "    bigrams.append(small_list)\n",
    "\n",
    "bigram_dict = {}\n",
    "for review in bigrams:\n",
    "    for tup in review:\n",
    "        tup_space = ' '.join(tup)\n",
    "        if tup_space in bigram_dict:\n",
    "            bigram_dict[tup_space] += 1\n",
    "        else:\n",
    "            bigram_dict[tup_space] = 1"
   ]
  },
  {
   "cell_type": "code",
   "execution_count": 16,
   "metadata": {
    "collapsed": false
   },
   "outputs": [
    {
     "data": {
      "text/plain": [
       "71557"
      ]
     },
     "execution_count": 16,
     "metadata": {},
     "output_type": "execute_result"
    }
   ],
   "source": [
    "bigram_count = 0\n",
    "for review in bigrams:\n",
    "    for bigram in review:\n",
    "        bigram_count += 1\n",
    "        \n",
    "bigram_count"
   ]
  },
  {
   "cell_type": "code",
   "execution_count": 17,
   "metadata": {
    "collapsed": true
   },
   "outputs": [],
   "source": [
    "import math\n",
    "\n",
    "zipped = []\n",
    "for bigram in bigram_dict: \n",
    "    bigram_sep = bigram.split()\n",
    "    p_bi = bigram_dict[bigram] / (bigram_count * 1.0)\n",
    "    p_word1 = single_dict[bigram_sep[0]] / (all_count * 1.0)\n",
    "    p_word2 = single_dict[bigram_sep[1]] / (all_count * 1.0)\n",
    "    pmi = math.log(p_bi / (p_word1 * p_word2) * 1.0)\n",
    "    \n",
    "    zipped.append((bigram, bigram_dict[bigram], bigram_sep[0], single_dict[bigram_sep[0]], bigram_sep[1], single_dict[bigram_sep[1]], pmi))"
   ]
  },
  {
   "cell_type": "code",
   "execution_count": 18,
   "metadata": {
    "collapsed": false
   },
   "outputs": [
    {
     "name": "stdout",
     "output_type": "stream",
     "text": [
      "crammed inside.i 10.4990287085\n",
      "wildly uneven 10.4990287085\n",
      "sporting events 10.4990287085\n",
      "minor infractions 10.4990287085\n",
      "4-inch diameter 10.4990287085\n",
      "margherita pizza..tasty 10.4990287085\n",
      "varying degrees 10.4990287085\n",
      "tex mex 10.4990287085\n",
      "management prospective 10.4990287085\n",
      "fitting tribute 10.4990287085\n",
      "aunt chilada 10.4990287085\n",
      "pancetta crusted 10.4990287085\n",
      "ti coz.the 10.4990287085\n",
      "pei wei 10.4990287085\n",
      "warped reasoning 10.4990287085\n",
      "marinara sauce.the 10.4990287085\n",
      "contacted gabi 10.4990287085\n",
      "cantaloupe aqua 10.4990287085\n",
      "nouveau premium 10.4990287085\n",
      "san francisco 10.4990287085\n"
     ]
    }
   ],
   "source": [
    "zipped_sorted = sorted(zipped, key=lambda x: x[6])\n",
    "zipped_sorted.reverse()\n",
    "for a,b,c,d,e,f,g in zipped_sorted[300:320]:\n",
    "    print a, g"
   ]
  }
 ],
 "metadata": {
  "kernelspec": {
   "display_name": "Python 2",
   "language": "python",
   "name": "python2"
  },
  "language_info": {
   "codemirror_mode": {
    "name": "ipython",
    "version": 2
   },
   "file_extension": ".py",
   "mimetype": "text/x-python",
   "name": "python",
   "nbconvert_exporter": "python",
   "pygments_lexer": "ipython2",
   "version": "2.7.12"
  }
 },
 "nbformat": 4,
 "nbformat_minor": 0
}

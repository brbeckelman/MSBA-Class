{
 "cells": [
  {
   "cell_type": "markdown",
   "metadata": {},
   "source": [
    "# TEXT ANALYTICS GROUP ASSIGNMENT #2"
   ]
  },
  {
   "cell_type": "markdown",
   "metadata": {},
   "source": [
    "#### Group Members: Brooks Beckelman, Zack Bilderback, Dallas Griffin, Estevan Gonzalez, Sean Kessel, Davis Townsend"
   ]
  },
  {
   "cell_type": "code",
   "execution_count": 6,
   "metadata": {
    "collapsed": false
   },
   "outputs": [
    {
     "name": "stdout",
     "output_type": "stream",
     "text": [
      "Populating the interactive namespace from numpy and matplotlib\n"
     ]
    }
   ],
   "source": [
    "import pandas as pd\n",
    "from pandas import Series, DataFrame\n",
    "%pylab inline\n",
    "\n",
    "import seaborn as sns\n",
    "\n",
    "import sklearn\n",
    "from sklearn.cross_validation import train_test_split\n",
    "from sklearn import linear_model\n",
    "from sklearn import metrics\n",
    "from sklearn.neighbors import KNeighborsClassifier\n",
    "from sklearn.naive_bayes import MultinomialNB\n",
    "from sklearn.feature_extraction.text import CountVectorizer"
   ]
  },
  {
   "cell_type": "code",
   "execution_count": 7,
   "metadata": {
    "collapsed": false
   },
   "outputs": [],
   "source": [
    "yelp = pd.read_csv('YelpData.csv')"
   ]
  },
  {
   "cell_type": "code",
   "execution_count": 10,
   "metadata": {
    "collapsed": false
   },
   "outputs": [
    {
     "data": {
      "text/html": [
       "<div>\n",
       "<table border=\"1\" class=\"dataframe\">\n",
       "  <thead>\n",
       "    <tr style=\"text-align: right;\">\n",
       "      <th></th>\n",
       "      <th>stars</th>\n",
       "      <th>votes_cool</th>\n",
       "      <th>votes_funny</th>\n",
       "      <th>votes_useful</th>\n",
       "      <th>Cheap</th>\n",
       "      <th>Moderate</th>\n",
       "      <th>Expensive</th>\n",
       "      <th>VeryExpensive</th>\n",
       "      <th>American</th>\n",
       "      <th>Chinese</th>\n",
       "      <th>...</th>\n",
       "      <th>Indian</th>\n",
       "      <th>Italian</th>\n",
       "      <th>Greek</th>\n",
       "      <th>Mediterranean</th>\n",
       "      <th>Mexican</th>\n",
       "      <th>Thai</th>\n",
       "      <th>Vietnamese</th>\n",
       "      <th>Others</th>\n",
       "      <th>Review</th>\n",
       "      <th>rating</th>\n",
       "    </tr>\n",
       "  </thead>\n",
       "  <tbody>\n",
       "    <tr>\n",
       "      <th>0</th>\n",
       "      <td>1</td>\n",
       "      <td>0</td>\n",
       "      <td>0</td>\n",
       "      <td>0</td>\n",
       "      <td>1</td>\n",
       "      <td>0</td>\n",
       "      <td>0</td>\n",
       "      <td>0</td>\n",
       "      <td>0</td>\n",
       "      <td>0</td>\n",
       "      <td>...</td>\n",
       "      <td>0</td>\n",
       "      <td>0</td>\n",
       "      <td>0</td>\n",
       "      <td>0</td>\n",
       "      <td>0</td>\n",
       "      <td>0</td>\n",
       "      <td>0</td>\n",
       "      <td>1</td>\n",
       "      <td>This location is out of business. I drove by i...</td>\n",
       "      <td>low</td>\n",
       "    </tr>\n",
       "  </tbody>\n",
       "</table>\n",
       "<p>1 rows × 22 columns</p>\n",
       "</div>"
      ],
      "text/plain": [
       "   stars  votes_cool  votes_funny  votes_useful  Cheap  Moderate  Expensive  \\\n",
       "0      1           0            0             0      1         0          0   \n",
       "\n",
       "   VeryExpensive  American  Chinese   ...    Indian  Italian  Greek  \\\n",
       "0              0         0        0   ...         0        0      0   \n",
       "\n",
       "   Mediterranean  Mexican  Thai  Vietnamese  Others  \\\n",
       "0              0        0     0           0       1   \n",
       "\n",
       "                                              Review  rating  \n",
       "0  This location is out of business. I drove by i...     low  \n",
       "\n",
       "[1 rows x 22 columns]"
      ]
     },
     "execution_count": 10,
     "metadata": {},
     "output_type": "execute_result"
    }
   ],
   "source": [
    "# Convert rating to high (4,5) or low (1,2,3)\n",
    "yelp['rating'] = np.where(yelp['stars'] >= 4, 'high','low')\n",
    "yelp.head(1)"
   ]
  },
  {
   "cell_type": "markdown",
   "metadata": {},
   "source": [
    "## Task A: Numeric Data Only"
   ]
  },
  {
   "cell_type": "markdown",
   "metadata": {},
   "source": [
    "To assess the predictive power of the numerical data, we will isolate it from the actual reviews and build a few different models. The accuracy of these models compared to a base case (predicting all reviews to have a 'high' rating) will give us a sense of how predictive this data is. "
   ]
  },
  {
   "cell_type": "code",
   "execution_count": 4,
   "metadata": {
    "collapsed": true
   },
   "outputs": [],
   "source": [
    "# Split data into train and test sets\n",
    "train, test = train_test_split(yelp, test_size=0.25, random_state=123)\n",
    "\n",
    "x_train = train.drop(['stars', 'Review', 'rating'], axis=1)\n",
    "y_train = train['rating']\n",
    "\n",
    "x_test = test.drop(['stars', 'Review', 'rating'], axis=1)\n",
    "y_test = test['rating']"
   ]
  },
  {
   "cell_type": "markdown",
   "metadata": {},
   "source": [
    "### Logistic Regression"
   ]
  },
  {
   "cell_type": "code",
   "execution_count": 47,
   "metadata": {
    "collapsed": false
   },
   "outputs": [],
   "source": [
    "logreg = linear_model.LogisticRegression()\n",
    "logreg_classifier = logreg.fit(x_train, y_train)\n",
    "logreg_predict = logreg.predict(x_test)"
   ]
  },
  {
   "cell_type": "code",
   "execution_count": 58,
   "metadata": {
    "collapsed": false
   },
   "outputs": [
    {
     "name": "stdout",
     "output_type": "stream",
     "text": [
      "LOGISTIC REGRESSION: \n",
      "Precision:0.689127738735\n",
      "Recall: 0.978286384977\n",
      "Accuracy: 0.6844\n"
     ]
    }
   ],
   "source": [
    "print 'LOGISTIC REGRESSION: '\n",
    "print 'Precision:' + str(metrics.precision_score(y_test, logreg_predict, average = 'binary', pos_label='high'))\n",
    "print 'Recall: ' + str(metrics.recall_score(y_test, logreg_predict, average = 'binary', pos_label='high'))\n",
    "print 'Accuracy: ' + str(metrics.accuracy_score(y_test, logreg_predict))"
   ]
  },
  {
   "cell_type": "code",
   "execution_count": 22,
   "metadata": {
    "collapsed": false
   },
   "outputs": [
    {
     "data": {
      "text/plain": [
       "<matplotlib.text.Text at 0x106839e8>"
      ]
     },
     "execution_count": 22,
     "metadata": {},
     "output_type": "execute_result"
    },
    {
     "data": {
      "image/png": "[encoded data removed]",
      "text/plain": [
       "<matplotlib.figure.Figure at 0xdc07ac8>"
      ]
     },
     "metadata": {},
     "output_type": "display_data"
    }
   ],
   "source": [
    "#Fancy boy confusion matrix\n",
    "mat = metrics.confusion_matrix(y_test, logreg_predict)\n",
    "sns.heatmap(mat.T, square=True, annot=True, fmt='d', cbar=True, \n",
    "            xticklabels=unique(y_test), yticklabels=unique(logreg_predict))\n",
    "plt.xlabel('Actual Ratings')\n",
    "plt.ylabel('Predicted Ratings')\n",
    "plt.title('Logistic Regression')"
   ]
  },
  {
   "cell_type": "markdown",
   "metadata": {},
   "source": [
    "### KNN"
   ]
  },
  {
   "cell_type": "code",
   "execution_count": 7,
   "metadata": {
    "collapsed": false
   },
   "outputs": [
    {
     "name": "stdout",
     "output_type": "stream",
     "text": [
      "Performing classifier 10\n",
      "Performing classifier 20\n",
      "Performing classifier 30\n",
      "Performing classifier 40\n",
      "Performing classifier 50\n",
      "Performing classifier 60\n",
      "Performing classifier 70\n",
      "Performing classifier 80\n",
      "Performing classifier 90\n",
      "Performing classifier 100\n"
     ]
    }
   ],
   "source": [
    "k_range = range(1,101)\n",
    "accuracies = []\n",
    "for k in k_range:\n",
    "    if k % 10 == 0:\n",
    "        print 'Performing classifier', k\n",
    "    knn = KNeighborsClassifier(n_neighbors=k)\n",
    "    knn_classifier = knn.fit(x_train, y_train)\n",
    "    knn_accuracy = knn.score(x_test, y_test)\n",
    "    accuracies.append(knn_accuracy)\n"
   ]
  },
  {
   "cell_type": "code",
   "execution_count": 8,
   "metadata": {
    "collapsed": false
   },
   "outputs": [
    {
     "data": {
      "text/plain": [
       "<matplotlib.text.Text at 0xcd44828>"
      ]
     },
     "execution_count": 8,
     "metadata": {},
     "output_type": "execute_result"
    },
    {
     "data": {
      "image/png": "[encoded data removed]",
      "text/plain": [
       "<matplotlib.figure.Figure at 0xeece4a8>"
      ]
     },
     "metadata": {},
     "output_type": "display_data"
    }
   ],
   "source": [
    "plot(k_range, accuracies)\n",
    "xlabel('k')\n",
    "ylabel('Model Accuracy')"
   ]
  },
  {
   "cell_type": "code",
   "execution_count": 49,
   "metadata": {
    "collapsed": false
   },
   "outputs": [],
   "source": [
    "s_accuracies = Series(accuracies)\n",
    "\n",
    "k = s_accuracies.idxmax() + 1\n",
    "knn = KNeighborsClassifier(n_neighbors=k)\n",
    "knn_classifier = knn.fit(x_train, y_train)\n",
    "knn_predict = knn.predict(x_test)"
   ]
  },
  {
   "cell_type": "code",
   "execution_count": 57,
   "metadata": {
    "collapsed": false
   },
   "outputs": [
    {
     "name": "stdout",
     "output_type": "stream",
     "text": [
      "K-NEAREST NEIGHBORS:\n",
      "Precision:0.692998955068\n",
      "Recall: 0.973004694836\n",
      "Accuracy: 0.6878\n"
     ]
    }
   ],
   "source": [
    "print 'K-NEAREST NEIGHBORS:'\n",
    "print 'Precision:' + str(metrics.precision_score(y_test, knn_predict, average = 'binary', pos_label='high'))\n",
    "print 'Recall: ' + str(metrics.recall_score(y_test, knn_predict, average = 'binary', pos_label='high'))\n",
    "print 'Accuracy: ' + str(metrics.accuracy_score(y_test, knn_predict))"
   ]
  },
  {
   "cell_type": "code",
   "execution_count": 24,
   "metadata": {
    "collapsed": false
   },
   "outputs": [
    {
     "data": {
      "text/plain": [
       "<matplotlib.text.Text at 0x10a817f0>"
      ]
     },
     "execution_count": 24,
     "metadata": {},
     "output_type": "execute_result"
    },
    {
     "data": {
      "image/png": "[encoded data removed]",
      "text/plain": [
       "<matplotlib.figure.Figure at 0x1067a828>"
      ]
     },
     "metadata": {},
     "output_type": "display_data"
    }
   ],
   "source": [
    "#Fancy boy confusion matrix\n",
    "mat = metrics.confusion_matrix(y_test, knn_predict)\n",
    "sns.heatmap(mat.T, square=True, annot=True, fmt='d', cbar=True, \n",
    "            xticklabels=unique(y_test), yticklabels=unique(knn_predict))\n",
    "plt.xlabel('Actual Ratings')\n",
    "plt.ylabel('Predicted Ratings')\n",
    "plt.title('K-Nearest Neighbors')"
   ]
  },
  {
   "cell_type": "markdown",
   "metadata": {},
   "source": [
    "### Naive Bayes"
   ]
  },
  {
   "cell_type": "code",
   "execution_count": 8,
   "metadata": {
    "collapsed": false
   },
   "outputs": [],
   "source": [
    "mnb = MultinomialNB()\n",
    "mnb_classifier = mnb.fit(x_train, y_train)\n",
    "mnb_predict = mnb.predict(x_test)"
   ]
  },
  {
   "cell_type": "code",
   "execution_count": 55,
   "metadata": {
    "collapsed": false
   },
   "outputs": [
    {
     "name": "stdout",
     "output_type": "stream",
     "text": [
      "MULTINOMIAL NAIVE BAYES:\n",
      "Precision:0.682055399438\n",
      "Recall: 0.9970657277\n",
      "Accuracy: 0.6812\n"
     ]
    }
   ],
   "source": [
    "print 'MULTINOMIAL NAIVE BAYES:'\n",
    "print 'Precision:' + str(metrics.precision_score(y_test, mnb_predict, average = 'binary', pos_label='high'))\n",
    "print 'Recall: ' + str(metrics.recall_score(y_test, mnb_predict, average = 'binary', pos_label='high'))\n",
    "print 'Accuracy: ' + str(metrics.accuracy_score(y_test, mnb_predict))"
   ]
  },
  {
   "cell_type": "code",
   "execution_count": 26,
   "metadata": {
    "collapsed": false
   },
   "outputs": [
    {
     "data": {
      "text/plain": [
       "<matplotlib.text.Text at 0x110fbba8>"
      ]
     },
     "execution_count": 26,
     "metadata": {},
     "output_type": "execute_result"
    },
    {
     "data": {
      "image/png": "[encoded data removed]",
      "text/plain": [
       "<matplotlib.figure.Figure at 0x10f736d8>"
      ]
     },
     "metadata": {},
     "output_type": "display_data"
    }
   ],
   "source": [
    "#Fancy boy confusion matrix\n",
    "mat = metrics.confusion_matrix(y_test, mnb_predict)\n",
    "sns.heatmap(mat.T, square=True, annot=True, fmt='d', cbar=True, \n",
    "            xticklabels=unique(y_test), yticklabels=unique(mnb_predict))\n",
    "plt.xlabel('Actual Ratings')\n",
    "plt.ylabel('Predicted Ratings')\n",
    "plt.title('Multinomial Naive Bayes')"
   ]
  },
  {
   "cell_type": "markdown",
   "metadata": {},
   "source": [
    "### Summary\n",
    "\n",
    "To get a feel for the classification power of the numeric data, we ran a logistic regression, a k-nearest neighbors, and a multinomial naive bayes classifier. With all three models, we saw similar results with an accuracy of a little over 68%. The base case of predicting every review to have a positive rating has about a 68% accuracy as well. Therefore, it appears that not much predictive power is obtained from the numerical data, and it appears that these models are overpredicting the likelihood of a 'high' rating (4 or 5)."
   ]
  },
  {
   "cell_type": "markdown",
   "metadata": {},
   "source": [
    "## Task B: Reviews (Text Data) Only"
   ]
  },
  {
   "cell_type": "markdown",
   "metadata": {},
   "source": [
    "Next, we will isolate the reviews and use them alone to predict the class of ratings. Comparing the results will give us an idea of the predictive power of the text data relative to the predictive power of the numerical data."
   ]
  },
  {
   "cell_type": "code",
   "execution_count": 6,
   "metadata": {
    "collapsed": false
   },
   "outputs": [],
   "source": [
    "sample = yelp.sample(10000, random_state=321)\n",
    "\n",
    "# Split sample into train and test sets\n",
    "trainB, testB = train_test_split(sample, test_size=0.25, random_state=123)\n",
    "\n",
    "x_trainB = trainB['Review']\n",
    "y_trainB = trainB['rating']\n",
    "\n",
    "x_testB = testB['Review']\n",
    "y_testB = testB['rating']"
   ]
  },
  {
   "cell_type": "code",
   "execution_count": 7,
   "metadata": {
    "collapsed": false
   },
   "outputs": [],
   "source": [
    "# Create matrix of token counts from reviews\n",
    "vectorizer = CountVectorizer(analyzer = 'word', tokenizer= None, preprocessor = None, \n",
    "                             stop_words = None, max_features = None)\n",
    "\n",
    "x_trainB = vectorizer.fit_transform(x_trainB)\n",
    "x_testB = vectorizer.transform(x_testB)"
   ]
  },
  {
   "cell_type": "markdown",
   "metadata": {},
   "source": [
    "### Naive Bayes"
   ]
  },
  {
   "cell_type": "code",
   "execution_count": 13,
   "metadata": {
    "collapsed": false
   },
   "outputs": [],
   "source": [
    "# Run Naive Bayes Classifier\n",
    "mnb_classifierB = MultinomialNB().fit(x_trainB, y_trainB)\n",
    "\n",
    "mnb_predictB = mnb_classifierB.predict(x_testB)"
   ]
  },
  {
   "cell_type": "code",
   "execution_count": 14,
   "metadata": {
    "collapsed": false
   },
   "outputs": [
    {
     "name": "stdout",
     "output_type": "stream",
     "text": [
      "Precision:0.857612267251\n",
      "Recall: 0.907826086957\n",
      "Accuracy: 0.8324\n"
     ]
    }
   ],
   "source": [
    "print 'Precision:' + str(metrics.precision_score(y_testB, mnb_predictB, average = 'binary', pos_label='high'))\n",
    "print 'Recall: ' + str(metrics.recall_score(y_testB, mnb_predictB, average = 'binary', pos_label='high'))\n",
    "print 'Accuracy: ' + str(metrics.accuracy_score(y_testB, mnb_predictB))"
   ]
  },
  {
   "cell_type": "code",
   "execution_count": 15,
   "metadata": {
    "collapsed": false
   },
   "outputs": [
    {
     "name": "stderr",
     "output_type": "stream",
     "text": [
      "C:\\Users\\brook\\Anaconda2\\lib\\site-packages\\seaborn\\matrix.py:151: FutureWarning: elementwise comparison failed; returning scalar instead, but in the future will perform elementwise comparison\n",
      "  if yticklabels == []:\n"
     ]
    },
    {
     "data": {
      "text/plain": [
       "<matplotlib.text.Text at 0xb596668>"
      ]
     },
     "execution_count": 15,
     "metadata": {},
     "output_type": "execute_result"
    },
    {
     "data": {
      "image/png": "[encoded data removed]",
      "text/plain": [
       "<matplotlib.figure.Figure at 0x10c8cb00>"
      ]
     },
     "metadata": {},
     "output_type": "display_data"
    }
   ],
   "source": [
    "#Fancy boy confusion matrix\n",
    "mat = metrics.confusion_matrix(y_testB, mnb_predictB)\n",
    "sns.heatmap(mat.T, square=True, annot=True, fmt='d', cbar=True, \n",
    "            xticklabels=unique(y_testB), yticklabels=unique(mnb_predictB))\n",
    "plt.xlabel('Actual Ratings')\n",
    "plt.ylabel('Predicted Ratings')\n",
    "plt.title('Multinomial Naive Bayes')"
   ]
  },
  {
   "cell_type": "markdown",
   "metadata": {},
   "source": [
    "### Logistic Regression"
   ]
  },
  {
   "cell_type": "code",
   "execution_count": 8,
   "metadata": {
    "collapsed": false
   },
   "outputs": [],
   "source": [
    "# Run Logistic Regression Classifier\n",
    "logreg_classifierB = linear_model.LogisticRegression().fit(x_trainB, y_trainB)\n",
    "\n",
    "logreg_predictB = logreg_classifierB.predict(x_testB)"
   ]
  },
  {
   "cell_type": "code",
   "execution_count": 9,
   "metadata": {
    "collapsed": false
   },
   "outputs": [
    {
     "name": "stdout",
     "output_type": "stream",
     "text": [
      "Precision:0.863508178229\n",
      "Recall: 0.887536231884\n",
      "Accuracy: 0.8256\n"
     ]
    }
   ],
   "source": [
    "print 'Precision:' + str(metrics.precision_score(y_testB, logreg_predictB, average = 'binary', pos_label='high'))\n",
    "print 'Recall: ' + str(metrics.recall_score(y_testB, logreg_predictB, average = 'binary', pos_label='high'))\n",
    "print 'Accuracy: ' + str(metrics.accuracy_score(y_testB, logreg_predictB))"
   ]
  },
  {
   "cell_type": "code",
   "execution_count": 11,
   "metadata": {
    "collapsed": false
   },
   "outputs": [
    {
     "data": {
      "text/plain": [
       "<matplotlib.text.Text at 0x10a86710>"
      ]
     },
     "execution_count": 11,
     "metadata": {},
     "output_type": "execute_result"
    },
    {
     "data": {
      "image/png": "[encoded data removed]",
      "text/plain": [
       "<matplotlib.figure.Figure at 0x10d6d7f0>"
      ]
     },
     "metadata": {},
     "output_type": "display_data"
    }
   ],
   "source": [
    "#Fancy boy confusion matrix\n",
    "mat = metrics.confusion_matrix(y_testB, logreg_predictB)\n",
    "sns.heatmap(mat.T, square=True, annot=True, fmt='d', cbar=True, \n",
    "            xticklabels=unique(y_testB), yticklabels=unique(logreg_predictB))\n",
    "plt.xlabel('Actual Ratings')\n",
    "plt.ylabel('Predicted Ratings')\n",
    "plt.title('Logistic Regression')"
   ]
  },
  {
   "cell_type": "markdown",
   "metadata": {},
   "source": [
    "### Summary\n",
    "\n",
    "For the text data, we fit a multinomial naive bayes model and a logistic regression model to the same training set that was used for Part A. The only difference was that we used the text data from the reviews rather than the numerical data as the predictors. The accuracies of these models on the test data were far superior to those that we saw from the numerical data. Both models had accuracies of over 82%, compared to the 68% that we saw previously. This is also significantly higher than the accuracy of the base case, indicating that there is strong predictive power in the text data."
   ]
  },
  {
   "cell_type": "markdown",
   "metadata": {},
   "source": [
    "## Task C: Numeric and Text Data"
   ]
  },
  {
   "cell_type": "code",
   "execution_count": 71,
   "metadata": {
    "collapsed": true
   },
   "outputs": [],
   "source": [
    "x_trainC = trainB.drop(['stars', 'rating'], axis=1)\n",
    "y_trainC = trainB['rating']\n",
    "\n",
    "x_testC = testB.drop(['stars', 'rating'], axis=1)\n",
    "y_testC = testB['rating']"
   ]
  },
  {
   "cell_type": "markdown",
   "metadata": {
    "collapsed": true
   },
   "source": [
    "## Task D: Unsupervised Sentiment Analysis"
   ]
  },
  {
   "cell_type": "code",
   "execution_count": 3,
   "metadata": {
    "collapsed": false
   },
   "outputs": [
    {
     "data": {
      "text/html": [
       "<div>\n",
       "<table border=\"1\" class=\"dataframe\">\n",
       "  <thead>\n",
       "    <tr style=\"text-align: right;\">\n",
       "      <th></th>\n",
       "      <th>0</th>\n",
       "      <th>1</th>\n",
       "      <th>2</th>\n",
       "      <th>3</th>\n",
       "      <th>4</th>\n",
       "      <th>5</th>\n",
       "      <th>6</th>\n",
       "      <th>7</th>\n",
       "      <th>8</th>\n",
       "      <th>9</th>\n",
       "      <th>...</th>\n",
       "      <th>13</th>\n",
       "      <th>14</th>\n",
       "      <th>15</th>\n",
       "      <th>16</th>\n",
       "      <th>17</th>\n",
       "      <th>18</th>\n",
       "      <th>19</th>\n",
       "      <th>20</th>\n",
       "      <th>21</th>\n",
       "      <th>22</th>\n",
       "    </tr>\n",
       "  </thead>\n",
       "  <tbody>\n",
       "    <tr>\n",
       "      <th>0</th>\n",
       "      <td>2</td>\n",
       "      <td>2</td>\n",
       "      <td>2</td>\n",
       "      <td>2</td>\n",
       "      <td>1</td>\n",
       "      <td>0</td>\n",
       "      <td>0</td>\n",
       "      <td>0</td>\n",
       "      <td>0</td>\n",
       "      <td>0</td>\n",
       "      <td>...</td>\n",
       "      <td>0</td>\n",
       "      <td>0</td>\n",
       "      <td>0</td>\n",
       "      <td>0</td>\n",
       "      <td>0</td>\n",
       "      <td>0</td>\n",
       "      <td>1</td>\n",
       "      <td>CLOSED            This JB s locati...</td>\n",
       "      <td>2</td>\n",
       "      <td>-2</td>\n",
       "    </tr>\n",
       "  </tbody>\n",
       "</table>\n",
       "<p>1 rows × 23 columns</p>\n",
       "</div>"
      ],
      "text/plain": [
       "   0   1   2   3   4   5   6   7   8   9  ...  13  14  15  16  17  18  19  \\\n",
       "0   2   2   2   2   1   0   0   0   0   0 ...   0   0   0   0   0   0   1   \n",
       "\n",
       "                                                  20  21  22  \n",
       "0              CLOSED            This JB s locati...   2  -2  \n",
       "\n",
       "[1 rows x 23 columns]"
      ]
     },
     "execution_count": 3,
     "metadata": {},
     "output_type": "execute_result"
    }
   ],
   "source": [
    "ss = pd.read_csv('YelpNoHeader+results.csv', header = None)\n",
    "ss.head(1)"
   ]
  },
  {
   "cell_type": "code",
   "execution_count": 4,
   "metadata": {
    "collapsed": true
   },
   "outputs": [],
   "source": [
    "ss['rating'] = np.where(ss[0] >= 4, 'high','low')"
   ]
  },
  {
   "cell_type": "code",
   "execution_count": 5,
   "metadata": {
    "collapsed": true
   },
   "outputs": [],
   "source": [
    "train, test = train_test_split(ss, test_size=0.25, random_state=123)\n",
    "\n",
    "x_train = train[21].reshape(-1,1)\n",
    "y_train = train['rating'].reshape(-1,1)\n",
    "\n",
    "x_test = test[21].reshape(-1,1)\n",
    "y_test = test['rating'].reshape(-1,1)"
   ]
  },
  {
   "cell_type": "code",
   "execution_count": 6,
   "metadata": {
    "collapsed": false
   },
   "outputs": [
    {
     "name": "stdout",
     "output_type": "stream",
     "text": [
      "Logistic Regression Accuracy: 0.7002\n"
     ]
    },
    {
     "name": "stderr",
     "output_type": "stream",
     "text": [
      "C:\\Users\\egonz\\Anaconda2\\lib\\site-packages\\sklearn\\utils\\validation.py:515: DataConversionWarning: A column-vector y was passed when a 1d array was expected. Please change the shape of y to (n_samples, ), for example using ravel().\n",
      "  y = column_or_1d(y, warn=True)\n"
     ]
    }
   ],
   "source": [
    "logreg = linear_model.LogisticRegression()\n",
    "logreg_classifier = logreg.fit(x_train, y_train)\n",
    "logreg_predict = logreg.predict(x_test)\n",
    "logreg_testAccuracy = logreg.score(x_test, y_test)\n",
    "\n",
    "print 'Logistic Regression Accuracy:', logreg_testAccuracy"
   ]
  },
  {
   "cell_type": "markdown",
   "metadata": {},
   "source": [
    "## Task E: PMI Approach"
   ]
  },
  {
   "cell_type": "code",
   "execution_count": 20,
   "metadata": {
    "collapsed": false
   },
   "outputs": [
    {
     "data": {
      "text/html": [
       "<div>\n",
       "<table border=\"1\" class=\"dataframe\">\n",
       "  <thead>\n",
       "    <tr style=\"text-align: right;\">\n",
       "      <th></th>\n",
       "      <th>rating</th>\n",
       "      <th>Review</th>\n",
       "      <th>tokenized</th>\n",
       "      <th>combined_bigram</th>\n",
       "    </tr>\n",
       "  </thead>\n",
       "  <tbody>\n",
       "    <tr>\n",
       "      <th>2311</th>\n",
       "      <td>high</td>\n",
       "      <td>I love this place! I lived in Phoenix for 15 y...</td>\n",
       "      <td>[I, love, this, place, !, I, lived, in, Phoeni...</td>\n",
       "      <td>[((I, PRP), (love, VBP)), ((love, VBP), (this,...</td>\n",
       "    </tr>\n",
       "    <tr>\n",
       "      <th>15256</th>\n",
       "      <td>high</td>\n",
       "      <td>Ticoz is a fantastic neighborhood restaurant/b...</td>\n",
       "      <td>[Ticoz, is, a, fantastic, neighborhood, restau...</td>\n",
       "      <td>[((Ticoz, NNP), (is, VBZ)), ((is, VBZ), (a, DT...</td>\n",
       "    </tr>\n",
       "    <tr>\n",
       "      <th>1618</th>\n",
       "      <td>low</td>\n",
       "      <td>the sushi is not worth it. it just tastes old ...</td>\n",
       "      <td>[the, sushi, is, not, worth, it, ., it, just, ...</td>\n",
       "      <td>[((the, DT), (sushi, NN)), ((sushi, NN), (is, ...</td>\n",
       "    </tr>\n",
       "    <tr>\n",
       "      <th>970</th>\n",
       "      <td>high</td>\n",
       "      <td>I just ate at Tommy V s (opened Friday  Septem...</td>\n",
       "      <td>[I, just, ate, at, Tommy, V, s, (, opened, Fri...</td>\n",
       "      <td>[((I, PRP), (just, RB)), ((just, RB), (ate, VB...</td>\n",
       "    </tr>\n",
       "    <tr>\n",
       "      <th>14872</th>\n",
       "      <td>low</td>\n",
       "      <td>like your scrambled eggs toasty brown  dry and...</td>\n",
       "      <td>[like, your, scrambled, eggs, toasty, brown, d...</td>\n",
       "      <td>[((like, IN), (your, PRP$)), ((your, PRP$), (s...</td>\n",
       "    </tr>\n",
       "  </tbody>\n",
       "</table>\n",
       "</div>"
      ],
      "text/plain": [
       "      rating                                             Review  \\\n",
       "2311    high  I love this place! I lived in Phoenix for 15 y...   \n",
       "15256   high  Ticoz is a fantastic neighborhood restaurant/b...   \n",
       "1618     low  the sushi is not worth it. it just tastes old ...   \n",
       "970     high  I just ate at Tommy V s (opened Friday  Septem...   \n",
       "14872    low  like your scrambled eggs toasty brown  dry and...   \n",
       "\n",
       "                                               tokenized  \\\n",
       "2311   [I, love, this, place, !, I, lived, in, Phoeni...   \n",
       "15256  [Ticoz, is, a, fantastic, neighborhood, restau...   \n",
       "1618   [the, sushi, is, not, worth, it, ., it, just, ...   \n",
       "970    [I, just, ate, at, Tommy, V, s, (, opened, Fri...   \n",
       "14872  [like, your, scrambled, eggs, toasty, brown, d...   \n",
       "\n",
       "                                         combined_bigram  \n",
       "2311   [((I, PRP), (love, VBP)), ((love, VBP), (this,...  \n",
       "15256  [((Ticoz, NNP), (is, VBZ)), ((is, VBZ), (a, DT...  \n",
       "1618   [((the, DT), (sushi, NN)), ((sushi, NN), (is, ...  \n",
       "970    [((I, PRP), (just, RB)), ((just, RB), (ate, VB...  \n",
       "14872  [((like, IN), (your, PRP$)), ((your, PRP$), (s...  "
      ]
     },
     "execution_count": 20,
     "metadata": {},
     "output_type": "execute_result"
    }
   ],
   "source": [
    "import nltk\n",
    "from nltk import word_tokenize\n",
    "from nltk.tokenize import RegexpTokenizer\n",
    "from nltk.util import bigrams\n",
    "\n",
    "yelp_pmi = yelp[['rating','Review']].sample(500)\n",
    "\n",
    "# Tokenize all job descriptions from sample\n",
    "yelp_pmi['tokenized'] = yelp_pmi['Review'].apply(lambda row: word_tokenize(row.decode('utf-8').strip()))\n",
    "yelp_pmi['combined_bigram'] = yelp_pmi['tokenized'].apply(lambda row: list(bigrams(pos_tag(row))))\n",
    "\n",
    "yelp_pmi.head()"
   ]
  },
  {
   "cell_type": "code",
   "execution_count": 12,
   "metadata": {
    "collapsed": true
   },
   "outputs": [],
   "source": [
    "pos_filter = [['JJ','NN'],['JJ','NNS'],['RB','JJ'],['RBR','JJ'],['RBS','JJ'],['JJ','JJ'],['NN','JJ'],['NNS','JJ'],['RB','VB']]\n",
    "positive_words = ['excellent']\n",
    "negative_words = ['poor']"
   ]
  },
  {
   "cell_type": "code",
   "execution_count": 19,
   "metadata": {
    "collapsed": false
   },
   "outputs": [
    {
     "data": {
      "text/html": [
       "<div>\n",
       "<table border=\"1\" class=\"dataframe\">\n",
       "  <thead>\n",
       "    <tr style=\"text-align: right;\">\n",
       "      <th></th>\n",
       "      <th>rating</th>\n",
       "      <th>Review</th>\n",
       "      <th>tokenized_strip</th>\n",
       "      <th>tokenized</th>\n",
       "      <th>combined_bigram</th>\n",
       "      <th>bigram</th>\n",
       "      <th>pos_bigram</th>\n",
       "    </tr>\n",
       "  </thead>\n",
       "  <tbody>\n",
       "    <tr>\n",
       "      <th>3</th>\n",
       "      <td>low</td>\n",
       "      <td>Whenever I offer to take my mom out to lunch s...</td>\n",
       "      <td>Whenever I offer to take my mom out to lunch s...</td>\n",
       "      <td>[Whenever, I, offer, to, take, my, mom, out, t...</td>\n",
       "      <td>((Whenever, WRB), (I, PRP))</td>\n",
       "      <td>[Whenever, I]</td>\n",
       "      <td>[WRB, PRP]</td>\n",
       "    </tr>\n",
       "    <tr>\n",
       "      <th>3</th>\n",
       "      <td>low</td>\n",
       "      <td>Whenever I offer to take my mom out to lunch s...</td>\n",
       "      <td>Whenever I offer to take my mom out to lunch s...</td>\n",
       "      <td>[Whenever, I, offer, to, take, my, mom, out, t...</td>\n",
       "      <td>((I, PRP), (offer, VBP))</td>\n",
       "      <td>[I, offer]</td>\n",
       "      <td>[PRP, VBP]</td>\n",
       "    </tr>\n",
       "    <tr>\n",
       "      <th>3</th>\n",
       "      <td>low</td>\n",
       "      <td>Whenever I offer to take my mom out to lunch s...</td>\n",
       "      <td>Whenever I offer to take my mom out to lunch s...</td>\n",
       "      <td>[Whenever, I, offer, to, take, my, mom, out, t...</td>\n",
       "      <td>((offer, VBP), (to, TO))</td>\n",
       "      <td>[offer, to]</td>\n",
       "      <td>[VBP, TO]</td>\n",
       "    </tr>\n",
       "    <tr>\n",
       "      <th>3</th>\n",
       "      <td>low</td>\n",
       "      <td>Whenever I offer to take my mom out to lunch s...</td>\n",
       "      <td>Whenever I offer to take my mom out to lunch s...</td>\n",
       "      <td>[Whenever, I, offer, to, take, my, mom, out, t...</td>\n",
       "      <td>((to, TO), (take, VB))</td>\n",
       "      <td>[to, take]</td>\n",
       "      <td>[TO, VB]</td>\n",
       "    </tr>\n",
       "    <tr>\n",
       "      <th>3</th>\n",
       "      <td>low</td>\n",
       "      <td>Whenever I offer to take my mom out to lunch s...</td>\n",
       "      <td>Whenever I offer to take my mom out to lunch s...</td>\n",
       "      <td>[Whenever, I, offer, to, take, my, mom, out, t...</td>\n",
       "      <td>((take, VB), (my, PRP$))</td>\n",
       "      <td>[take, my]</td>\n",
       "      <td>[VB, PRP$]</td>\n",
       "    </tr>\n",
       "  </tbody>\n",
       "</table>\n",
       "</div>"
      ],
      "text/plain": [
       "  rating                                             Review  \\\n",
       "3    low  Whenever I offer to take my mom out to lunch s...   \n",
       "3    low  Whenever I offer to take my mom out to lunch s...   \n",
       "3    low  Whenever I offer to take my mom out to lunch s...   \n",
       "3    low  Whenever I offer to take my mom out to lunch s...   \n",
       "3    low  Whenever I offer to take my mom out to lunch s...   \n",
       "\n",
       "                                     tokenized_strip  \\\n",
       "3  Whenever I offer to take my mom out to lunch s...   \n",
       "3  Whenever I offer to take my mom out to lunch s...   \n",
       "3  Whenever I offer to take my mom out to lunch s...   \n",
       "3  Whenever I offer to take my mom out to lunch s...   \n",
       "3  Whenever I offer to take my mom out to lunch s...   \n",
       "\n",
       "                                           tokenized  \\\n",
       "3  [Whenever, I, offer, to, take, my, mom, out, t...   \n",
       "3  [Whenever, I, offer, to, take, my, mom, out, t...   \n",
       "3  [Whenever, I, offer, to, take, my, mom, out, t...   \n",
       "3  [Whenever, I, offer, to, take, my, mom, out, t...   \n",
       "3  [Whenever, I, offer, to, take, my, mom, out, t...   \n",
       "\n",
       "               combined_bigram         bigram  pos_bigram  \n",
       "3  ((Whenever, WRB), (I, PRP))  [Whenever, I]  [WRB, PRP]  \n",
       "3     ((I, PRP), (offer, VBP))     [I, offer]  [PRP, VBP]  \n",
       "3     ((offer, VBP), (to, TO))    [offer, to]   [VBP, TO]  \n",
       "3       ((to, TO), (take, VB))     [to, take]    [TO, VB]  \n",
       "3     ((take, VB), (my, PRP$))     [take, my]  [VB, PRP$]  "
      ]
     },
     "execution_count": 19,
     "metadata": {},
     "output_type": "execute_result"
    }
   ],
   "source": [
    "yelp_pmi_pos = yelp_pmi.apply(lambda x: pd.Series(x['combined_bigram']),axis=1).stack().reset_index(level=1, drop=True)\n",
    "yelp_pmi_pos.name = 'combined_bigram'\n",
    "\n",
    "yelp_pmi_pos = yelp_pmi.drop('combined_bigram', axis=1).join(yelp_pmi_pos)\n",
    "\n",
    "yelp_pmi_pos['bigram'] = yelp_pmi_pos['combined_bigram'].apply(lambda row: [x[0] for x in row])\n",
    "yelp_pmi_pos['pos_bigram'] = yelp_pmi_pos['combined_bigram'].apply(lambda row: [x[1] for x in row])\n",
    "\n",
    "yelp_pmi_pos.head()"
   ]
  },
  {
   "cell_type": "markdown",
   "metadata": {},
   "source": [
    "Remaining Steps:\n",
    "\n",
    "    1.) Filter out rows where pos_bigram does not match record in pos_filter list\n",
    "    2.) Calculate Semantic Orientation for each phrase\n",
    "    3.) Roll-up the average semantic orientation by ID\n",
    "    4.) Classify positives as \"high\", negatives as \"low\"\n",
    "    5.) Measure accuracy\n",
    "\n",
    "Extra:\n",
    "\n",
    "    1.) Potentially add additional positive/negative words to improve performance"
   ]
  },
  {
   "cell_type": "code",
   "execution_count": 56,
   "metadata": {
    "collapsed": true
   },
   "outputs": [
    {
     "data": {
      "text/html": [
       "<div>\n",
       "<table border=\"1\" class=\"dataframe\">\n",
       "  <thead>\n",
       "    <tr style=\"text-align: right;\">\n",
       "      <th></th>\n",
       "      <th>rating</th>\n",
       "      <th>Review</th>\n",
       "      <th>tokenized_strip</th>\n",
       "      <th>tokenized</th>\n",
       "      <th>pos</th>\n",
       "      <th>bigram</th>\n",
       "      <th>pos_bigram</th>\n",
       "    </tr>\n",
       "  </thead>\n",
       "  <tbody>\n",
       "    <tr>\n",
       "      <th>8329</th>\n",
       "      <td>high</td>\n",
       "      <td>Went for a date here with my GF. Food was good...</td>\n",
       "      <td>Went for a date here with my GF. Food was good...</td>\n",
       "      <td>[Went, for, a, date, here, with, my, GF, ., Fo...</td>\n",
       "      <td>(Went, NN)</td>\n",
       "      <td>[(Went, for), (for, a), (a, date), (date, here...</td>\n",
       "      <td>[(NN, IN), (IN, DT), (DT, NN), (NN, RB), (RB, ...</td>\n",
       "    </tr>\n",
       "    <tr>\n",
       "      <th>8329</th>\n",
       "      <td>high</td>\n",
       "      <td>Went for a date here with my GF. Food was good...</td>\n",
       "      <td>Went for a date here with my GF. Food was good...</td>\n",
       "      <td>[Went, for, a, date, here, with, my, GF, ., Fo...</td>\n",
       "      <td>(for, IN)</td>\n",
       "      <td>[(Went, for), (for, a), (a, date), (date, here...</td>\n",
       "      <td>[(NN, IN), (IN, DT), (DT, NN), (NN, RB), (RB, ...</td>\n",
       "    </tr>\n",
       "    <tr>\n",
       "      <th>8329</th>\n",
       "      <td>high</td>\n",
       "      <td>Went for a date here with my GF. Food was good...</td>\n",
       "      <td>Went for a date here with my GF. Food was good...</td>\n",
       "      <td>[Went, for, a, date, here, with, my, GF, ., Fo...</td>\n",
       "      <td>(a, DT)</td>\n",
       "      <td>[(Went, for), (for, a), (a, date), (date, here...</td>\n",
       "      <td>[(NN, IN), (IN, DT), (DT, NN), (NN, RB), (RB, ...</td>\n",
       "    </tr>\n",
       "    <tr>\n",
       "      <th>8329</th>\n",
       "      <td>high</td>\n",
       "      <td>Went for a date here with my GF. Food was good...</td>\n",
       "      <td>Went for a date here with my GF. Food was good...</td>\n",
       "      <td>[Went, for, a, date, here, with, my, GF, ., Fo...</td>\n",
       "      <td>(date, NN)</td>\n",
       "      <td>[(Went, for), (for, a), (a, date), (date, here...</td>\n",
       "      <td>[(NN, IN), (IN, DT), (DT, NN), (NN, RB), (RB, ...</td>\n",
       "    </tr>\n",
       "    <tr>\n",
       "      <th>8329</th>\n",
       "      <td>high</td>\n",
       "      <td>Went for a date here with my GF. Food was good...</td>\n",
       "      <td>Went for a date here with my GF. Food was good...</td>\n",
       "      <td>[Went, for, a, date, here, with, my, GF, ., Fo...</td>\n",
       "      <td>(here, RB)</td>\n",
       "      <td>[(Went, for), (for, a), (a, date), (date, here...</td>\n",
       "      <td>[(NN, IN), (IN, DT), (DT, NN), (NN, RB), (RB, ...</td>\n",
       "    </tr>\n",
       "    <tr>\n",
       "      <th>8329</th>\n",
       "      <td>high</td>\n",
       "      <td>Went for a date here with my GF. Food was good...</td>\n",
       "      <td>Went for a date here with my GF. Food was good...</td>\n",
       "      <td>[Went, for, a, date, here, with, my, GF, ., Fo...</td>\n",
       "      <td>(with, IN)</td>\n",
       "      <td>[(Went, for), (for, a), (a, date), (date, here...</td>\n",
       "      <td>[(NN, IN), (IN, DT), (DT, NN), (NN, RB), (RB, ...</td>\n",
       "    </tr>\n",
       "    <tr>\n",
       "      <th>8329</th>\n",
       "      <td>high</td>\n",
       "      <td>Went for a date here with my GF. Food was good...</td>\n",
       "      <td>Went for a date here with my GF. Food was good...</td>\n",
       "      <td>[Went, for, a, date, here, with, my, GF, ., Fo...</td>\n",
       "      <td>(my, PRP$)</td>\n",
       "      <td>[(Went, for), (for, a), (a, date), (date, here...</td>\n",
       "      <td>[(NN, IN), (IN, DT), (DT, NN), (NN, RB), (RB, ...</td>\n",
       "    </tr>\n",
       "    <tr>\n",
       "      <th>8329</th>\n",
       "      <td>high</td>\n",
       "      <td>Went for a date here with my GF. Food was good...</td>\n",
       "      <td>Went for a date here with my GF. Food was good...</td>\n",
       "      <td>[Went, for, a, date, here, with, my, GF, ., Fo...</td>\n",
       "      <td>(GF, NNP)</td>\n",
       "      <td>[(Went, for), (for, a), (a, date), (date, here...</td>\n",
       "      <td>[(NN, IN), (IN, DT), (DT, NN), (NN, RB), (RB, ...</td>\n",
       "    </tr>\n",
       "    <tr>\n",
       "      <th>8329</th>\n",
       "      <td>high</td>\n",
       "      <td>Went for a date here with my GF. Food was good...</td>\n",
       "      <td>Went for a date here with my GF. Food was good...</td>\n",
       "      <td>[Went, for, a, date, here, with, my, GF, ., Fo...</td>\n",
       "      <td>(., .)</td>\n",
       "      <td>[(Went, for), (for, a), (a, date), (date, here...</td>\n",
       "      <td>[(NN, IN), (IN, DT), (DT, NN), (NN, RB), (RB, ...</td>\n",
       "    </tr>\n",
       "    <tr>\n",
       "      <th>8329</th>\n",
       "      <td>high</td>\n",
       "      <td>Went for a date here with my GF. Food was good...</td>\n",
       "      <td>Went for a date here with my GF. Food was good...</td>\n",
       "      <td>[Went, for, a, date, here, with, my, GF, ., Fo...</td>\n",
       "      <td>(Food, NNP)</td>\n",
       "      <td>[(Went, for), (for, a), (a, date), (date, here...</td>\n",
       "      <td>[(NN, IN), (IN, DT), (DT, NN), (NN, RB), (RB, ...</td>\n",
       "    </tr>\n",
       "    <tr>\n",
       "      <th>8329</th>\n",
       "      <td>high</td>\n",
       "      <td>Went for a date here with my GF. Food was good...</td>\n",
       "      <td>Went for a date here with my GF. Food was good...</td>\n",
       "      <td>[Went, for, a, date, here, with, my, GF, ., Fo...</td>\n",
       "      <td>(was, VBD)</td>\n",
       "      <td>[(Went, for), (for, a), (a, date), (date, here...</td>\n",
       "      <td>[(NN, IN), (IN, DT), (DT, NN), (NN, RB), (RB, ...</td>\n",
       "    </tr>\n",
       "    <tr>\n",
       "      <th>8329</th>\n",
       "      <td>high</td>\n",
       "      <td>Went for a date here with my GF. Food was good...</td>\n",
       "      <td>Went for a date here with my GF. Food was good...</td>\n",
       "      <td>[Went, for, a, date, here, with, my, GF, ., Fo...</td>\n",
       "      <td>(good, JJ)</td>\n",
       "      <td>[(Went, for), (for, a), (a, date), (date, here...</td>\n",
       "      <td>[(NN, IN), (IN, DT), (DT, NN), (NN, RB), (RB, ...</td>\n",
       "    </tr>\n",
       "    <tr>\n",
       "      <th>8329</th>\n",
       "      <td>high</td>\n",
       "      <td>Went for a date here with my GF. Food was good...</td>\n",
       "      <td>Went for a date here with my GF. Food was good...</td>\n",
       "      <td>[Went, for, a, date, here, with, my, GF, ., Fo...</td>\n",
       "      <td>(nice, JJ)</td>\n",
       "      <td>[(Went, for), (for, a), (a, date), (date, here...</td>\n",
       "      <td>[(NN, IN), (IN, DT), (DT, NN), (NN, RB), (RB, ...</td>\n",
       "    </tr>\n",
       "    <tr>\n",
       "      <th>8329</th>\n",
       "      <td>high</td>\n",
       "      <td>Went for a date here with my GF. Food was good...</td>\n",
       "      <td>Went for a date here with my GF. Food was good...</td>\n",
       "      <td>[Went, for, a, date, here, with, my, GF, ., Fo...</td>\n",
       "      <td>(portions, NNS)</td>\n",
       "      <td>[(Went, for), (for, a), (a, date), (date, here...</td>\n",
       "      <td>[(NN, IN), (IN, DT), (DT, NN), (NN, RB), (RB, ...</td>\n",
       "    </tr>\n",
       "    <tr>\n",
       "      <th>8329</th>\n",
       "      <td>high</td>\n",
       "      <td>Went for a date here with my GF. Food was good...</td>\n",
       "      <td>Went for a date here with my GF. Food was good...</td>\n",
       "      <td>[Went, for, a, date, here, with, my, GF, ., Fo...</td>\n",
       "      <td>(and, CC)</td>\n",
       "      <td>[(Went, for), (for, a), (a, date), (date, here...</td>\n",
       "      <td>[(NN, IN), (IN, DT), (DT, NN), (NN, RB), (RB, ...</td>\n",
       "    </tr>\n",
       "    <tr>\n",
       "      <th>8329</th>\n",
       "      <td>high</td>\n",
       "      <td>Went for a date here with my GF. Food was good...</td>\n",
       "      <td>Went for a date here with my GF. Food was good...</td>\n",
       "      <td>[Went, for, a, date, here, with, my, GF, ., Fo...</td>\n",
       "      <td>(they, PRP)</td>\n",
       "      <td>[(Went, for), (for, a), (a, date), (date, here...</td>\n",
       "      <td>[(NN, IN), (IN, DT), (DT, NN), (NN, RB), (RB, ...</td>\n",
       "    </tr>\n",
       "    <tr>\n",
       "      <th>8329</th>\n",
       "      <td>high</td>\n",
       "      <td>Went for a date here with my GF. Food was good...</td>\n",
       "      <td>Went for a date here with my GF. Food was good...</td>\n",
       "      <td>[Went, for, a, date, here, with, my, GF, ., Fo...</td>\n",
       "      <td>(have, VBP)</td>\n",
       "      <td>[(Went, for), (for, a), (a, date), (date, here...</td>\n",
       "      <td>[(NN, IN), (IN, DT), (DT, NN), (NN, RB), (RB, ...</td>\n",
       "    </tr>\n",
       "    <tr>\n",
       "      <th>8329</th>\n",
       "      <td>high</td>\n",
       "      <td>Went for a date here with my GF. Food was good...</td>\n",
       "      <td>Went for a date here with my GF. Food was good...</td>\n",
       "      <td>[Went, for, a, date, here, with, my, GF, ., Fo...</td>\n",
       "      <td>(a, DT)</td>\n",
       "      <td>[(Went, for), (for, a), (a, date), (date, here...</td>\n",
       "      <td>[(NN, IN), (IN, DT), (DT, NN), (NN, RB), (RB, ...</td>\n",
       "    </tr>\n",
       "    <tr>\n",
       "      <th>8329</th>\n",
       "      <td>high</td>\n",
       "      <td>Went for a date here with my GF. Food was good...</td>\n",
       "      <td>Went for a date here with my GF. Food was good...</td>\n",
       "      <td>[Went, for, a, date, here, with, my, GF, ., Fo...</td>\n",
       "      <td>(pretty, RB)</td>\n",
       "      <td>[(Went, for), (for, a), (a, date), (date, here...</td>\n",
       "      <td>[(NN, IN), (IN, DT), (DT, NN), (NN, RB), (RB, ...</td>\n",
       "    </tr>\n",
       "    <tr>\n",
       "      <th>8329</th>\n",
       "      <td>high</td>\n",
       "      <td>Went for a date here with my GF. Food was good...</td>\n",
       "      <td>Went for a date here with my GF. Food was good...</td>\n",
       "      <td>[Went, for, a, date, here, with, my, GF, ., Fo...</td>\n",
       "      <td>(good, JJ)</td>\n",
       "      <td>[(Went, for), (for, a), (a, date), (date, here...</td>\n",
       "      <td>[(NN, IN), (IN, DT), (DT, NN), (NN, RB), (RB, ...</td>\n",
       "    </tr>\n",
       "    <tr>\n",
       "      <th>8329</th>\n",
       "      <td>high</td>\n",
       "      <td>Went for a date here with my GF. Food was good...</td>\n",
       "      <td>Went for a date here with my GF. Food was good...</td>\n",
       "      <td>[Went, for, a, date, here, with, my, GF, ., Fo...</td>\n",
       "      <td>(wine, NN)</td>\n",
       "      <td>[(Went, for), (for, a), (a, date), (date, here...</td>\n",
       "      <td>[(NN, IN), (IN, DT), (DT, NN), (NN, RB), (RB, ...</td>\n",
       "    </tr>\n",
       "    <tr>\n",
       "      <th>8329</th>\n",
       "      <td>high</td>\n",
       "      <td>Went for a date here with my GF. Food was good...</td>\n",
       "      <td>Went for a date here with my GF. Food was good...</td>\n",
       "      <td>[Went, for, a, date, here, with, my, GF, ., Fo...</td>\n",
       "      <td>(selection, NN)</td>\n",
       "      <td>[(Went, for), (for, a), (a, date), (date, here...</td>\n",
       "      <td>[(NN, IN), (IN, DT), (DT, NN), (NN, RB), (RB, ...</td>\n",
       "    </tr>\n",
       "    <tr>\n",
       "      <th>8329</th>\n",
       "      <td>high</td>\n",
       "      <td>Went for a date here with my GF. Food was good...</td>\n",
       "      <td>Went for a date here with my GF. Food was good...</td>\n",
       "      <td>[Went, for, a, date, here, with, my, GF, ., Fo...</td>\n",
       "      <td>(., .)</td>\n",
       "      <td>[(Went, for), (for, a), (a, date), (date, here...</td>\n",
       "      <td>[(NN, IN), (IN, DT), (DT, NN), (NN, RB), (RB, ...</td>\n",
       "    </tr>\n",
       "    <tr>\n",
       "      <th>8329</th>\n",
       "      <td>high</td>\n",
       "      <td>Went for a date here with my GF. Food was good...</td>\n",
       "      <td>Went for a date here with my GF. Food was good...</td>\n",
       "      <td>[Went, for, a, date, here, with, my, GF, ., Fo...</td>\n",
       "      <td>(I, PRP)</td>\n",
       "      <td>[(Went, for), (for, a), (a, date), (date, here...</td>\n",
       "      <td>[(NN, IN), (IN, DT), (DT, NN), (NN, RB), (RB, ...</td>\n",
       "    </tr>\n",
       "    <tr>\n",
       "      <th>8329</th>\n",
       "      <td>high</td>\n",
       "      <td>Went for a date here with my GF. Food was good...</td>\n",
       "      <td>Went for a date here with my GF. Food was good...</td>\n",
       "      <td>[Went, for, a, date, here, with, my, GF, ., Fo...</td>\n",
       "      <td>(would, MD)</td>\n",
       "      <td>[(Went, for), (for, a), (a, date), (date, here...</td>\n",
       "      <td>[(NN, IN), (IN, DT), (DT, NN), (NN, RB), (RB, ...</td>\n",
       "    </tr>\n",
       "    <tr>\n",
       "      <th>8329</th>\n",
       "      <td>high</td>\n",
       "      <td>Went for a date here with my GF. Food was good...</td>\n",
       "      <td>Went for a date here with my GF. Food was good...</td>\n",
       "      <td>[Went, for, a, date, here, with, my, GF, ., Fo...</td>\n",
       "      <td>(go, VB)</td>\n",
       "      <td>[(Went, for), (for, a), (a, date), (date, here...</td>\n",
       "      <td>[(NN, IN), (IN, DT), (DT, NN), (NN, RB), (RB, ...</td>\n",
       "    </tr>\n",
       "    <tr>\n",
       "      <th>8329</th>\n",
       "      <td>high</td>\n",
       "      <td>Went for a date here with my GF. Food was good...</td>\n",
       "      <td>Went for a date here with my GF. Food was good...</td>\n",
       "      <td>[Went, for, a, date, here, with, my, GF, ., Fo...</td>\n",
       "      <td>(back, RB)</td>\n",
       "      <td>[(Went, for), (for, a), (a, date), (date, here...</td>\n",
       "      <td>[(NN, IN), (IN, DT), (DT, NN), (NN, RB), (RB, ...</td>\n",
       "    </tr>\n",
       "    <tr>\n",
       "      <th>8329</th>\n",
       "      <td>high</td>\n",
       "      <td>Went for a date here with my GF. Food was good...</td>\n",
       "      <td>Went for a date here with my GF. Food was good...</td>\n",
       "      <td>[Went, for, a, date, here, with, my, GF, ., Fo...</td>\n",
       "      <td>(!, .)</td>\n",
       "      <td>[(Went, for), (for, a), (a, date), (date, here...</td>\n",
       "      <td>[(NN, IN), (IN, DT), (DT, NN), (NN, RB), (RB, ...</td>\n",
       "    </tr>\n",
       "    <tr>\n",
       "      <th>4508</th>\n",
       "      <td>high</td>\n",
       "      <td>Service at the bar was great. The only negativ...</td>\n",
       "      <td>Service at the bar was great. The only negativ...</td>\n",
       "      <td>[Service, at, the, bar, was, great, ., The, on...</td>\n",
       "      <td>(Service, NNP)</td>\n",
       "      <td>[(Service, at), (at, the), (the, bar), (bar, w...</td>\n",
       "      <td>[(NNP, IN), (IN, DT), (DT, NN), (NN, VBD), (VB...</td>\n",
       "    </tr>\n",
       "    <tr>\n",
       "      <th>4508</th>\n",
       "      <td>high</td>\n",
       "      <td>Service at the bar was great. The only negativ...</td>\n",
       "      <td>Service at the bar was great. The only negativ...</td>\n",
       "      <td>[Service, at, the, bar, was, great, ., The, on...</td>\n",
       "      <td>(at, IN)</td>\n",
       "      <td>[(Service, at), (at, the), (the, bar), (bar, w...</td>\n",
       "      <td>[(NNP, IN), (IN, DT), (DT, NN), (NN, VBD), (VB...</td>\n",
       "    </tr>\n",
       "    <tr>\n",
       "      <th>...</th>\n",
       "      <td>...</td>\n",
       "      <td>...</td>\n",
       "      <td>...</td>\n",
       "      <td>...</td>\n",
       "      <td>...</td>\n",
       "      <td>...</td>\n",
       "      <td>...</td>\n",
       "    </tr>\n",
       "    <tr>\n",
       "      <th>12467</th>\n",
       "      <td>high</td>\n",
       "      <td>I ll tell you what.  That Carolina sure knows ...</td>\n",
       "      <td>I ll tell you what.  That Carolina sure knows ...</td>\n",
       "      <td>[I, ll, tell, you, what, ., That, Carolina, su...</td>\n",
       "      <td>(I, PRP)</td>\n",
       "      <td>[(I, ll), (ll, tell), (tell, you), (you, what)...</td>\n",
       "      <td>[(PRP, VBP), (VBP, VB), (VB, PRP), (PRP, WP), ...</td>\n",
       "    </tr>\n",
       "    <tr>\n",
       "      <th>12467</th>\n",
       "      <td>high</td>\n",
       "      <td>I ll tell you what.  That Carolina sure knows ...</td>\n",
       "      <td>I ll tell you what.  That Carolina sure knows ...</td>\n",
       "      <td>[I, ll, tell, you, what, ., That, Carolina, su...</td>\n",
       "      <td>(ll, VBP)</td>\n",
       "      <td>[(I, ll), (ll, tell), (tell, you), (you, what)...</td>\n",
       "      <td>[(PRP, VBP), (VBP, VB), (VB, PRP), (PRP, WP), ...</td>\n",
       "    </tr>\n",
       "    <tr>\n",
       "      <th>12467</th>\n",
       "      <td>high</td>\n",
       "      <td>I ll tell you what.  That Carolina sure knows ...</td>\n",
       "      <td>I ll tell you what.  That Carolina sure knows ...</td>\n",
       "      <td>[I, ll, tell, you, what, ., That, Carolina, su...</td>\n",
       "      <td>(tell, VB)</td>\n",
       "      <td>[(I, ll), (ll, tell), (tell, you), (you, what)...</td>\n",
       "      <td>[(PRP, VBP), (VBP, VB), (VB, PRP), (PRP, WP), ...</td>\n",
       "    </tr>\n",
       "    <tr>\n",
       "      <th>12467</th>\n",
       "      <td>high</td>\n",
       "      <td>I ll tell you what.  That Carolina sure knows ...</td>\n",
       "      <td>I ll tell you what.  That Carolina sure knows ...</td>\n",
       "      <td>[I, ll, tell, you, what, ., That, Carolina, su...</td>\n",
       "      <td>(you, PRP)</td>\n",
       "      <td>[(I, ll), (ll, tell), (tell, you), (you, what)...</td>\n",
       "      <td>[(PRP, VBP), (VBP, VB), (VB, PRP), (PRP, WP), ...</td>\n",
       "    </tr>\n",
       "    <tr>\n",
       "      <th>12467</th>\n",
       "      <td>high</td>\n",
       "      <td>I ll tell you what.  That Carolina sure knows ...</td>\n",
       "      <td>I ll tell you what.  That Carolina sure knows ...</td>\n",
       "      <td>[I, ll, tell, you, what, ., That, Carolina, su...</td>\n",
       "      <td>(what, WP)</td>\n",
       "      <td>[(I, ll), (ll, tell), (tell, you), (you, what)...</td>\n",
       "      <td>[(PRP, VBP), (VBP, VB), (VB, PRP), (PRP, WP), ...</td>\n",
       "    </tr>\n",
       "    <tr>\n",
       "      <th>12467</th>\n",
       "      <td>high</td>\n",
       "      <td>I ll tell you what.  That Carolina sure knows ...</td>\n",
       "      <td>I ll tell you what.  That Carolina sure knows ...</td>\n",
       "      <td>[I, ll, tell, you, what, ., That, Carolina, su...</td>\n",
       "      <td>(., .)</td>\n",
       "      <td>[(I, ll), (ll, tell), (tell, you), (you, what)...</td>\n",
       "      <td>[(PRP, VBP), (VBP, VB), (VB, PRP), (PRP, WP), ...</td>\n",
       "    </tr>\n",
       "    <tr>\n",
       "      <th>12467</th>\n",
       "      <td>high</td>\n",
       "      <td>I ll tell you what.  That Carolina sure knows ...</td>\n",
       "      <td>I ll tell you what.  That Carolina sure knows ...</td>\n",
       "      <td>[I, ll, tell, you, what, ., That, Carolina, su...</td>\n",
       "      <td>(That, DT)</td>\n",
       "      <td>[(I, ll), (ll, tell), (tell, you), (you, what)...</td>\n",
       "      <td>[(PRP, VBP), (VBP, VB), (VB, PRP), (PRP, WP), ...</td>\n",
       "    </tr>\n",
       "    <tr>\n",
       "      <th>12467</th>\n",
       "      <td>high</td>\n",
       "      <td>I ll tell you what.  That Carolina sure knows ...</td>\n",
       "      <td>I ll tell you what.  That Carolina sure knows ...</td>\n",
       "      <td>[I, ll, tell, you, what, ., That, Carolina, su...</td>\n",
       "      <td>(Carolina, NNP)</td>\n",
       "      <td>[(I, ll), (ll, tell), (tell, you), (you, what)...</td>\n",
       "      <td>[(PRP, VBP), (VBP, VB), (VB, PRP), (PRP, WP), ...</td>\n",
       "    </tr>\n",
       "    <tr>\n",
       "      <th>12467</th>\n",
       "      <td>high</td>\n",
       "      <td>I ll tell you what.  That Carolina sure knows ...</td>\n",
       "      <td>I ll tell you what.  That Carolina sure knows ...</td>\n",
       "      <td>[I, ll, tell, you, what, ., That, Carolina, su...</td>\n",
       "      <td>(sure, JJ)</td>\n",
       "      <td>[(I, ll), (ll, tell), (tell, you), (you, what)...</td>\n",
       "      <td>[(PRP, VBP), (VBP, VB), (VB, PRP), (PRP, WP), ...</td>\n",
       "    </tr>\n",
       "    <tr>\n",
       "      <th>12467</th>\n",
       "      <td>high</td>\n",
       "      <td>I ll tell you what.  That Carolina sure knows ...</td>\n",
       "      <td>I ll tell you what.  That Carolina sure knows ...</td>\n",
       "      <td>[I, ll, tell, you, what, ., That, Carolina, su...</td>\n",
       "      <td>(knows, VBZ)</td>\n",
       "      <td>[(I, ll), (ll, tell), (tell, you), (you, what)...</td>\n",
       "      <td>[(PRP, VBP), (VBP, VB), (VB, PRP), (PRP, WP), ...</td>\n",
       "    </tr>\n",
       "    <tr>\n",
       "      <th>12467</th>\n",
       "      <td>high</td>\n",
       "      <td>I ll tell you what.  That Carolina sure knows ...</td>\n",
       "      <td>I ll tell you what.  That Carolina sure knows ...</td>\n",
       "      <td>[I, ll, tell, you, what, ., That, Carolina, su...</td>\n",
       "      <td>(how, WRB)</td>\n",
       "      <td>[(I, ll), (ll, tell), (tell, you), (you, what)...</td>\n",
       "      <td>[(PRP, VBP), (VBP, VB), (VB, PRP), (PRP, WP), ...</td>\n",
       "    </tr>\n",
       "    <tr>\n",
       "      <th>12467</th>\n",
       "      <td>high</td>\n",
       "      <td>I ll tell you what.  That Carolina sure knows ...</td>\n",
       "      <td>I ll tell you what.  That Carolina sure knows ...</td>\n",
       "      <td>[I, ll, tell, you, what, ., That, Carolina, su...</td>\n",
       "      <td>(to, TO)</td>\n",
       "      <td>[(I, ll), (ll, tell), (tell, you), (you, what)...</td>\n",
       "      <td>[(PRP, VBP), (VBP, VB), (VB, PRP), (PRP, WP), ...</td>\n",
       "    </tr>\n",
       "    <tr>\n",
       "      <th>12467</th>\n",
       "      <td>high</td>\n",
       "      <td>I ll tell you what.  That Carolina sure knows ...</td>\n",
       "      <td>I ll tell you what.  That Carolina sure knows ...</td>\n",
       "      <td>[I, ll, tell, you, what, ., That, Carolina, su...</td>\n",
       "      <td>(make, VB)</td>\n",
       "      <td>[(I, ll), (ll, tell), (tell, you), (you, what)...</td>\n",
       "      <td>[(PRP, VBP), (VBP, VB), (VB, PRP), (PRP, WP), ...</td>\n",
       "    </tr>\n",
       "    <tr>\n",
       "      <th>12467</th>\n",
       "      <td>high</td>\n",
       "      <td>I ll tell you what.  That Carolina sure knows ...</td>\n",
       "      <td>I ll tell you what.  That Carolina sure knows ...</td>\n",
       "      <td>[I, ll, tell, you, what, ., That, Carolina, su...</td>\n",
       "      <td>(tortillas, NN)</td>\n",
       "      <td>[(I, ll), (ll, tell), (tell, you), (you, what)...</td>\n",
       "      <td>[(PRP, VBP), (VBP, VB), (VB, PRP), (PRP, WP), ...</td>\n",
       "    </tr>\n",
       "    <tr>\n",
       "      <th>12467</th>\n",
       "      <td>high</td>\n",
       "      <td>I ll tell you what.  That Carolina sure knows ...</td>\n",
       "      <td>I ll tell you what.  That Carolina sure knows ...</td>\n",
       "      <td>[I, ll, tell, you, what, ., That, Carolina, su...</td>\n",
       "      <td>(., .)</td>\n",
       "      <td>[(I, ll), (ll, tell), (tell, you), (you, what)...</td>\n",
       "      <td>[(PRP, VBP), (VBP, VB), (VB, PRP), (PRP, WP), ...</td>\n",
       "    </tr>\n",
       "    <tr>\n",
       "      <th>12467</th>\n",
       "      <td>high</td>\n",
       "      <td>I ll tell you what.  That Carolina sure knows ...</td>\n",
       "      <td>I ll tell you what.  That Carolina sure knows ...</td>\n",
       "      <td>[I, ll, tell, you, what, ., That, Carolina, su...</td>\n",
       "      <td>(And, CC)</td>\n",
       "      <td>[(I, ll), (ll, tell), (tell, you), (you, what)...</td>\n",
       "      <td>[(PRP, VBP), (VBP, VB), (VB, PRP), (PRP, WP), ...</td>\n",
       "    </tr>\n",
       "    <tr>\n",
       "      <th>12467</th>\n",
       "      <td>high</td>\n",
       "      <td>I ll tell you what.  That Carolina sure knows ...</td>\n",
       "      <td>I ll tell you what.  That Carolina sure knows ...</td>\n",
       "      <td>[I, ll, tell, you, what, ., That, Carolina, su...</td>\n",
       "      <td>(machaca, NN)</td>\n",
       "      <td>[(I, ll), (ll, tell), (tell, you), (you, what)...</td>\n",
       "      <td>[(PRP, VBP), (VBP, VB), (VB, PRP), (PRP, WP), ...</td>\n",
       "    </tr>\n",
       "    <tr>\n",
       "      <th>12467</th>\n",
       "      <td>high</td>\n",
       "      <td>I ll tell you what.  That Carolina sure knows ...</td>\n",
       "      <td>I ll tell you what.  That Carolina sure knows ...</td>\n",
       "      <td>[I, ll, tell, you, what, ., That, Carolina, su...</td>\n",
       "      <td>(., .)</td>\n",
       "      <td>[(I, ll), (ll, tell), (tell, you), (you, what)...</td>\n",
       "      <td>[(PRP, VBP), (VBP, VB), (VB, PRP), (PRP, WP), ...</td>\n",
       "    </tr>\n",
       "    <tr>\n",
       "      <th>12467</th>\n",
       "      <td>high</td>\n",
       "      <td>I ll tell you what.  That Carolina sure knows ...</td>\n",
       "      <td>I ll tell you what.  That Carolina sure knows ...</td>\n",
       "      <td>[I, ll, tell, you, what, ., That, Carolina, su...</td>\n",
       "      <td>(And, CC)</td>\n",
       "      <td>[(I, ll), (ll, tell), (tell, you), (you, what)...</td>\n",
       "      <td>[(PRP, VBP), (VBP, VB), (VB, PRP), (PRP, WP), ...</td>\n",
       "    </tr>\n",
       "    <tr>\n",
       "      <th>12467</th>\n",
       "      <td>high</td>\n",
       "      <td>I ll tell you what.  That Carolina sure knows ...</td>\n",
       "      <td>I ll tell you what.  That Carolina sure knows ...</td>\n",
       "      <td>[I, ll, tell, you, what, ., That, Carolina, su...</td>\n",
       "      <td>(burritos, NN)</td>\n",
       "      <td>[(I, ll), (ll, tell), (tell, you), (you, what)...</td>\n",
       "      <td>[(PRP, VBP), (VBP, VB), (VB, PRP), (PRP, WP), ...</td>\n",
       "    </tr>\n",
       "    <tr>\n",
       "      <th>12467</th>\n",
       "      <td>high</td>\n",
       "      <td>I ll tell you what.  That Carolina sure knows ...</td>\n",
       "      <td>I ll tell you what.  That Carolina sure knows ...</td>\n",
       "      <td>[I, ll, tell, you, what, ., That, Carolina, su...</td>\n",
       "      <td>(with, IN)</td>\n",
       "      <td>[(I, ll), (ll, tell), (tell, you), (you, what)...</td>\n",
       "      <td>[(PRP, VBP), (VBP, VB), (VB, PRP), (PRP, WP), ...</td>\n",
       "    </tr>\n",
       "    <tr>\n",
       "      <th>12467</th>\n",
       "      <td>high</td>\n",
       "      <td>I ll tell you what.  That Carolina sure knows ...</td>\n",
       "      <td>I ll tell you what.  That Carolina sure knows ...</td>\n",
       "      <td>[I, ll, tell, you, what, ., That, Carolina, su...</td>\n",
       "      <td>(chorizo, NN)</td>\n",
       "      <td>[(I, ll), (ll, tell), (tell, you), (you, what)...</td>\n",
       "      <td>[(PRP, VBP), (VBP, VB), (VB, PRP), (PRP, WP), ...</td>\n",
       "    </tr>\n",
       "    <tr>\n",
       "      <th>12467</th>\n",
       "      <td>high</td>\n",
       "      <td>I ll tell you what.  That Carolina sure knows ...</td>\n",
       "      <td>I ll tell you what.  That Carolina sure knows ...</td>\n",
       "      <td>[I, ll, tell, you, what, ., That, Carolina, su...</td>\n",
       "      <td>(and, CC)</td>\n",
       "      <td>[(I, ll), (ll, tell), (tell, you), (you, what)...</td>\n",
       "      <td>[(PRP, VBP), (VBP, VB), (VB, PRP), (PRP, WP), ...</td>\n",
       "    </tr>\n",
       "    <tr>\n",
       "      <th>12467</th>\n",
       "      <td>high</td>\n",
       "      <td>I ll tell you what.  That Carolina sure knows ...</td>\n",
       "      <td>I ll tell you what.  That Carolina sure knows ...</td>\n",
       "      <td>[I, ll, tell, you, what, ., That, Carolina, su...</td>\n",
       "      <td>(potato.Here, RB)</td>\n",
       "      <td>[(I, ll), (ll, tell), (tell, you), (you, what)...</td>\n",
       "      <td>[(PRP, VBP), (VBP, VB), (VB, PRP), (PRP, WP), ...</td>\n",
       "    </tr>\n",
       "    <tr>\n",
       "      <th>12467</th>\n",
       "      <td>high</td>\n",
       "      <td>I ll tell you what.  That Carolina sure knows ...</td>\n",
       "      <td>I ll tell you what.  That Carolina sure knows ...</td>\n",
       "      <td>[I, ll, tell, you, what, ., That, Carolina, su...</td>\n",
       "      <td>(s, VB)</td>\n",
       "      <td>[(I, ll), (ll, tell), (tell, you), (you, what)...</td>\n",
       "      <td>[(PRP, VBP), (VBP, VB), (VB, PRP), (PRP, WP), ...</td>\n",
       "    </tr>\n",
       "    <tr>\n",
       "      <th>12467</th>\n",
       "      <td>high</td>\n",
       "      <td>I ll tell you what.  That Carolina sure knows ...</td>\n",
       "      <td>I ll tell you what.  That Carolina sure knows ...</td>\n",
       "      <td>[I, ll, tell, you, what, ., That, Carolina, su...</td>\n",
       "      <td>(to, TO)</td>\n",
       "      <td>[(I, ll), (ll, tell), (tell, you), (you, what)...</td>\n",
       "      <td>[(PRP, VBP), (VBP, VB), (VB, PRP), (PRP, WP), ...</td>\n",
       "    </tr>\n",
       "    <tr>\n",
       "      <th>12467</th>\n",
       "      <td>high</td>\n",
       "      <td>I ll tell you what.  That Carolina sure knows ...</td>\n",
       "      <td>I ll tell you what.  That Carolina sure knows ...</td>\n",
       "      <td>[I, ll, tell, you, what, ., That, Carolina, su...</td>\n",
       "      <td>(another, DT)</td>\n",
       "      <td>[(I, ll), (ll, tell), (tell, you), (you, what)...</td>\n",
       "      <td>[(PRP, VBP), (VBP, VB), (VB, PRP), (PRP, WP), ...</td>\n",
       "    </tr>\n",
       "    <tr>\n",
       "      <th>12467</th>\n",
       "      <td>high</td>\n",
       "      <td>I ll tell you what.  That Carolina sure knows ...</td>\n",
       "      <td>I ll tell you what.  That Carolina sure knows ...</td>\n",
       "      <td>[I, ll, tell, you, what, ., That, Carolina, su...</td>\n",
       "      <td>(50, CD)</td>\n",
       "      <td>[(I, ll), (ll, tell), (tell, you), (you, what)...</td>\n",
       "      <td>[(PRP, VBP), (VBP, VB), (VB, PRP), (PRP, WP), ...</td>\n",
       "    </tr>\n",
       "    <tr>\n",
       "      <th>12467</th>\n",
       "      <td>high</td>\n",
       "      <td>I ll tell you what.  That Carolina sure knows ...</td>\n",
       "      <td>I ll tell you what.  That Carolina sure knows ...</td>\n",
       "      <td>[I, ll, tell, you, what, ., That, Carolina, su...</td>\n",
       "      <td>(years, NNS)</td>\n",
       "      <td>[(I, ll), (ll, tell), (tell, you), (you, what)...</td>\n",
       "      <td>[(PRP, VBP), (VBP, VB), (VB, PRP), (PRP, WP), ...</td>\n",
       "    </tr>\n",
       "    <tr>\n",
       "      <th>12467</th>\n",
       "      <td>high</td>\n",
       "      <td>I ll tell you what.  That Carolina sure knows ...</td>\n",
       "      <td>I ll tell you what.  That Carolina sure knows ...</td>\n",
       "      <td>[I, ll, tell, you, what, ., That, Carolina, su...</td>\n",
       "      <td>(., .)</td>\n",
       "      <td>[(I, ll), (ll, tell), (tell, you), (you, what)...</td>\n",
       "      <td>[(PRP, VBP), (VBP, VB), (VB, PRP), (PRP, WP), ...</td>\n",
       "    </tr>\n",
       "  </tbody>\n",
       "</table>\n",
       "<p>72500 rows × 7 columns</p>\n",
       "</div>"
      ],
      "text/plain": [
       "      rating                                             Review  \\\n",
       "8329    high  Went for a date here with my GF. Food was good...   \n",
       "8329    high  Went for a date here with my GF. Food was good...   \n",
       "8329    high  Went for a date here with my GF. Food was good...   \n",
       "8329    high  Went for a date here with my GF. Food was good...   \n",
       "8329    high  Went for a date here with my GF. Food was good...   \n",
       "8329    high  Went for a date here with my GF. Food was good...   \n",
       "8329    high  Went for a date here with my GF. Food was good...   \n",
       "8329    high  Went for a date here with my GF. Food was good...   \n",
       "8329    high  Went for a date here with my GF. Food was good...   \n",
       "8329    high  Went for a date here with my GF. Food was good...   \n",
       "8329    high  Went for a date here with my GF. Food was good...   \n",
       "8329    high  Went for a date here with my GF. Food was good...   \n",
       "8329    high  Went for a date here with my GF. Food was good...   \n",
       "8329    high  Went for a date here with my GF. Food was good...   \n",
       "8329    high  Went for a date here with my GF. Food was good...   \n",
       "8329    high  Went for a date here with my GF. Food was good...   \n",
       "8329    high  Went for a date here with my GF. Food was good...   \n",
       "8329    high  Went for a date here with my GF. Food was good...   \n",
       "8329    high  Went for a date here with my GF. Food was good...   \n",
       "8329    high  Went for a date here with my GF. Food was good...   \n",
       "8329    high  Went for a date here with my GF. Food was good...   \n",
       "8329    high  Went for a date here with my GF. Food was good...   \n",
       "8329    high  Went for a date here with my GF. Food was good...   \n",
       "8329    high  Went for a date here with my GF. Food was good...   \n",
       "8329    high  Went for a date here with my GF. Food was good...   \n",
       "8329    high  Went for a date here with my GF. Food was good...   \n",
       "8329    high  Went for a date here with my GF. Food was good...   \n",
       "8329    high  Went for a date here with my GF. Food was good...   \n",
       "4508    high  Service at the bar was great. The only negativ...   \n",
       "4508    high  Service at the bar was great. The only negativ...   \n",
       "...      ...                                                ...   \n",
       "12467   high  I ll tell you what.  That Carolina sure knows ...   \n",
       "12467   high  I ll tell you what.  That Carolina sure knows ...   \n",
       "12467   high  I ll tell you what.  That Carolina sure knows ...   \n",
       "12467   high  I ll tell you what.  That Carolina sure knows ...   \n",
       "12467   high  I ll tell you what.  That Carolina sure knows ...   \n",
       "12467   high  I ll tell you what.  That Carolina sure knows ...   \n",
       "12467   high  I ll tell you what.  That Carolina sure knows ...   \n",
       "12467   high  I ll tell you what.  That Carolina sure knows ...   \n",
       "12467   high  I ll tell you what.  That Carolina sure knows ...   \n",
       "12467   high  I ll tell you what.  That Carolina sure knows ...   \n",
       "12467   high  I ll tell you what.  That Carolina sure knows ...   \n",
       "12467   high  I ll tell you what.  That Carolina sure knows ...   \n",
       "12467   high  I ll tell you what.  That Carolina sure knows ...   \n",
       "12467   high  I ll tell you what.  That Carolina sure knows ...   \n",
       "12467   high  I ll tell you what.  That Carolina sure knows ...   \n",
       "12467   high  I ll tell you what.  That Carolina sure knows ...   \n",
       "12467   high  I ll tell you what.  That Carolina sure knows ...   \n",
       "12467   high  I ll tell you what.  That Carolina sure knows ...   \n",
       "12467   high  I ll tell you what.  That Carolina sure knows ...   \n",
       "12467   high  I ll tell you what.  That Carolina sure knows ...   \n",
       "12467   high  I ll tell you what.  That Carolina sure knows ...   \n",
       "12467   high  I ll tell you what.  That Carolina sure knows ...   \n",
       "12467   high  I ll tell you what.  That Carolina sure knows ...   \n",
       "12467   high  I ll tell you what.  That Carolina sure knows ...   \n",
       "12467   high  I ll tell you what.  That Carolina sure knows ...   \n",
       "12467   high  I ll tell you what.  That Carolina sure knows ...   \n",
       "12467   high  I ll tell you what.  That Carolina sure knows ...   \n",
       "12467   high  I ll tell you what.  That Carolina sure knows ...   \n",
       "12467   high  I ll tell you what.  That Carolina sure knows ...   \n",
       "12467   high  I ll tell you what.  That Carolina sure knows ...   \n",
       "\n",
       "                                         tokenized_strip  \\\n",
       "8329   Went for a date here with my GF. Food was good...   \n",
       "8329   Went for a date here with my GF. Food was good...   \n",
       "8329   Went for a date here with my GF. Food was good...   \n",
       "8329   Went for a date here with my GF. Food was good...   \n",
       "8329   Went for a date here with my GF. Food was good...   \n",
       "8329   Went for a date here with my GF. Food was good...   \n",
       "8329   Went for a date here with my GF. Food was good...   \n",
       "8329   Went for a date here with my GF. Food was good...   \n",
       "8329   Went for a date here with my GF. Food was good...   \n",
       "8329   Went for a date here with my GF. Food was good...   \n",
       "8329   Went for a date here with my GF. Food was good...   \n",
       "8329   Went for a date here with my GF. Food was good...   \n",
       "8329   Went for a date here with my GF. Food was good...   \n",
       "8329   Went for a date here with my GF. Food was good...   \n",
       "8329   Went for a date here with my GF. Food was good...   \n",
       "8329   Went for a date here with my GF. Food was good...   \n",
       "8329   Went for a date here with my GF. Food was good...   \n",
       "8329   Went for a date here with my GF. Food was good...   \n",
       "8329   Went for a date here with my GF. Food was good...   \n",
       "8329   Went for a date here with my GF. Food was good...   \n",
       "8329   Went for a date here with my GF. Food was good...   \n",
       "8329   Went for a date here with my GF. Food was good...   \n",
       "8329   Went for a date here with my GF. Food was good...   \n",
       "8329   Went for a date here with my GF. Food was good...   \n",
       "8329   Went for a date here with my GF. Food was good...   \n",
       "8329   Went for a date here with my GF. Food was good...   \n",
       "8329   Went for a date here with my GF. Food was good...   \n",
       "8329   Went for a date here with my GF. Food was good...   \n",
       "4508   Service at the bar was great. The only negativ...   \n",
       "4508   Service at the bar was great. The only negativ...   \n",
       "...                                                  ...   \n",
       "12467  I ll tell you what.  That Carolina sure knows ...   \n",
       "12467  I ll tell you what.  That Carolina sure knows ...   \n",
       "12467  I ll tell you what.  That Carolina sure knows ...   \n",
       "12467  I ll tell you what.  That Carolina sure knows ...   \n",
       "12467  I ll tell you what.  That Carolina sure knows ...   \n",
       "12467  I ll tell you what.  That Carolina sure knows ...   \n",
       "12467  I ll tell you what.  That Carolina sure knows ...   \n",
       "12467  I ll tell you what.  That Carolina sure knows ...   \n",
       "12467  I ll tell you what.  That Carolina sure knows ...   \n",
       "12467  I ll tell you what.  That Carolina sure knows ...   \n",
       "12467  I ll tell you what.  That Carolina sure knows ...   \n",
       "12467  I ll tell you what.  That Carolina sure knows ...   \n",
       "12467  I ll tell you what.  That Carolina sure knows ...   \n",
       "12467  I ll tell you what.  That Carolina sure knows ...   \n",
       "12467  I ll tell you what.  That Carolina sure knows ...   \n",
       "12467  I ll tell you what.  That Carolina sure knows ...   \n",
       "12467  I ll tell you what.  That Carolina sure knows ...   \n",
       "12467  I ll tell you what.  That Carolina sure knows ...   \n",
       "12467  I ll tell you what.  That Carolina sure knows ...   \n",
       "12467  I ll tell you what.  That Carolina sure knows ...   \n",
       "12467  I ll tell you what.  That Carolina sure knows ...   \n",
       "12467  I ll tell you what.  That Carolina sure knows ...   \n",
       "12467  I ll tell you what.  That Carolina sure knows ...   \n",
       "12467  I ll tell you what.  That Carolina sure knows ...   \n",
       "12467  I ll tell you what.  That Carolina sure knows ...   \n",
       "12467  I ll tell you what.  That Carolina sure knows ...   \n",
       "12467  I ll tell you what.  That Carolina sure knows ...   \n",
       "12467  I ll tell you what.  That Carolina sure knows ...   \n",
       "12467  I ll tell you what.  That Carolina sure knows ...   \n",
       "12467  I ll tell you what.  That Carolina sure knows ...   \n",
       "\n",
       "                                               tokenized                pos  \\\n",
       "8329   [Went, for, a, date, here, with, my, GF, ., Fo...         (Went, NN)   \n",
       "8329   [Went, for, a, date, here, with, my, GF, ., Fo...          (for, IN)   \n",
       "8329   [Went, for, a, date, here, with, my, GF, ., Fo...            (a, DT)   \n",
       "8329   [Went, for, a, date, here, with, my, GF, ., Fo...         (date, NN)   \n",
       "8329   [Went, for, a, date, here, with, my, GF, ., Fo...         (here, RB)   \n",
       "8329   [Went, for, a, date, here, with, my, GF, ., Fo...         (with, IN)   \n",
       "8329   [Went, for, a, date, here, with, my, GF, ., Fo...         (my, PRP$)   \n",
       "8329   [Went, for, a, date, here, with, my, GF, ., Fo...          (GF, NNP)   \n",
       "8329   [Went, for, a, date, here, with, my, GF, ., Fo...             (., .)   \n",
       "8329   [Went, for, a, date, here, with, my, GF, ., Fo...        (Food, NNP)   \n",
       "8329   [Went, for, a, date, here, with, my, GF, ., Fo...         (was, VBD)   \n",
       "8329   [Went, for, a, date, here, with, my, GF, ., Fo...         (good, JJ)   \n",
       "8329   [Went, for, a, date, here, with, my, GF, ., Fo...         (nice, JJ)   \n",
       "8329   [Went, for, a, date, here, with, my, GF, ., Fo...    (portions, NNS)   \n",
       "8329   [Went, for, a, date, here, with, my, GF, ., Fo...          (and, CC)   \n",
       "8329   [Went, for, a, date, here, with, my, GF, ., Fo...        (they, PRP)   \n",
       "8329   [Went, for, a, date, here, with, my, GF, ., Fo...        (have, VBP)   \n",
       "8329   [Went, for, a, date, here, with, my, GF, ., Fo...            (a, DT)   \n",
       "8329   [Went, for, a, date, here, with, my, GF, ., Fo...       (pretty, RB)   \n",
       "8329   [Went, for, a, date, here, with, my, GF, ., Fo...         (good, JJ)   \n",
       "8329   [Went, for, a, date, here, with, my, GF, ., Fo...         (wine, NN)   \n",
       "8329   [Went, for, a, date, here, with, my, GF, ., Fo...    (selection, NN)   \n",
       "8329   [Went, for, a, date, here, with, my, GF, ., Fo...             (., .)   \n",
       "8329   [Went, for, a, date, here, with, my, GF, ., Fo...           (I, PRP)   \n",
       "8329   [Went, for, a, date, here, with, my, GF, ., Fo...        (would, MD)   \n",
       "8329   [Went, for, a, date, here, with, my, GF, ., Fo...           (go, VB)   \n",
       "8329   [Went, for, a, date, here, with, my, GF, ., Fo...         (back, RB)   \n",
       "8329   [Went, for, a, date, here, with, my, GF, ., Fo...             (!, .)   \n",
       "4508   [Service, at, the, bar, was, great, ., The, on...     (Service, NNP)   \n",
       "4508   [Service, at, the, bar, was, great, ., The, on...           (at, IN)   \n",
       "...                                                  ...                ...   \n",
       "12467  [I, ll, tell, you, what, ., That, Carolina, su...           (I, PRP)   \n",
       "12467  [I, ll, tell, you, what, ., That, Carolina, su...          (ll, VBP)   \n",
       "12467  [I, ll, tell, you, what, ., That, Carolina, su...         (tell, VB)   \n",
       "12467  [I, ll, tell, you, what, ., That, Carolina, su...         (you, PRP)   \n",
       "12467  [I, ll, tell, you, what, ., That, Carolina, su...         (what, WP)   \n",
       "12467  [I, ll, tell, you, what, ., That, Carolina, su...             (., .)   \n",
       "12467  [I, ll, tell, you, what, ., That, Carolina, su...         (That, DT)   \n",
       "12467  [I, ll, tell, you, what, ., That, Carolina, su...    (Carolina, NNP)   \n",
       "12467  [I, ll, tell, you, what, ., That, Carolina, su...         (sure, JJ)   \n",
       "12467  [I, ll, tell, you, what, ., That, Carolina, su...       (knows, VBZ)   \n",
       "12467  [I, ll, tell, you, what, ., That, Carolina, su...         (how, WRB)   \n",
       "12467  [I, ll, tell, you, what, ., That, Carolina, su...           (to, TO)   \n",
       "12467  [I, ll, tell, you, what, ., That, Carolina, su...         (make, VB)   \n",
       "12467  [I, ll, tell, you, what, ., That, Carolina, su...    (tortillas, NN)   \n",
       "12467  [I, ll, tell, you, what, ., That, Carolina, su...             (., .)   \n",
       "12467  [I, ll, tell, you, what, ., That, Carolina, su...          (And, CC)   \n",
       "12467  [I, ll, tell, you, what, ., That, Carolina, su...      (machaca, NN)   \n",
       "12467  [I, ll, tell, you, what, ., That, Carolina, su...             (., .)   \n",
       "12467  [I, ll, tell, you, what, ., That, Carolina, su...          (And, CC)   \n",
       "12467  [I, ll, tell, you, what, ., That, Carolina, su...     (burritos, NN)   \n",
       "12467  [I, ll, tell, you, what, ., That, Carolina, su...         (with, IN)   \n",
       "12467  [I, ll, tell, you, what, ., That, Carolina, su...      (chorizo, NN)   \n",
       "12467  [I, ll, tell, you, what, ., That, Carolina, su...          (and, CC)   \n",
       "12467  [I, ll, tell, you, what, ., That, Carolina, su...  (potato.Here, RB)   \n",
       "12467  [I, ll, tell, you, what, ., That, Carolina, su...            (s, VB)   \n",
       "12467  [I, ll, tell, you, what, ., That, Carolina, su...           (to, TO)   \n",
       "12467  [I, ll, tell, you, what, ., That, Carolina, su...      (another, DT)   \n",
       "12467  [I, ll, tell, you, what, ., That, Carolina, su...           (50, CD)   \n",
       "12467  [I, ll, tell, you, what, ., That, Carolina, su...       (years, NNS)   \n",
       "12467  [I, ll, tell, you, what, ., That, Carolina, su...             (., .)   \n",
       "\n",
       "                                                  bigram  \\\n",
       "8329   [(Went, for), (for, a), (a, date), (date, here...   \n",
       "8329   [(Went, for), (for, a), (a, date), (date, here...   \n",
       "8329   [(Went, for), (for, a), (a, date), (date, here...   \n",
       "8329   [(Went, for), (for, a), (a, date), (date, here...   \n",
       "8329   [(Went, for), (for, a), (a, date), (date, here...   \n",
       "8329   [(Went, for), (for, a), (a, date), (date, here...   \n",
       "8329   [(Went, for), (for, a), (a, date), (date, here...   \n",
       "8329   [(Went, for), (for, a), (a, date), (date, here...   \n",
       "8329   [(Went, for), (for, a), (a, date), (date, here...   \n",
       "8329   [(Went, for), (for, a), (a, date), (date, here...   \n",
       "8329   [(Went, for), (for, a), (a, date), (date, here...   \n",
       "8329   [(Went, for), (for, a), (a, date), (date, here...   \n",
       "8329   [(Went, for), (for, a), (a, date), (date, here...   \n",
       "8329   [(Went, for), (for, a), (a, date), (date, here...   \n",
       "8329   [(Went, for), (for, a), (a, date), (date, here...   \n",
       "8329   [(Went, for), (for, a), (a, date), (date, here...   \n",
       "8329   [(Went, for), (for, a), (a, date), (date, here...   \n",
       "8329   [(Went, for), (for, a), (a, date), (date, here...   \n",
       "8329   [(Went, for), (for, a), (a, date), (date, here...   \n",
       "8329   [(Went, for), (for, a), (a, date), (date, here...   \n",
       "8329   [(Went, for), (for, a), (a, date), (date, here...   \n",
       "8329   [(Went, for), (for, a), (a, date), (date, here...   \n",
       "8329   [(Went, for), (for, a), (a, date), (date, here...   \n",
       "8329   [(Went, for), (for, a), (a, date), (date, here...   \n",
       "8329   [(Went, for), (for, a), (a, date), (date, here...   \n",
       "8329   [(Went, for), (for, a), (a, date), (date, here...   \n",
       "8329   [(Went, for), (for, a), (a, date), (date, here...   \n",
       "8329   [(Went, for), (for, a), (a, date), (date, here...   \n",
       "4508   [(Service, at), (at, the), (the, bar), (bar, w...   \n",
       "4508   [(Service, at), (at, the), (the, bar), (bar, w...   \n",
       "...                                                  ...   \n",
       "12467  [(I, ll), (ll, tell), (tell, you), (you, what)...   \n",
       "12467  [(I, ll), (ll, tell), (tell, you), (you, what)...   \n",
       "12467  [(I, ll), (ll, tell), (tell, you), (you, what)...   \n",
       "12467  [(I, ll), (ll, tell), (tell, you), (you, what)...   \n",
       "12467  [(I, ll), (ll, tell), (tell, you), (you, what)...   \n",
       "12467  [(I, ll), (ll, tell), (tell, you), (you, what)...   \n",
       "12467  [(I, ll), (ll, tell), (tell, you), (you, what)...   \n",
       "12467  [(I, ll), (ll, tell), (tell, you), (you, what)...   \n",
       "12467  [(I, ll), (ll, tell), (tell, you), (you, what)...   \n",
       "12467  [(I, ll), (ll, tell), (tell, you), (you, what)...   \n",
       "12467  [(I, ll), (ll, tell), (tell, you), (you, what)...   \n",
       "12467  [(I, ll), (ll, tell), (tell, you), (you, what)...   \n",
       "12467  [(I, ll), (ll, tell), (tell, you), (you, what)...   \n",
       "12467  [(I, ll), (ll, tell), (tell, you), (you, what)...   \n",
       "12467  [(I, ll), (ll, tell), (tell, you), (you, what)...   \n",
       "12467  [(I, ll), (ll, tell), (tell, you), (you, what)...   \n",
       "12467  [(I, ll), (ll, tell), (tell, you), (you, what)...   \n",
       "12467  [(I, ll), (ll, tell), (tell, you), (you, what)...   \n",
       "12467  [(I, ll), (ll, tell), (tell, you), (you, what)...   \n",
       "12467  [(I, ll), (ll, tell), (tell, you), (you, what)...   \n",
       "12467  [(I, ll), (ll, tell), (tell, you), (you, what)...   \n",
       "12467  [(I, ll), (ll, tell), (tell, you), (you, what)...   \n",
       "12467  [(I, ll), (ll, tell), (tell, you), (you, what)...   \n",
       "12467  [(I, ll), (ll, tell), (tell, you), (you, what)...   \n",
       "12467  [(I, ll), (ll, tell), (tell, you), (you, what)...   \n",
       "12467  [(I, ll), (ll, tell), (tell, you), (you, what)...   \n",
       "12467  [(I, ll), (ll, tell), (tell, you), (you, what)...   \n",
       "12467  [(I, ll), (ll, tell), (tell, you), (you, what)...   \n",
       "12467  [(I, ll), (ll, tell), (tell, you), (you, what)...   \n",
       "12467  [(I, ll), (ll, tell), (tell, you), (you, what)...   \n",
       "\n",
       "                                              pos_bigram  \n",
       "8329   [(NN, IN), (IN, DT), (DT, NN), (NN, RB), (RB, ...  \n",
       "8329   [(NN, IN), (IN, DT), (DT, NN), (NN, RB), (RB, ...  \n",
       "8329   [(NN, IN), (IN, DT), (DT, NN), (NN, RB), (RB, ...  \n",
       "8329   [(NN, IN), (IN, DT), (DT, NN), (NN, RB), (RB, ...  \n",
       "8329   [(NN, IN), (IN, DT), (DT, NN), (NN, RB), (RB, ...  \n",
       "8329   [(NN, IN), (IN, DT), (DT, NN), (NN, RB), (RB, ...  \n",
       "8329   [(NN, IN), (IN, DT), (DT, NN), (NN, RB), (RB, ...  \n",
       "8329   [(NN, IN), (IN, DT), (DT, NN), (NN, RB), (RB, ...  \n",
       "8329   [(NN, IN), (IN, DT), (DT, NN), (NN, RB), (RB, ...  \n",
       "8329   [(NN, IN), (IN, DT), (DT, NN), (NN, RB), (RB, ...  \n",
       "8329   [(NN, IN), (IN, DT), (DT, NN), (NN, RB), (RB, ...  \n",
       "8329   [(NN, IN), (IN, DT), (DT, NN), (NN, RB), (RB, ...  \n",
       "8329   [(NN, IN), (IN, DT), (DT, NN), (NN, RB), (RB, ...  \n",
       "8329   [(NN, IN), (IN, DT), (DT, NN), (NN, RB), (RB, ...  \n",
       "8329   [(NN, IN), (IN, DT), (DT, NN), (NN, RB), (RB, ...  \n",
       "8329   [(NN, IN), (IN, DT), (DT, NN), (NN, RB), (RB, ...  \n",
       "8329   [(NN, IN), (IN, DT), (DT, NN), (NN, RB), (RB, ...  \n",
       "8329   [(NN, IN), (IN, DT), (DT, NN), (NN, RB), (RB, ...  \n",
       "8329   [(NN, IN), (IN, DT), (DT, NN), (NN, RB), (RB, ...  \n",
       "8329   [(NN, IN), (IN, DT), (DT, NN), (NN, RB), (RB, ...  \n",
       "8329   [(NN, IN), (IN, DT), (DT, NN), (NN, RB), (RB, ...  \n",
       "8329   [(NN, IN), (IN, DT), (DT, NN), (NN, RB), (RB, ...  \n",
       "8329   [(NN, IN), (IN, DT), (DT, NN), (NN, RB), (RB, ...  \n",
       "8329   [(NN, IN), (IN, DT), (DT, NN), (NN, RB), (RB, ...  \n",
       "8329   [(NN, IN), (IN, DT), (DT, NN), (NN, RB), (RB, ...  \n",
       "8329   [(NN, IN), (IN, DT), (DT, NN), (NN, RB), (RB, ...  \n",
       "8329   [(NN, IN), (IN, DT), (DT, NN), (NN, RB), (RB, ...  \n",
       "8329   [(NN, IN), (IN, DT), (DT, NN), (NN, RB), (RB, ...  \n",
       "4508   [(NNP, IN), (IN, DT), (DT, NN), (NN, VBD), (VB...  \n",
       "4508   [(NNP, IN), (IN, DT), (DT, NN), (NN, VBD), (VB...  \n",
       "...                                                  ...  \n",
       "12467  [(PRP, VBP), (VBP, VB), (VB, PRP), (PRP, WP), ...  \n",
       "12467  [(PRP, VBP), (VBP, VB), (VB, PRP), (PRP, WP), ...  \n",
       "12467  [(PRP, VBP), (VBP, VB), (VB, PRP), (PRP, WP), ...  \n",
       "12467  [(PRP, VBP), (VBP, VB), (VB, PRP), (PRP, WP), ...  \n",
       "12467  [(PRP, VBP), (VBP, VB), (VB, PRP), (PRP, WP), ...  \n",
       "12467  [(PRP, VBP), (VBP, VB), (VB, PRP), (PRP, WP), ...  \n",
       "12467  [(PRP, VBP), (VBP, VB), (VB, PRP), (PRP, WP), ...  \n",
       "12467  [(PRP, VBP), (VBP, VB), (VB, PRP), (PRP, WP), ...  \n",
       "12467  [(PRP, VBP), (VBP, VB), (VB, PRP), (PRP, WP), ...  \n",
       "12467  [(PRP, VBP), (VBP, VB), (VB, PRP), (PRP, WP), ...  \n",
       "12467  [(PRP, VBP), (VBP, VB), (VB, PRP), (PRP, WP), ...  \n",
       "12467  [(PRP, VBP), (VBP, VB), (VB, PRP), (PRP, WP), ...  \n",
       "12467  [(PRP, VBP), (VBP, VB), (VB, PRP), (PRP, WP), ...  \n",
       "12467  [(PRP, VBP), (VBP, VB), (VB, PRP), (PRP, WP), ...  \n",
       "12467  [(PRP, VBP), (VBP, VB), (VB, PRP), (PRP, WP), ...  \n",
       "12467  [(PRP, VBP), (VBP, VB), (VB, PRP), (PRP, WP), ...  \n",
       "12467  [(PRP, VBP), (VBP, VB), (VB, PRP), (PRP, WP), ...  \n",
       "12467  [(PRP, VBP), (VBP, VB), (VB, PRP), (PRP, WP), ...  \n",
       "12467  [(PRP, VBP), (VBP, VB), (VB, PRP), (PRP, WP), ...  \n",
       "12467  [(PRP, VBP), (VBP, VB), (VB, PRP), (PRP, WP), ...  \n",
       "12467  [(PRP, VBP), (VBP, VB), (VB, PRP), (PRP, WP), ...  \n",
       "12467  [(PRP, VBP), (VBP, VB), (VB, PRP), (PRP, WP), ...  \n",
       "12467  [(PRP, VBP), (VBP, VB), (VB, PRP), (PRP, WP), ...  \n",
       "12467  [(PRP, VBP), (VBP, VB), (VB, PRP), (PRP, WP), ...  \n",
       "12467  [(PRP, VBP), (VBP, VB), (VB, PRP), (PRP, WP), ...  \n",
       "12467  [(PRP, VBP), (VBP, VB), (VB, PRP), (PRP, WP), ...  \n",
       "12467  [(PRP, VBP), (VBP, VB), (VB, PRP), (PRP, WP), ...  \n",
       "12467  [(PRP, VBP), (VBP, VB), (VB, PRP), (PRP, WP), ...  \n",
       "12467  [(PRP, VBP), (VBP, VB), (VB, PRP), (PRP, WP), ...  \n",
       "12467  [(PRP, VBP), (VBP, VB), (VB, PRP), (PRP, WP), ...  \n",
       "\n",
       "[72500 rows x 7 columns]"
      ]
     },
     "execution_count": 56,
     "metadata": {},
     "output_type": "execute_result"
    }
   ],
   "source": [
    "#Calculate Semantic Orientation for all Phrases\n",
    "\n",
    "PhraseScores = yelp_pmi_pos[yelp_pmi_pos['pos_bigram'].isin(pos_filter)]\n",
    "\n",
    "def SemanticOrientation(phrase,phrase_set2):\n",
    "    for phrase in phrase_set1:\n",
    "        "
   ]
  }
 ],
 "metadata": {
  "kernelspec": {
   "display_name": "Python [Root]",
   "language": "python",
   "name": "Python [Root]"
  },
  "language_info": {
   "codemirror_mode": {
    "name": "ipython",
    "version": 2
   },
   "file_extension": ".py",
   "mimetype": "text/x-python",
   "name": "python",
   "nbconvert_exporter": "python",
   "pygments_lexer": "ipython2",
   "version": "2.7.12"
  }
 },
 "nbformat": 4,
 "nbformat_minor": 0
}

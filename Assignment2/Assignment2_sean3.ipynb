{
 "cells": [
  {
   "cell_type": "markdown",
   "metadata": {},
   "source": [
    "# TEXT ANALYTICS GROUP ASSIGNMENT #2"
   ]
  },
  {
   "cell_type": "markdown",
   "metadata": {},
   "source": [
    "#### Group Members: Brooks Beckelman, Zack Bilderback, Dallas Griffin, Estevan Gonzalez, Sean Kessel, Davis Townsend"
   ]
  },
  {
   "cell_type": "code",
   "execution_count": 62,
   "metadata": {
    "collapsed": false
   },
   "outputs": [
    {
     "name": "stdout",
     "output_type": "stream",
     "text": [
      "Populating the interactive namespace from numpy and matplotlib\n"
     ]
    },
    {
     "name": "stderr",
     "output_type": "stream",
     "text": [
      "WARNING: pylab import has clobbered these variables: ['sample', 'f', 'mat', 'test', 'e']\n",
      "`%matplotlib` prevents importing * from pylab and numpy\n"
     ]
    }
   ],
   "source": [
    "import pandas as pd\n",
    "from pandas import Series, DataFrame\n",
    "%pylab inline\n",
    "\n",
    "import seaborn as sns\n",
    "\n",
    "import sklearn\n",
    "from sklearn.cross_validation import train_test_split\n",
    "from sklearn import linear_model\n",
    "from sklearn import metrics\n",
    "from sklearn.neighbors import KNeighborsClassifier\n",
    "from sklearn.naive_bayes import BernoulliNB\n",
    "from sklearn.naive_bayes import MultinomialNB\n",
    "from sklearn.feature_extraction.text import CountVectorizer"
   ]
  },
  {
   "cell_type": "code",
   "execution_count": 3,
   "metadata": {
    "collapsed": false
   },
   "outputs": [],
   "source": [
    "yelp = pd.read_csv('YelpData.csv')"
   ]
  },
  {
   "cell_type": "code",
   "execution_count": 4,
   "metadata": {
    "collapsed": false
   },
   "outputs": [
    {
     "data": {
      "text/html": [
       "<div>\n",
       "<table border=\"1\" class=\"dataframe\">\n",
       "  <thead>\n",
       "    <tr style=\"text-align: right;\">\n",
       "      <th></th>\n",
       "      <th>stars</th>\n",
       "      <th>votes_cool</th>\n",
       "      <th>votes_funny</th>\n",
       "      <th>votes_useful</th>\n",
       "      <th>Cheap</th>\n",
       "      <th>Moderate</th>\n",
       "      <th>Expensive</th>\n",
       "      <th>VeryExpensive</th>\n",
       "      <th>American</th>\n",
       "      <th>Chinese</th>\n",
       "      <th>...</th>\n",
       "      <th>Indian</th>\n",
       "      <th>Italian</th>\n",
       "      <th>Greek</th>\n",
       "      <th>Mediterranean</th>\n",
       "      <th>Mexican</th>\n",
       "      <th>Thai</th>\n",
       "      <th>Vietnamese</th>\n",
       "      <th>Others</th>\n",
       "      <th>Review</th>\n",
       "      <th>rating</th>\n",
       "    </tr>\n",
       "  </thead>\n",
       "  <tbody>\n",
       "    <tr>\n",
       "      <th>0</th>\n",
       "      <td>1</td>\n",
       "      <td>0</td>\n",
       "      <td>0</td>\n",
       "      <td>0</td>\n",
       "      <td>1</td>\n",
       "      <td>0</td>\n",
       "      <td>0</td>\n",
       "      <td>0</td>\n",
       "      <td>0</td>\n",
       "      <td>0</td>\n",
       "      <td>...</td>\n",
       "      <td>0</td>\n",
       "      <td>0</td>\n",
       "      <td>0</td>\n",
       "      <td>0</td>\n",
       "      <td>0</td>\n",
       "      <td>0</td>\n",
       "      <td>0</td>\n",
       "      <td>1</td>\n",
       "      <td>This location is out of business. I drove by i...</td>\n",
       "      <td>low</td>\n",
       "    </tr>\n",
       "    <tr>\n",
       "      <th>1</th>\n",
       "      <td>2</td>\n",
       "      <td>2</td>\n",
       "      <td>2</td>\n",
       "      <td>2</td>\n",
       "      <td>1</td>\n",
       "      <td>0</td>\n",
       "      <td>0</td>\n",
       "      <td>0</td>\n",
       "      <td>0</td>\n",
       "      <td>0</td>\n",
       "      <td>...</td>\n",
       "      <td>0</td>\n",
       "      <td>0</td>\n",
       "      <td>0</td>\n",
       "      <td>0</td>\n",
       "      <td>0</td>\n",
       "      <td>0</td>\n",
       "      <td>0</td>\n",
       "      <td>1</td>\n",
       "      <td>= = = = = = CLOSED = = = = = =This JB s locati...</td>\n",
       "      <td>low</td>\n",
       "    </tr>\n",
       "    <tr>\n",
       "      <th>2</th>\n",
       "      <td>4</td>\n",
       "      <td>0</td>\n",
       "      <td>0</td>\n",
       "      <td>1</td>\n",
       "      <td>1</td>\n",
       "      <td>0</td>\n",
       "      <td>0</td>\n",
       "      <td>0</td>\n",
       "      <td>0</td>\n",
       "      <td>0</td>\n",
       "      <td>...</td>\n",
       "      <td>0</td>\n",
       "      <td>0</td>\n",
       "      <td>0</td>\n",
       "      <td>0</td>\n",
       "      <td>0</td>\n",
       "      <td>0</td>\n",
       "      <td>0</td>\n",
       "      <td>1</td>\n",
       "      <td>This is just a basic (albeit mini) chain greas...</td>\n",
       "      <td>high</td>\n",
       "    </tr>\n",
       "  </tbody>\n",
       "</table>\n",
       "<p>3 rows × 22 columns</p>\n",
       "</div>"
      ],
      "text/plain": [
       "   stars  votes_cool  votes_funny  votes_useful  Cheap  Moderate  Expensive  \\\n",
       "0      1           0            0             0      1         0          0   \n",
       "1      2           2            2             2      1         0          0   \n",
       "2      4           0            0             1      1         0          0   \n",
       "\n",
       "   VeryExpensive  American  Chinese   ...    Indian  Italian  Greek  \\\n",
       "0              0         0        0   ...         0        0      0   \n",
       "1              0         0        0   ...         0        0      0   \n",
       "2              0         0        0   ...         0        0      0   \n",
       "\n",
       "   Mediterranean  Mexican  Thai  Vietnamese  Others  \\\n",
       "0              0        0     0           0       1   \n",
       "1              0        0     0           0       1   \n",
       "2              0        0     0           0       1   \n",
       "\n",
       "                                              Review  rating  \n",
       "0  This location is out of business. I drove by i...     low  \n",
       "1  = = = = = = CLOSED = = = = = =This JB s locati...     low  \n",
       "2  This is just a basic (albeit mini) chain greas...    high  \n",
       "\n",
       "[3 rows x 22 columns]"
      ]
     },
     "execution_count": 4,
     "metadata": {},
     "output_type": "execute_result"
    }
   ],
   "source": [
    "# Convert rating to high (4,5) or low (1,2,3)\n",
    "yelp['rating'] = np.where(yelp['stars'] >= 4, 'high','low')\n",
    "yelp.head(3)"
   ]
  },
  {
   "cell_type": "markdown",
   "metadata": {},
   "source": [
    "## Task A: Numeric Data Only"
   ]
  },
  {
   "cell_type": "code",
   "execution_count": 5,
   "metadata": {
    "collapsed": true
   },
   "outputs": [],
   "source": [
    "# Split data into train and test sets\n",
    "train, test = train_test_split(yelp, test_size=0.25, random_state=123)\n",
    "\n",
    "x_train = train.drop(['stars', 'Review', 'rating'], axis=1)\n",
    "y_train = train['rating']\n",
    "\n",
    "x_test = test.drop(['stars', 'Review', 'rating'], axis=1)\n",
    "y_test = test['rating']"
   ]
  },
  {
   "cell_type": "markdown",
   "metadata": {},
   "source": [
    "### Logistic Regression"
   ]
  },
  {
   "cell_type": "code",
   "execution_count": 6,
   "metadata": {
    "collapsed": false
   },
   "outputs": [],
   "source": [
    "logreg = linear_model.LogisticRegression()\n",
    "logreg_classifier = logreg.fit(x_train, y_train)\n",
    "logreg_predict = logreg.predict(x_test)"
   ]
  },
  {
   "cell_type": "code",
   "execution_count": 7,
   "metadata": {
    "collapsed": false
   },
   "outputs": [
    {
     "name": "stdout",
     "output_type": "stream",
     "text": [
      "LOGISTIC REGRESSION: \n",
      "Precision:0.689127738735\n",
      "Recall: 0.978286384977\n",
      "Accuracy: 0.6844\n"
     ]
    }
   ],
   "source": [
    "print 'LOGISTIC REGRESSION: '\n",
    "print 'Precision:' + str(metrics.precision_score(y_test, logreg_predict, average = 'binary', pos_label='high'))\n",
    "print 'Recall: ' + str(metrics.recall_score(y_test, logreg_predict, average = 'binary', pos_label='high'))\n",
    "print 'Accuracy: ' + str(metrics.accuracy_score(y_test, logreg_predict))"
   ]
  },
  {
   "cell_type": "code",
   "execution_count": 8,
   "metadata": {
    "collapsed": false
   },
   "outputs": [
    {
     "data": {
      "text/plain": [
       "<matplotlib.text.Text at 0xadd3f60>"
      ]
     },
     "execution_count": 8,
     "metadata": {},
     "output_type": "execute_result"
    },
    {
     "data": {
      "image/png": "[encoded data removed]",
      "text/plain": [
       "<matplotlib.figure.Figure at 0x746c048>"
      ]
     },
     "metadata": {},
     "output_type": "display_data"
    }
   ],
   "source": [
    "#Fancy boy confusion matrix\n",
    "mat = metrics.confusion_matrix(y_test, logreg_predict)\n",
    "sns.heatmap(mat.T, square=True, annot=True, fmt='d', cbar=True, \n",
    "            xticklabels=unique(y_test), yticklabels=unique(logreg_predict))\n",
    "plt.xlabel('Actual Ratings')\n",
    "plt.ylabel('Predicted Ratings')\n",
    "plt.title('Logistic Regression')"
   ]
  },
  {
   "cell_type": "markdown",
   "metadata": {},
   "source": [
    "### KNN"
   ]
  },
  {
   "cell_type": "code",
   "execution_count": 9,
   "metadata": {
    "collapsed": false
   },
   "outputs": [
    {
     "name": "stdout",
     "output_type": "stream",
     "text": [
      "Performing classifier 10\n",
      "Performing classifier 20\n",
      "Performing classifier 30\n",
      "Performing classifier 40\n",
      "Performing classifier 50\n",
      "Performing classifier 60\n",
      "Performing classifier 70\n",
      "Performing classifier 80\n",
      "Performing classifier 90\n",
      "Performing classifier 100\n"
     ]
    }
   ],
   "source": [
    "k_range = range(1,101)\n",
    "accuracies = []\n",
    "for k in k_range:\n",
    "    if k % 10 == 0:\n",
    "        print 'Performing classifier', k\n",
    "    knn = KNeighborsClassifier(n_neighbors=k)\n",
    "    knn_classifier = knn.fit(x_train, y_train)\n",
    "    knn_accuracy = knn.score(x_test, y_test)\n",
    "    accuracies.append(knn_accuracy)\n"
   ]
  },
  {
   "cell_type": "code",
   "execution_count": 10,
   "metadata": {
    "collapsed": false
   },
   "outputs": [
    {
     "data": {
      "text/plain": [
       "<matplotlib.text.Text at 0xedf2a58>"
      ]
     },
     "execution_count": 10,
     "metadata": {},
     "output_type": "execute_result"
    },
    {
     "data": {
      "image/png": "[encoded data removed]",
      "text/plain": [
       "<matplotlib.figure.Figure at 0xecb6278>"
      ]
     },
     "metadata": {},
     "output_type": "display_data"
    }
   ],
   "source": [
    "plot(k_range, accuracies)\n",
    "xlabel('k')\n",
    "ylabel('Model Accuracy')"
   ]
  },
  {
   "cell_type": "code",
   "execution_count": 11,
   "metadata": {
    "collapsed": false
   },
   "outputs": [],
   "source": [
    "s_accuracies = Series(accuracies)\n",
    "\n",
    "k = s_accuracies.idxmax() + 1\n",
    "knn = KNeighborsClassifier(n_neighbors=k)\n",
    "knn_classifier = knn.fit(x_train, y_train)\n",
    "knn_predict = knn.predict(x_test)"
   ]
  },
  {
   "cell_type": "code",
   "execution_count": 12,
   "metadata": {
    "collapsed": false
   },
   "outputs": [
    {
     "name": "stdout",
     "output_type": "stream",
     "text": [
      "K-NEAREST NEIGHBORS:\n",
      "Precision:0.692998955068\n",
      "Recall: 0.973004694836\n",
      "Accuracy: 0.6878\n"
     ]
    }
   ],
   "source": [
    "print 'K-NEAREST NEIGHBORS:'\n",
    "print 'Precision:' + str(metrics.precision_score(y_test, knn_predict, average = 'binary', pos_label='high'))\n",
    "print 'Recall: ' + str(metrics.recall_score(y_test, knn_predict, average = 'binary', pos_label='high'))\n",
    "print 'Accuracy: ' + str(metrics.accuracy_score(y_test, knn_predict))"
   ]
  },
  {
   "cell_type": "code",
   "execution_count": 13,
   "metadata": {
    "collapsed": false
   },
   "outputs": [
    {
     "data": {
      "text/plain": [
       "<matplotlib.text.Text at 0xf3ad240>"
      ]
     },
     "execution_count": 13,
     "metadata": {},
     "output_type": "execute_result"
    },
    {
     "data": {
      "image/png": "[encoded data removed]",
      "text/plain": [
       "<matplotlib.figure.Figure at 0xf2d5320>"
      ]
     },
     "metadata": {},
     "output_type": "display_data"
    }
   ],
   "source": [
    "#Fancy boy confusion matrix\n",
    "mat = metrics.confusion_matrix(y_test, knn_predict)\n",
    "sns.heatmap(mat.T, square=True, annot=True, fmt='d', cbar=True, \n",
    "            xticklabels=unique(y_test), yticklabels=unique(knn_predict))\n",
    "plt.xlabel('Actual Ratings')\n",
    "plt.ylabel('Predicted Ratings')\n",
    "plt.title('K-Nearest Neighbors')"
   ]
  },
  {
   "cell_type": "markdown",
   "metadata": {},
   "source": [
    "### Naive Bayes"
   ]
  },
  {
   "cell_type": "code",
   "execution_count": 14,
   "metadata": {
    "collapsed": false
   },
   "outputs": [],
   "source": [
    "bnb = BernoulliNB()\n",
    "bnb_classifier = bnb.fit(x_train, y_train)\n",
    "bnb_predict = bnb.predict(x_test)"
   ]
  },
  {
   "cell_type": "code",
   "execution_count": 15,
   "metadata": {
    "collapsed": false
   },
   "outputs": [
    {
     "name": "stdout",
     "output_type": "stream",
     "text": [
      "BERNOULLI NAIVE BAYES:\n",
      "Precision:0.6816\n",
      "Recall: 1.0\n",
      "Accuracy: 0.6816\n"
     ]
    }
   ],
   "source": [
    "print 'BERNOULLI NAIVE BAYES:'\n",
    "print 'Precision:' + str(metrics.precision_score(y_test, bnb_predict, average = 'binary', pos_label='high'))\n",
    "print 'Recall: ' + str(metrics.recall_score(y_test, bnb_predict, average = 'binary', pos_label='high'))\n",
    "print 'Accuracy: ' + str(metrics.accuracy_score(y_test, bnb_predict))"
   ]
  },
  {
   "cell_type": "code",
   "execution_count": 16,
   "metadata": {
    "collapsed": false
   },
   "outputs": [
    {
     "name": "stderr",
     "output_type": "stream",
     "text": [
      "C:\\Users\\Sean\\AppData\\Local\\Continuum\\Anaconda2\\lib\\site-packages\\seaborn\\matrix.py:142: FutureWarning: elementwise comparison failed; returning scalar instead, but in the future will perform elementwise comparison\n",
      "  if yticklabels == []:\n"
     ]
    },
    {
     "data": {
      "text/plain": [
       "<matplotlib.text.Text at 0xf49e160>"
      ]
     },
     "execution_count": 16,
     "metadata": {},
     "output_type": "execute_result"
    },
    {
     "data": {
      "image/png": "[encoded data removed]",
      "text/plain": [
       "<matplotlib.figure.Figure at 0xf388cf8>"
      ]
     },
     "metadata": {},
     "output_type": "display_data"
    }
   ],
   "source": [
    "#Fancy boy confusion matrix\n",
    "mat = metrics.confusion_matrix(y_test, bnb_predict)\n",
    "sns.heatmap(mat.T, square=True, annot=True, fmt='d', cbar=True, \n",
    "            xticklabels=unique(y_test), yticklabels=unique(bnb_predict))\n",
    "plt.xlabel('Actual Ratings')\n",
    "plt.ylabel('Predicted Ratings')\n",
    "plt.title('Bernoulli Naive Bayes')"
   ]
  },
  {
   "cell_type": "code",
   "execution_count": 17,
   "metadata": {
    "collapsed": false
   },
   "outputs": [],
   "source": [
    "mnb = MultinomialNB()\n",
    "mnb_classifier = mnb.fit(x_train, y_train)\n",
    "mnb_predict = mnb.predict(x_test)"
   ]
  },
  {
   "cell_type": "code",
   "execution_count": 18,
   "metadata": {
    "collapsed": false
   },
   "outputs": [
    {
     "name": "stdout",
     "output_type": "stream",
     "text": [
      "MULTINOMIAL NAIVE BAYES:\n",
      "Precision:0.682055399438\n",
      "Recall: 0.9970657277\n",
      "Accuracy: 0.6812\n"
     ]
    }
   ],
   "source": [
    "print 'MULTINOMIAL NAIVE BAYES:'\n",
    "print 'Precision:' + str(metrics.precision_score(y_test, mnb_predict, average = 'binary', pos_label='high'))\n",
    "print 'Recall: ' + str(metrics.recall_score(y_test, mnb_predict, average = 'binary', pos_label='high'))\n",
    "print 'Accuracy: ' + str(metrics.accuracy_score(y_test, mnb_predict))"
   ]
  },
  {
   "cell_type": "code",
   "execution_count": 19,
   "metadata": {
    "collapsed": false
   },
   "outputs": [
    {
     "data": {
      "text/plain": [
       "<matplotlib.text.Text at 0xf775e80>"
      ]
     },
     "execution_count": 19,
     "metadata": {},
     "output_type": "execute_result"
    },
    {
     "data": {
      "image/png": "[encoded data removed]",
      "text/plain": [
       "<matplotlib.figure.Figure at 0xf2b6048>"
      ]
     },
     "metadata": {},
     "output_type": "display_data"
    }
   ],
   "source": [
    "#Fancy boy confusion matrix\n",
    "mat = metrics.confusion_matrix(y_test, mnb_predict)\n",
    "sns.heatmap(mat.T, square=True, annot=True, fmt='d', cbar=True, \n",
    "            xticklabels=unique(y_test), yticklabels=unique(mnb_predict))\n",
    "plt.xlabel('Actual Ratings')\n",
    "plt.ylabel('Predicted Ratings')\n",
    "plt.title('Multinomial Naive Bayes')"
   ]
  },
  {
   "cell_type": "markdown",
   "metadata": {},
   "source": [
    "## Task B: Reviews (Text Data) Only"
   ]
  },
  {
   "cell_type": "code",
   "execution_count": 20,
   "metadata": {
    "collapsed": false
   },
   "outputs": [],
   "source": [
    "sample = yelp.sample(10000, random_state=321)\n",
    "\n",
    "# Split sample into train and test sets\n",
    "trainB, testB = train_test_split(sample, test_size=0.25, random_state=123)\n",
    "\n",
    "x_trainB = trainB['Review']\n",
    "y_trainB = trainB['rating']\n",
    "\n",
    "x_testB = testB['Review']\n",
    "y_testB = testB['rating']"
   ]
  },
  {
   "cell_type": "code",
   "execution_count": 21,
   "metadata": {
    "collapsed": false
   },
   "outputs": [],
   "source": [
    "# Create matrix of token counts from reviews\n",
    "vectorizer = CountVectorizer(analyzer = 'word', tokenizer= None, preprocessor = None, \n",
    "                             stop_words = None, max_features = None)\n",
    "\n",
    "x_trainB = vectorizer.fit_transform(x_trainB)\n",
    "x_testB = vectorizer.transform(x_testB)"
   ]
  },
  {
   "cell_type": "markdown",
   "metadata": {},
   "source": [
    "### Naive Bayes"
   ]
  },
  {
   "cell_type": "code",
   "execution_count": 22,
   "metadata": {
    "collapsed": false
   },
   "outputs": [],
   "source": [
    "# Run Naive Bayes Classifier\n",
    "mnb_classifierB = MultinomialNB().fit(x_trainB, y_trainB)\n",
    "\n",
    "mnb_predictB = mnb_classifierB.predict(x_testB)"
   ]
  },
  {
   "cell_type": "code",
   "execution_count": 23,
   "metadata": {
    "collapsed": false
   },
   "outputs": [
    {
     "name": "stdout",
     "output_type": "stream",
     "text": [
      "Precision:0.857612267251\n",
      "Recall: 0.907826086957\n",
      "Accuracy: 0.8324\n"
     ]
    }
   ],
   "source": [
    "print 'Precision:' + str(metrics.precision_score(y_testB, mnb_predictB, average = 'binary', pos_label='high'))\n",
    "print 'Recall: ' + str(metrics.recall_score(y_testB, mnb_predictB, average = 'binary', pos_label='high'))\n",
    "print 'Accuracy: ' + str(metrics.accuracy_score(y_testB, mnb_predictB))"
   ]
  },
  {
   "cell_type": "code",
   "execution_count": 24,
   "metadata": {
    "collapsed": false
   },
   "outputs": [
    {
     "data": {
      "text/plain": [
       "<matplotlib.text.Text at 0xc854f60>"
      ]
     },
     "execution_count": 24,
     "metadata": {},
     "output_type": "execute_result"
    },
    {
     "data": {
      "image/png": "[encoded data removed]",
      "text/plain": [
       "<matplotlib.figure.Figure at 0xf65b828>"
      ]
     },
     "metadata": {},
     "output_type": "display_data"
    }
   ],
   "source": [
    "#Fancy boy confusion matrix\n",
    "mat = metrics.confusion_matrix(y_testB, mnb_predictB)\n",
    "sns.heatmap(mat.T, square=True, annot=True, fmt='d', cbar=True, \n",
    "            xticklabels=unique(y_testB), yticklabels=unique(mnb_predictB))\n",
    "plt.xlabel('Actual Ratings')\n",
    "plt.ylabel('Predicted Ratings')\n",
    "plt.title('Multinomial Naive Bayes')"
   ]
  },
  {
   "cell_type": "markdown",
   "metadata": {},
   "source": [
    "### Logistic Regression"
   ]
  },
  {
   "cell_type": "code",
   "execution_count": 25,
   "metadata": {
    "collapsed": false
   },
   "outputs": [],
   "source": [
    "# Run Logistic Regression Classifier\n",
    "logreg_classifierB = linear_model.LogisticRegression().fit(x_trainB, y_trainB)\n",
    "\n",
    "logreg_predictB = logreg_classifierB.predict(x_testB)"
   ]
  },
  {
   "cell_type": "code",
   "execution_count": 26,
   "metadata": {
    "collapsed": false
   },
   "outputs": [
    {
     "name": "stdout",
     "output_type": "stream",
     "text": [
      "Precision:0.863508178229\n",
      "Recall: 0.887536231884\n",
      "Accuracy: 0.8256\n"
     ]
    }
   ],
   "source": [
    "print 'Precision:' + str(metrics.precision_score(y_testB, logreg_predictB, average = 'binary', pos_label='high'))\n",
    "print 'Recall: ' + str(metrics.recall_score(y_testB, logreg_predictB, average = 'binary', pos_label='high'))\n",
    "print 'Accuracy: ' + str(metrics.accuracy_score(y_testB, logreg_predictB))"
   ]
  },
  {
   "cell_type": "code",
   "execution_count": 27,
   "metadata": {
    "collapsed": false
   },
   "outputs": [
    {
     "data": {
      "text/plain": [
       "<matplotlib.text.Text at 0xd046978>"
      ]
     },
     "execution_count": 27,
     "metadata": {},
     "output_type": "execute_result"
    },
    {
     "data": {
      "image/png": "[encoded data removed]",
      "text/plain": [
       "<matplotlib.figure.Figure at 0xf2e8e48>"
      ]
     },
     "metadata": {},
     "output_type": "display_data"
    }
   ],
   "source": [
    "#Fancy boy confusion matrix\n",
    "mat = metrics.confusion_matrix(y_testB, logreg_predictB)\n",
    "sns.heatmap(mat.T, square=True, annot=True, fmt='d', cbar=True, \n",
    "            xticklabels=unique(y_testB), yticklabels=unique(logreg_predictB))\n",
    "plt.xlabel('Actual Ratings')\n",
    "plt.ylabel('Predicted Ratings')\n",
    "plt.title('Logistic Regression')"
   ]
  },
  {
   "cell_type": "markdown",
   "metadata": {},
   "source": [
    "## Task C: Numeric and Text Data"
   ]
  },
  {
   "cell_type": "code",
   "execution_count": 28,
   "metadata": {
    "collapsed": true
   },
   "outputs": [],
   "source": [
    "x_trainC = trainB.drop(['stars', 'rating'], axis=1)\n",
    "y_trainC = trainB['rating']\n",
    "\n",
    "x_testC = testB.drop(['stars', 'rating'], axis=1)\n",
    "y_testC = testB['rating']"
   ]
  },
  {
   "cell_type": "markdown",
   "metadata": {
    "collapsed": true
   },
   "source": [
    "## Part D"
   ]
  },
  {
   "cell_type": "code",
   "execution_count": 29,
   "metadata": {
    "collapsed": false
   },
   "outputs": [
    {
     "data": {
      "text/html": [
       "<div>\n",
       "<table border=\"1\" class=\"dataframe\">\n",
       "  <thead>\n",
       "    <tr style=\"text-align: right;\">\n",
       "      <th></th>\n",
       "      <th>0</th>\n",
       "      <th>1</th>\n",
       "      <th>2</th>\n",
       "      <th>3</th>\n",
       "      <th>4</th>\n",
       "      <th>5</th>\n",
       "      <th>6</th>\n",
       "      <th>7</th>\n",
       "      <th>8</th>\n",
       "      <th>9</th>\n",
       "      <th>...</th>\n",
       "      <th>13</th>\n",
       "      <th>14</th>\n",
       "      <th>15</th>\n",
       "      <th>16</th>\n",
       "      <th>17</th>\n",
       "      <th>18</th>\n",
       "      <th>19</th>\n",
       "      <th>20</th>\n",
       "      <th>21</th>\n",
       "      <th>22</th>\n",
       "    </tr>\n",
       "  </thead>\n",
       "  <tbody>\n",
       "    <tr>\n",
       "      <th>0</th>\n",
       "      <td>2</td>\n",
       "      <td>2</td>\n",
       "      <td>2</td>\n",
       "      <td>2</td>\n",
       "      <td>1</td>\n",
       "      <td>0</td>\n",
       "      <td>0</td>\n",
       "      <td>0</td>\n",
       "      <td>0</td>\n",
       "      <td>0</td>\n",
       "      <td>...</td>\n",
       "      <td>0</td>\n",
       "      <td>0</td>\n",
       "      <td>0</td>\n",
       "      <td>0</td>\n",
       "      <td>0</td>\n",
       "      <td>0</td>\n",
       "      <td>1</td>\n",
       "      <td>CLOSED            This JB s locati...</td>\n",
       "      <td>2</td>\n",
       "      <td>-2</td>\n",
       "    </tr>\n",
       "  </tbody>\n",
       "</table>\n",
       "<p>1 rows × 23 columns</p>\n",
       "</div>"
      ],
      "text/plain": [
       "   0   1   2   3   4   5   6   7   8   9  ...  13  14  15  16  17  18  19  \\\n",
       "0   2   2   2   2   1   0   0   0   0   0 ...   0   0   0   0   0   0   1   \n",
       "\n",
       "                                                  20  21  22  \n",
       "0              CLOSED            This JB s locati...   2  -2  \n",
       "\n",
       "[1 rows x 23 columns]"
      ]
     },
     "execution_count": 29,
     "metadata": {},
     "output_type": "execute_result"
    }
   ],
   "source": [
    "ss = pd.read_csv('YelpNoHeader+results.csv', header = None)\n",
    "ss.head(1)"
   ]
  },
  {
   "cell_type": "code",
   "execution_count": 30,
   "metadata": {
    "collapsed": true
   },
   "outputs": [],
   "source": [
    "ss['rating'] = np.where(ss[0] >= 4, 'high','low')"
   ]
  },
  {
   "cell_type": "code",
   "execution_count": 43,
   "metadata": {
    "collapsed": false
   },
   "outputs": [],
   "source": [
    "from sklearn.cross_validation import train_test_split\n",
    "train, test = train_test_split(ss, test_size=0.25, random_state=123)\n",
    "\n",
    "x_train = train[[21,22]].as_matrix()\n",
    "y_train = train['rating'].reshape(-1,1)\n",
    "\n",
    "x_test = test[[21,22]].as_matrix()\n",
    "y_test = test['rating'].reshape(-1,1)"
   ]
  },
  {
   "cell_type": "code",
   "execution_count": 44,
   "metadata": {
    "collapsed": false
   },
   "outputs": [
    {
     "name": "stderr",
     "output_type": "stream",
     "text": [
      "C:\\Users\\Sean\\AppData\\Local\\Continuum\\Anaconda2\\lib\\site-packages\\sklearn\\utils\\validation.py:515: DataConversionWarning: A column-vector y was passed when a 1d array was expected. Please change the shape of y to (n_samples, ), for example using ravel().\n",
      "  y = column_or_1d(y, warn=True)\n"
     ]
    },
    {
     "name": "stdout",
     "output_type": "stream",
     "text": [
      "\n",
      "Logistic Regression Out of Sample Accuracy: 0.723\n"
     ]
    },
    {
     "data": {
      "image/png": "[encoded data removed]",
      "text/plain": [
       "<matplotlib.figure.Figure at 0x15f77c88>"
      ]
     },
     "metadata": {},
     "output_type": "display_data"
    }
   ],
   "source": [
    "import sklearn\n",
    "from sklearn import linear_model\n",
    "from sklearn.metrics import precision_recall_curve as prc\n",
    "\n",
    "logreg = linear_model.LogisticRegression(fit_intercept=False)\n",
    "logreg_classifier = logreg.fit(x_train, y_train)\n",
    "#logreg_predict_in_sample = logreg.predict(x_train)\n",
    "logreg_predict_out_of_sample = logreg.predict(x_test)\n",
    "logreg_testAccuracy = logreg.score(x_test, y_test)\n",
    "\n",
    "\n",
    "\n",
    "mat = metrics.confusion_matrix(y_test, logreg_predict_out_of_sample)\n",
    "sns.heatmap(mat.T, square=True, annot=True, fmt='d', cbar=True, \n",
    "            xticklabels=unique(y_testB), yticklabels=unique(logreg_predictB))\n",
    "plt.xlabel('Actual Ratings')\n",
    "plt.ylabel('Predicted Ratings')\n",
    "plt.title('Logistic Regression')\n",
    "print\n",
    "print 'Logistic Regression Out of Sample Accuracy:', logreg_testAccuracy\n"
   ]
  },
  {
   "cell_type": "code",
   "execution_count": 59,
   "metadata": {
    "collapsed": false
   },
   "outputs": [],
   "source": []
  },
  {
   "cell_type": "code",
   "execution_count": 63,
   "metadata": {
    "collapsed": false
   },
   "outputs": [
    {
     "data": {
      "text/plain": [
       "<matplotlib.text.Text at 0x16daf3c8>"
      ]
     },
     "execution_count": 63,
     "metadata": {},
     "output_type": "execute_result"
    },
    {
     "data": {
      "image/png": "[encoded data removed]",
      "text/plain": [
       "<matplotlib.figure.Figure at 0x17081940>"
      ]
     },
     "metadata": {},
     "output_type": "display_data"
    }
   ],
   "source": [
    "from sklearn.neighbors import KNeighborsClassifier as knn\n",
    "accuracies = []\n",
    "for i in range(40):\n",
    "    kn = knn(weights='distance',n_neighbors=i+1)\n",
    "    kn_classifier = kn.fit(x_train, y_train.ravel())\n",
    "    kn_out_of_sample = kn.predict(x_test)\n",
    "    kn_testAccuracy = kn.score(x_test, y_test)\n",
    "    accuracies.append(kn_testAccuracy)\n",
    "\n",
    "plot(accuracies)\n",
    "plt.xlabel('K')\n",
    "plt.ylabel('Precision')\n",
    "plt.title('KNN')"
   ]
  },
  {
   "cell_type": "code",
   "execution_count": 64,
   "metadata": {
    "collapsed": false
   },
   "outputs": [
    {
     "name": "stderr",
     "output_type": "stream",
     "text": [
      "C:\\Users\\Sean\\AppData\\Local\\Continuum\\Anaconda2\\lib\\site-packages\\ipykernel\\__main__.py:3: DataConversionWarning: A column-vector y was passed when a 1d array was expected. Please change the shape of y to (n_samples, ), for example using ravel().\n",
      "  app.launch_new_instance()\n"
     ]
    },
    {
     "name": "stdout",
     "output_type": "stream",
     "text": [
      "\n",
      "Logistic Regression Out of Sample Accuracy: 0.7196\n"
     ]
    },
    {
     "data": {
      "image/png": "[encoded data removed]",
      "text/plain": [
       "<matplotlib.figure.Figure at 0x17081048>"
      ]
     },
     "metadata": {},
     "output_type": "display_data"
    }
   ],
   "source": [
    "\n",
    "kn = knn(weights='distance',n_neighbors=15)\n",
    "kn_classifier = kn.fit(x_train, y_train)\n",
    "kn_out_of_sample = kn.predict(x_test)\n",
    "kn_testAccuracy = kn.score(x_test, y_test)\n",
    "\n",
    "\n",
    "\n",
    "mat = metrics.confusion_matrix(y_test, kn_out_of_sample)\n",
    "sns.heatmap(mat.T, square=True, annot=True, fmt='d', cbar=True, \n",
    "            xticklabels=unique(y_testB), yticklabels=unique(logreg_predictB))\n",
    "plt.xlabel('Actual Ratings')\n",
    "plt.ylabel('Predicted Ratings')\n",
    "plt.title('KNN')\n",
    "print\n",
    "print 'Logistic Regression Out of Sample Accuracy:', kn_testAccuracy"
   ]
  },
  {
   "cell_type": "markdown",
   "metadata": {},
   "source": [
    "## Part E"
   ]
  },
  {
   "cell_type": "code",
   "execution_count": 33,
   "metadata": {
    "collapsed": false
   },
   "outputs": [],
   "source": [
    "import nltk\n",
    "from nltk import word_tokenize\n",
    "from nltk.tokenize import RegexpTokenizer\n",
    "\n",
    "yelpsub = yelp.sample(500)\n",
    "\n",
    "# Tokenize all job descriptions from sample\n",
    "yelpsub['tokenized_strip'] = yelpsub.apply(lambda row: row['Review'].decode('utf-8').strip(),axis=1)\n",
    "yelpsub['tokenized'] = yelpsub.apply(lambda row: nltk.word_tokenize(row['tokenized_strip']),axis=1)"
   ]
  },
  {
   "cell_type": "code",
   "execution_count": 34,
   "metadata": {
    "collapsed": true
   },
   "outputs": [],
   "source": [
    "reviews = []\n",
    "for index, value in yelpsub.iterrows():\n",
    "    reviews.append(value['tokenized'])"
   ]
  },
  {
   "cell_type": "code",
   "execution_count": 35,
   "metadata": {
    "collapsed": true
   },
   "outputs": [],
   "source": [
    "reviews_lower = []\n",
    "for review in reviews:\n",
    "    review_lower = []\n",
    "    for token in review:\n",
    "        token_lower = token.lower()\n",
    "        review_lower.append(token_lower)\n",
    "    reviews_lower.append(review_lower)"
   ]
  },
  {
   "cell_type": "code",
   "execution_count": 36,
   "metadata": {
    "collapsed": false
   },
   "outputs": [
    {
     "data": {
      "text/plain": [
       "76629"
      ]
     },
     "execution_count": 36,
     "metadata": {},
     "output_type": "execute_result"
    }
   ],
   "source": [
    "reviews = reviews_lower\n",
    "\n",
    "all_count = 0\n",
    "for review in reviews:\n",
    "    for token in review:\n",
    "        all_count += 1\n",
    "\n",
    "all_count"
   ]
  },
  {
   "cell_type": "code",
   "execution_count": 37,
   "metadata": {
    "collapsed": true
   },
   "outputs": [],
   "source": [
    "single_dict = {}\n",
    "for review in reviews:\n",
    "    for token in review:\n",
    "        if token in single_dict:\n",
    "            single_dict[token] += 1\n",
    "        else:\n",
    "            single_dict[token] = 1"
   ]
  },
  {
   "cell_type": "code",
   "execution_count": 38,
   "metadata": {
    "collapsed": true
   },
   "outputs": [],
   "source": [
    "bigrams = []\n",
    "for review in reviews:\n",
    "    small_list = []\n",
    "    for i in range(len(review[0:-1])):\n",
    "        small_list.append((review[i], review[i+1]))\n",
    "    bigrams.append(small_list)\n",
    "\n",
    "bigram_dict = {}\n",
    "for review in bigrams:\n",
    "    for tup in review:\n",
    "        tup_space = ' '.join(tup)\n",
    "        if tup_space in bigram_dict:\n",
    "            bigram_dict[tup_space] += 1\n",
    "        else:\n",
    "            bigram_dict[tup_space] = 1"
   ]
  },
  {
   "cell_type": "code",
   "execution_count": 39,
   "metadata": {
    "collapsed": false
   },
   "outputs": [
    {
     "data": {
      "text/plain": [
       "76129"
      ]
     },
     "execution_count": 39,
     "metadata": {},
     "output_type": "execute_result"
    }
   ],
   "source": [
    "bigram_count = 0\n",
    "for review in bigrams:\n",
    "    for bigram in review:\n",
    "        bigram_count += 1\n",
    "        \n",
    "bigram_count"
   ]
  },
  {
   "cell_type": "code",
   "execution_count": 40,
   "metadata": {
    "collapsed": true
   },
   "outputs": [],
   "source": [
    "import math\n",
    "\n",
    "zipped = []\n",
    "for bigram in bigram_dict: \n",
    "    bigram_sep = bigram.split()\n",
    "    p_bi = bigram_dict[bigram] / (bigram_count * 1.0)\n",
    "    p_word1 = single_dict[bigram_sep[0]] / (all_count * 1.0)\n",
    "    p_word2 = single_dict[bigram_sep[1]] / (all_count * 1.0)\n",
    "    pmi = math.log(p_bi / (p_word1 * p_word2) * 1.0)\n",
    "    \n",
    "    zipped.append((bigram, bigram_dict[bigram], bigram_sep[0], single_dict[bigram_sep[0]], bigram_sep[1], single_dict[bigram_sep[1]], pmi))"
   ]
  },
  {
   "cell_type": "code",
   "execution_count": 41,
   "metadata": {
    "collapsed": false
   },
   "outputs": [
    {
     "name": "stdout",
     "output_type": "stream",
     "text": [
      "i-don t-hate-you-for-being-here 11.2532771995\n",
      "dj spinning 11.2532771995\n",
      "fiji albacore 11.2532771995\n",
      "kona grills 11.2532771995\n",
      "kashk e 11.2532771995\n",
      "helper/ guard 11.2532771995\n",
      "peacefully grazing 11.2532771995\n",
      "delicious.spicy saigon- 11.2532771995\n",
      "rootbeer float 11.2532771995\n",
      "silent agreement 11.2532771995\n",
      "plaid patterns 11.2532771995\n",
      "minty= amazing.wasabi 11.2532771995\n",
      "speed dial 11.2532771995\n",
      "scares out-of-towners 10.560130019\n",
      "sports authority 10.560130019\n",
      "contemporary décor 10.560130019\n",
      "unsuspecting homeowner 10.560130019\n",
      "chihuahua contest 10.560130019\n",
      "dimly lit 10.560130019\n",
      "flimsiest plastic 10.560130019\n"
     ]
    }
   ],
   "source": [
    "zipped_sorted = sorted(zipped, key=lambda x: x[6])\n",
    "zipped_sorted.reverse()\n",
    "for a,b,c,d,e,f,g in zipped_sorted[300:320]:\n",
    "    print a, g"
   ]
  }
 ],
 "metadata": {
  "kernelspec": {
   "display_name": "Python 2",
   "language": "python",
   "name": "python2"
  },
  "language_info": {
   "codemirror_mode": {
    "name": "ipython",
    "version": 2
   },
   "file_extension": ".py",
   "mimetype": "text/x-python",
   "name": "python",
   "nbconvert_exporter": "python",
   "pygments_lexer": "ipython2",
   "version": "2.7.12"
  }
 },
 "nbformat": 4,
 "nbformat_minor": 0
}

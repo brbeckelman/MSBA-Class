{
 "cells": [
  {
   "cell_type": "code",
   "execution_count": 1,
   "metadata": {
    "collapsed": false
   },
   "outputs": [
    {
     "name": "stdout",
     "output_type": "stream",
     "text": [
      "[nltk_data] Downloading package punkt to\n",
      "[nltk_data]     C:\\Users\\egonz\\AppData\\Roaming\\nltk_data...\n",
      "[nltk_data]   Package punkt is already up-to-date!\n",
      "Populating the interactive namespace from numpy and matplotlib\n"
     ]
    }
   ],
   "source": [
    "import nltk\n",
    "nltk.download('punkt')\n",
    "from nltk import word_tokenize\n",
    "from nltk.util import ngrams\n",
    "from collections import Counter\n",
    "from nltk.corpus import brown\n",
    "from nltk.tokenize import RegexpTokenizer\n",
    "\n",
    "import pandas as pd\n",
    "from pandas import Series, DataFrame\n",
    "%pylab inline"
   ]
  },
  {
   "cell_type": "code",
   "execution_count": 4,
   "metadata": {
    "collapsed": false
   },
   "outputs": [],
   "source": [
    "jobs = pd.read_csv(\"../Text_Analytics/Train_rev1.csv\")\n",
    "#take subset of 1000\n",
    "jobs_sample = jobs.sample(1000)"
   ]
  },
  {
   "cell_type": "code",
   "execution_count": 5,
   "metadata": {
    "collapsed": false
   },
   "outputs": [],
   "source": [
    "tokenizer = RegexpTokenizer(r'\\w+')\n",
    "jobs_sample['tokenized_strip'] = jobs_sample.apply(lambda row: row['FullDescription'].decode('utf-8').strip(),axis=1)\n",
    "jobs_sample['tokenized'] = jobs_sample.apply(lambda row: tokenizer.tokenize(row['tokenized_strip']),axis=1)"
   ]
  },
  {
   "cell_type": "code",
   "execution_count": 6,
   "metadata": {
    "collapsed": false
   },
   "outputs": [],
   "source": [
    "import itertools\n",
    "JDT = jobs_sample['tokenized'].tolist()\n",
    "job_descrip_list = list(itertools.chain(*JDT))"
   ]
  },
  {
   "cell_type": "code",
   "execution_count": 7,
   "metadata": {
    "collapsed": false
   },
   "outputs": [],
   "source": [
    "# get Parts of Speech\n",
    "Job_descrip_POS = nltk.pos_tag(job_descrip_list)"
   ]
  },
  {
   "cell_type": "markdown",
   "metadata": {
    "collapsed": true
   },
   "source": [
    "# Get Most Common Parts-of-Speech"
   ]
  },
  {
   "cell_type": "code",
   "execution_count": 8,
   "metadata": {
    "collapsed": true
   },
   "outputs": [],
   "source": [
    "import nltk\n",
    "from nltk import *\n",
    "import pandas as pd\n",
    "import matplotlib.pyplot as plt\n",
    "%matplotlib inline \n",
    "import math\n",
    "import numpy as np\n",
    "from sklearn.feature_extraction.text import CountVectorizer"
   ]
  },
  {
   "cell_type": "markdown",
   "metadata": {},
   "source": [
    "Most common parts of speech are\n",
    "\n",
    "NN:Noun\n",
    "\n",
    "NNP:Proper Noun\n",
    "\n",
    "IN:Preposition or Subordinating Conjunction\n",
    "\n",
    "JJ:Adjective\n",
    "\n",
    "DT:Determiner"
   ]
  },
  {
   "cell_type": "code",
   "execution_count": 9,
   "metadata": {
    "collapsed": false
   },
   "outputs": [
    {
     "data": {
      "text/plain": [
       "[('NN', 43887), ('NNP', 35395), ('IN', 25667), ('JJ', 20218), ('DT', 19825)]"
      ]
     },
     "execution_count": 9,
     "metadata": {},
     "output_type": "execute_result"
    }
   ],
   "source": [
    "words, pos = zip(*Job_descrip_POS) # Unzip by using *\n",
    "pos_freq = FreqDist(pos)\n",
    "pos_freq.most_common()[:5] #Most frequent POS's"
   ]
  },
  {
   "cell_type": "markdown",
   "metadata": {},
   "source": [
    "# Frequency of Most Common POS"
   ]
  },
  {
   "cell_type": "markdown",
   "metadata": {},
   "source": [
    "So the most common POS is nouns and they occur about 17% of the time"
   ]
  },
  {
   "cell_type": "code",
   "execution_count": 10,
   "metadata": {
    "collapsed": false
   },
   "outputs": [
    {
     "name": "stdout",
     "output_type": "stream",
     "text": [
      "NN 0.182617488203\n",
      "NNP 0.147281563902\n",
      "IN 0.106802539926\n",
      "JJ 0.0841287938682\n",
      "DT 0.0824934879037\n"
     ]
    }
   ],
   "source": [
    "for a, b in pos_freq.most_common()[:5]:\n",
    "    print a, b * 1.0 / len(pos) * 1.0 #Most common POS' frequencies"
   ]
  },
  {
   "cell_type": "markdown",
   "metadata": {},
   "source": [
    "# Zipf's Law"
   ]
  },
  {
   "cell_type": "code",
   "execution_count": 11,
   "metadata": {
    "collapsed": false
   },
   "outputs": [
    {
     "data": {
      "text/plain": [
       "[<matplotlib.lines.Line2D at 0x21650860>]"
      ]
     },
     "execution_count": 11,
     "metadata": {},
     "output_type": "execute_result"
    },
    {
     "data": {
      "image/png": "[encoded data removed]",
      "text/plain": [
       "<matplotlib.figure.Figure at 0x21650240>"
      ]
     },
     "metadata": {},
     "output_type": "display_data"
    }
   ],
   "source": [
    "#get all lowercase words\n",
    "words_lower = []\n",
    "for word in words:\n",
    "    words_lower.append(word.lower())\n",
    "    \n",
    "word_freq = FreqDist(words_lower)\n",
    "most_common_words = word_freq.most_common()[:100]\n",
    "\n",
    "#create theoretical Zipf's law line\n",
    "n = most_common_words[0][1]\n",
    "nums = []\n",
    "nums.append(n)\n",
    "counter = 1\n",
    "while len(nums) < 100:\n",
    "    counter += 1\n",
    "    nums.append(n * (1.0 * 1/counter * 1.0))\n",
    "\n",
    "\n",
    "plt.plot([b for (a,b) in most_common_words]) # Blue\n",
    "plt.plot(nums) # Green"
   ]
  },
  {
   "cell_type": "markdown",
   "metadata": {},
   "source": [
    "# Remove Stopwords"
   ]
  },
  {
   "cell_type": "code",
   "execution_count": 12,
   "metadata": {
    "collapsed": true
   },
   "outputs": [],
   "source": [
    "from nltk.corpus import stopwords"
   ]
  },
  {
   "cell_type": "code",
   "execution_count": 13,
   "metadata": {
    "collapsed": false
   },
   "outputs": [],
   "source": [
    "word_list = words\n",
    "word_list_lower = [word.lower() for word in word_list]\n",
    "filtered_words = [word for word in word_list_lower if word not in stopwords.words('english')]"
   ]
  },
  {
   "cell_type": "code",
   "execution_count": 15,
   "metadata": {
    "collapsed": false
   },
   "outputs": [],
   "source": [
    "from nltk.stem import *\n",
    "stemmer = PorterStemmer()\n",
    "stemmed_words = [stemmer.stem(word) for word in filtered_words]"
   ]
  },
  {
   "cell_type": "code",
   "execution_count": 16,
   "metadata": {
    "collapsed": false
   },
   "outputs": [
    {
     "data": {
      "text/plain": [
       "[(u'work', 2232),\n",
       " (u'manag', 1992),\n",
       " (u'experi', 1673),\n",
       " (u'develop', 1301),\n",
       " (u'client', 1287),\n",
       " (u'role', 1249),\n",
       " (u'team', 1239),\n",
       " (u'busi', 1148),\n",
       " (u'requir', 1026),\n",
       " (u'servic', 989)]"
      ]
     },
     "execution_count": 16,
     "metadata": {},
     "output_type": "execute_result"
    }
   ],
   "source": [
    "stem_freq = FreqDist(stemmed_words)\n",
    "stem_freq.most_common()[:10]"
   ]
  },
  {
   "cell_type": "markdown",
   "metadata": {},
   "source": [
    "# This script would find the 10 most common lemmatized words instead of stemmed, but the function does not recognize the nltk parts-of-speech"
   ]
  },
  {
   "cell_type": "code",
   "execution_count": 17,
   "metadata": {
    "collapsed": false
   },
   "outputs": [],
   "source": [
    "#from nltk.stem import WordNetLemmatizer\n",
    "#lem_words_POS = nltk.pos_tag(filtered_words)\n",
    "#nwords, npos = zip(*lem_words_POS)\n",
    "\n",
    "#wordnet_lemmatizer = WordNetLemmatizer()\n",
    "#lem_words = []\n",
    "#lem_words = wordnet_lemmatizer.lemmatize(nwords, pos=npos)\n",
    "\n",
    "#lem_freq = FreqDist(lem_words)\n",
    "#lem_freq.most_common()[:10]"
   ]
  },
  {
   "cell_type": "markdown",
   "metadata": {},
   "source": [
    "# Part B"
   ]
  },
  {
   "cell_type": "code",
   "execution_count": 136,
   "metadata": {
    "collapsed": false
   },
   "outputs": [
    {
     "data": {
      "text/html": [
       "<div>\n",
       "<table border=\"1\" class=\"dataframe\">\n",
       "  <thead>\n",
       "    <tr style=\"text-align: right;\">\n",
       "      <th></th>\n",
       "      <th>FullDescription</th>\n",
       "      <th>SalaryNormalized</th>\n",
       "      <th>salary_class</th>\n",
       "    </tr>\n",
       "  </thead>\n",
       "  <tbody>\n",
       "    <tr>\n",
       "      <th>53353</th>\n",
       "      <td>Location: Didcot The transportation team is lo...</td>\n",
       "      <td>21216</td>\n",
       "      <td>low</td>\n",
       "    </tr>\n",
       "    <tr>\n",
       "      <th>194933</th>\n",
       "      <td>As one of the UK's leading building engineerin...</td>\n",
       "      <td>37500</td>\n",
       "      <td>low</td>\n",
       "    </tr>\n",
       "    <tr>\n",
       "      <th>59848</th>\n",
       "      <td>Corporate Finance NQ Solicitor  Manchester You...</td>\n",
       "      <td>38000</td>\n",
       "      <td>low</td>\n",
       "    </tr>\n",
       "    <tr>\n",
       "      <th>109710</th>\n",
       "      <td>We are currently seeking to recruit Supply Cha...</td>\n",
       "      <td>20000</td>\n",
       "      <td>low</td>\n",
       "    </tr>\n",
       "    <tr>\n",
       "      <th>222041</th>\n",
       "      <td>Chartered Structural Engineer for a permanent ...</td>\n",
       "      <td>39000</td>\n",
       "      <td>low</td>\n",
       "    </tr>\n",
       "  </tbody>\n",
       "</table>\n",
       "</div>"
      ],
      "text/plain": [
       "                                          FullDescription  SalaryNormalized  \\\n",
       "53353   Location: Didcot The transportation team is lo...             21216   \n",
       "194933  As one of the UK's leading building engineerin...             37500   \n",
       "59848   Corporate Finance NQ Solicitor  Manchester You...             38000   \n",
       "109710  We are currently seeking to recruit Supply Cha...             20000   \n",
       "222041  Chartered Structural Engineer for a permanent ...             39000   \n",
       "\n",
       "       salary_class  \n",
       "53353           low  \n",
       "194933          low  \n",
       "59848           low  \n",
       "109710          low  \n",
       "222041          low  "
      ]
     },
     "execution_count": 136,
     "metadata": {},
     "output_type": "execute_result"
    }
   ],
   "source": [
    "jobs_b = jobs[['FullDescription', 'SalaryNormalized']]\n",
    "jobs_b_sample = jobs_b.sample(20000)\n",
    "\n",
    "#Create new classifier for job posting salaries in the top quartile\n",
    "train_sample = jobs_b_sample\n",
    "sal_75 = train_sample['SalaryNormalized'].quantile(.75)\n",
    "\n",
    "train_sample['salary_class'] = np.where(train_sample['SalaryNormalized']>=sal_75,'high','low')\n",
    "\n",
    "train_sample.head()"
   ]
  },
  {
   "cell_type": "code",
   "execution_count": 137,
   "metadata": {
    "collapsed": false
   },
   "outputs": [],
   "source": [
    "#Create two separate lists for text and salary classifier for each job posting\n",
    "descriptions = []\n",
    "pay_class = []\n",
    "\n",
    "for index, value in train_sample.iterrows():\n",
    "    descriptions.append(value['FullDescription'])\n",
    "    pay_class.append(value['salary_class'])"
   ]
  },
  {
   "cell_type": "code",
   "execution_count": 140,
   "metadata": {
    "collapsed": true
   },
   "outputs": [],
   "source": [
    "#Split data into test/training set\n",
    "trainset_size = int(round(len(train_sample)*0.75))\n",
    "\n",
    "X_train = np.array([''.join(el) for el in descriptions[0:trainset_size]])\n",
    "y_train = np.array([el for el in pay_class[0:trainset_size]])\n",
    "\n",
    "X_test = np.array([''.join(el) for el in descriptions[trainset_size+1:len(descriptions)]]) \n",
    "y_test = np.array([el for el in pay_class[trainset_size+1:len(pay_class)]]) "
   ]
  },
  {
   "cell_type": "code",
   "execution_count": 141,
   "metadata": {
    "collapsed": false
   },
   "outputs": [],
   "source": [
    "from sklearn.feature_extraction.text import CountVectorizer\n",
    "\n",
    "vectorizer = CountVectorizer(analyzer = \"word\", \n",
    "                             tokenizer= None,\n",
    "                             preprocessor = None, \n",
    "                             stop_words = None)\n",
    "\n",
    "X_train = vectorizer.fit_transform(X_train)\n",
    "X_test = vectorizer.transform(X_test)"
   ]
  },
  {
   "cell_type": "code",
   "execution_count": 142,
   "metadata": {
    "collapsed": false
   },
   "outputs": [],
   "source": [
    "from sklearn.naive_bayes import MultinomialNB\n",
    "\n",
    "#Run Naive Bayes Classifier\n",
    "nb_classifier = MultinomialNB().fit(X_train, y_train)\n",
    "\n",
    "y_nb_predicted = nb_classifier.predict(X_test)"
   ]
  },
  {
   "cell_type": "code",
   "execution_count": 143,
   "metadata": {
    "collapsed": false
   },
   "outputs": [
    {
     "name": "stdout",
     "output_type": "stream",
     "text": [
      "Precision:0.569495694957\n",
      "Recall: 0.733174980206\n",
      "Accuracy: 0.792558511702\n"
     ]
    }
   ],
   "source": [
    "from sklearn import metrics\n",
    "print 'Precision:' + str(metrics.precision_score(y_test, y_nb_predicted, average = 'binary', pos_label='high'))\n",
    "print 'Recall: ' + str(metrics.recall_score(y_test, y_nb_predicted, average = 'binary', pos_label='high'))\n",
    "print 'Accuracy: ' + str(metrics.accuracy_score(y_test, y_nb_predicted))"
   ]
  },
  {
   "cell_type": "code",
   "execution_count": 116,
   "metadata": {
    "collapsed": false
   },
   "outputs": [
    {
     "data": {
      "image/png": "[encoded data removed]",
      "text/plain": [
       "<matplotlib.figure.Figure at 0x7e9745c0>"
      ]
     },
     "metadata": {},
     "output_type": "display_data"
    }
   ],
   "source": [
    "#Fancy boy confusion matrix\n",
    "import seaborn as sns; sns.set()\n",
    "\n",
    "mat = metrics.confusion_matrix(y_test, y_nb_predicted)\n",
    "sns.heatmap(mat.T, square=True, annot=True, fmt='d', cbar=True,\n",
    "            xticklabels=unique(pay_class), yticklabels=unique(pay_class))\n",
    "plt.xlabel('Actual Salary Level')\n",
    "plt.ylabel('Predicted Salary Level');"
   ]
  },
  {
   "cell_type": "code",
   "execution_count": 27,
   "metadata": {
    "collapsed": true
   },
   "outputs": [],
   "source": [
    "def most_informative_features(vectorizer, classifier, n=10):\n",
    "    class_labels = classifier.classes_\n",
    "    feature_names = vectorizer.get_feature_names()\n",
    "    topn_class1 = sorted(zip(classifier.coef_[0], feature_names))[:n]\n",
    "    topn_class2 = sorted(zip(classifier.coef_[0], feature_names))[-n:]\n",
    "\n",
    "    for coef, feat in topn_class1:\n",
    "        print class_labels[0], coef, feat\n",
    "\n",
    "    print\n",
    "\n",
    "    for coef, feat in reversed(topn_class2):\n",
    "        print class_labels[1], coef, feat"
   ]
  },
  {
   "cell_type": "code",
   "execution_count": 28,
   "metadata": {
    "collapsed": false
   },
   "outputs": [
    {
     "name": "stdout",
     "output_type": "stream",
     "text": [
      "high -13.3496571048 latency\n",
      "high -12.9441919967 nq\n",
      "high -12.6565099243 middleware\n",
      "high -12.6565099243 navision\n",
      "high -12.6565099243 uda\n",
      "high -12.5387268886 aerotek\n",
      "high -12.5387268886 bdd\n",
      "high -12.5387268886 cmc\n",
      "high -12.5387268886 hyperion\n",
      "high -12.5387268886 pci\n",
      "\n",
      "low -3.0551753106 and\n",
      "low -3.28164076889 to\n",
      "low -3.30602724746 the\n",
      "low -3.6971019107 of\n",
      "low -3.99249282839 in\n",
      "low -4.14901359581 for\n",
      "low -4.31256953537 you\n",
      "low -4.33697530264 with\n",
      "low -4.44777991114 will\n",
      "low -4.45214568771 be\n"
     ]
    }
   ],
   "source": [
    "most_informative_features(vectorizer, nb_classifier)"
   ]
  },
  {
   "cell_type": "markdown",
   "metadata": {
    "collapsed": true
   },
   "source": [
    "## B4. Bigrams Included"
   ]
  },
  {
   "cell_type": "code",
   "execution_count": 130,
   "metadata": {
    "collapsed": false
   },
   "outputs": [
    {
     "data": {
      "text/html": [
       "<div>\n",
       "<table border=\"1\" class=\"dataframe\">\n",
       "  <thead>\n",
       "    <tr style=\"text-align: right;\">\n",
       "      <th></th>\n",
       "      <th>FullDescription</th>\n",
       "      <th>SalaryNormalized</th>\n",
       "      <th>salary_class</th>\n",
       "    </tr>\n",
       "  </thead>\n",
       "  <tbody>\n",
       "    <tr>\n",
       "      <th>197656</th>\n",
       "      <td>This agency has won over **** awards Less than...</td>\n",
       "      <td>26000</td>\n",
       "      <td>low</td>\n",
       "    </tr>\n",
       "    <tr>\n",
       "      <th>213902</th>\n",
       "      <td>Excellent Salary Top Manchester Legal Firm Ama...</td>\n",
       "      <td>19500</td>\n",
       "      <td>low</td>\n",
       "    </tr>\n",
       "    <tr>\n",
       "      <th>98012</th>\n",
       "      <td>A world renown FMCG Manufacturing Company who ...</td>\n",
       "      <td>21100</td>\n",
       "      <td>low</td>\n",
       "    </tr>\n",
       "    <tr>\n",
       "      <th>116463</th>\n",
       "      <td>Senior Analyst  FTSE 100 blue chip We are look...</td>\n",
       "      <td>45000</td>\n",
       "      <td>high</td>\n",
       "    </tr>\n",
       "    <tr>\n",
       "      <th>96675</th>\n",
       "      <td>Excellent fulltime opportunity for a Java Deve...</td>\n",
       "      <td>32500</td>\n",
       "      <td>low</td>\n",
       "    </tr>\n",
       "  </tbody>\n",
       "</table>\n",
       "</div>"
      ],
      "text/plain": [
       "                                          FullDescription  SalaryNormalized  \\\n",
       "197656  This agency has won over **** awards Less than...             26000   \n",
       "213902  Excellent Salary Top Manchester Legal Firm Ama...             19500   \n",
       "98012   A world renown FMCG Manufacturing Company who ...             21100   \n",
       "116463  Senior Analyst  FTSE 100 blue chip We are look...             45000   \n",
       "96675   Excellent fulltime opportunity for a Java Deve...             32500   \n",
       "\n",
       "       salary_class  \n",
       "197656          low  \n",
       "213902          low  \n",
       "98012           low  \n",
       "116463         high  \n",
       "96675           low  "
      ]
     },
     "execution_count": 130,
     "metadata": {},
     "output_type": "execute_result"
    }
   ],
   "source": [
    "#Create new classifier for job posting salaries in the top quartile\n",
    "train_sample = jobs_b_sample\n",
    "sal_75 = train_sample['SalaryNormalized'].quantile(.75)\n",
    "\n",
    "train_sample['salary_class'] = np.where(train_sample['SalaryNormalized']>=sal_75,'high','low')\n",
    "\n",
    "train_sample.head()"
   ]
  },
  {
   "cell_type": "code",
   "execution_count": 131,
   "metadata": {
    "collapsed": true
   },
   "outputs": [],
   "source": [
    "#Create two separate lists for text and salary classifier for each job posting\n",
    "descriptions = []\n",
    "pay_class = []\n",
    "\n",
    "for index, value in train_sample.iterrows():\n",
    "    descriptions.append(value['FullDescription'])\n",
    "    pay_class.append(value['salary_class'])"
   ]
  },
  {
   "cell_type": "code",
   "execution_count": 132,
   "metadata": {
    "collapsed": true
   },
   "outputs": [],
   "source": [
    "#Split data into test/training set\n",
    "trainset_size = int(round(len(train_sample)*0.75))\n",
    "\n",
    "X_train = np.array([''.join(el) for el in descriptions[0:trainset_size]])\n",
    "y_train = np.array([el for el in pay_class[0:trainset_size]])\n",
    "\n",
    "X_test = np.array([''.join(el) for el in descriptions[trainset_size+1:len(descriptions)]]) \n",
    "y_test = np.array([el for el in pay_class[trainset_size+1:len(pay_class)]])"
   ]
  },
  {
   "cell_type": "code",
   "execution_count": 133,
   "metadata": {
    "collapsed": false
   },
   "outputs": [],
   "source": [
    "from sklearn.feature_extraction.text import CountVectorizer\n",
    "\n",
    "vectorizer = CountVectorizer(analyzer = \"word\", \n",
    "                             tokenizer= None,\n",
    "                             preprocessor = None, \n",
    "                             stop_words = None, \n",
    "                             max_features = None, ngram_range=(1, 2))\n",
    "\n",
    "X_train = vectorizer.fit_transform(X_train)\n",
    "X_test = vectorizer.transform(X_test)"
   ]
  },
  {
   "cell_type": "code",
   "execution_count": 134,
   "metadata": {
    "collapsed": true
   },
   "outputs": [],
   "source": [
    "from sklearn.naive_bayes import MultinomialNB\n",
    "\n",
    "#Run Naive Bayes Classifier\n",
    "nb_classifier = MultinomialNB().fit(X_train, y_train)\n",
    "\n",
    "y_nb_predicted = nb_classifier.predict(X_test)"
   ]
  },
  {
   "cell_type": "code",
   "execution_count": 135,
   "metadata": {
    "collapsed": false
   },
   "outputs": [
    {
     "name": "stdout",
     "output_type": "stream",
     "text": [
      "Precision:0.704883227176\n",
      "Recall: 0.529083665339\n",
      "Accuracy: 0.826165233047\n"
     ]
    }
   ],
   "source": [
    "from sklearn import metrics\n",
    "print 'Precision:' + str(metrics.precision_score(y_test, y_nb_predicted, average = 'binary', pos_label='high'))\n",
    "print 'Recall: ' + str(metrics.recall_score(y_test, y_nb_predicted, average = 'binary', pos_label='high'))\n",
    "print 'Accuracy: ' + str(metrics.accuracy_score(y_test, y_nb_predicted))"
   ]
  },
  {
   "cell_type": "code",
   "execution_count": 123,
   "metadata": {
    "collapsed": false
   },
   "outputs": [
    {
     "data": {
      "image/png": "[encoded data removed]",
      "text/plain": [
       "<matplotlib.figure.Figure at 0x124cbcef0>"
      ]
     },
     "metadata": {},
     "output_type": "display_data"
    }
   ],
   "source": [
    "#Fancy boy confusion matrix\n",
    "import seaborn as sns; sns.set()\n",
    "\n",
    "mat = metrics.confusion_matrix(y_test, y_nb_predicted)\n",
    "sns.heatmap(mat.T, square=True, annot=True, fmt='d', cbar=True,\n",
    "            xticklabels=unique(pay_class), yticklabels=unique(pay_class))\n",
    "plt.xlabel('Actual Salary Level')\n",
    "plt.ylabel('Predicted Salary Level');"
   ]
  },
  {
   "cell_type": "code",
   "execution_count": null,
   "metadata": {
    "collapsed": true
   },
   "outputs": [],
   "source": []
  }
 ],
 "metadata": {
  "anaconda-cloud": {},
  "kernelspec": {
   "display_name": "Python 2",
   "language": "python",
   "name": "python2"
  },
  "language_info": {
   "codemirror_mode": {
    "name": "ipython",
    "version": 2
   },
   "file_extension": ".py",
   "mimetype": "text/x-python",
   "name": "python",
   "nbconvert_exporter": "python",
   "pygments_lexer": "ipython2",
   "version": "2.7.12"
  }
 },
 "nbformat": 4,
 "nbformat_minor": 0
}

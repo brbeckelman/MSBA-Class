{
 "cells": [
  {
   "cell_type": "code",
   "execution_count": 1,
   "metadata": {
    "collapsed": false
   },
   "outputs": [
    {
     "name": "stdout",
     "output_type": "stream",
     "text": [
      "Populating the interactive namespace from numpy and matplotlib\n"
     ]
    }
   ],
   "source": [
    "from pandas import Series, DataFrame\n",
    "import pandas as pd\n",
    "import nltk\n",
    "%pylab inline "
   ]
  },
  {
   "cell_type": "code",
   "execution_count": 3,
   "metadata": {
    "collapsed": false
   },
   "outputs": [
    {
     "data": {
      "text/html": [
       "<div>\n",
       "<table border=\"1\" class=\"dataframe\">\n",
       "  <thead>\n",
       "    <tr style=\"text-align: right;\">\n",
       "      <th></th>\n",
       "      <th>Id</th>\n",
       "      <th>Title</th>\n",
       "      <th>FullDescription</th>\n",
       "      <th>LocationRaw</th>\n",
       "      <th>LocationNormalized</th>\n",
       "      <th>ContractType</th>\n",
       "      <th>ContractTime</th>\n",
       "      <th>Company</th>\n",
       "      <th>Category</th>\n",
       "      <th>SalaryRaw</th>\n",
       "      <th>SalaryNormalized</th>\n",
       "      <th>SourceName</th>\n",
       "    </tr>\n",
       "  </thead>\n",
       "  <tbody>\n",
       "    <tr>\n",
       "      <th>0</th>\n",
       "      <td>12612628</td>\n",
       "      <td>Engineering Systems Analyst</td>\n",
       "      <td>Engineering Systems Analyst Dorking Surrey Sal...</td>\n",
       "      <td>Dorking, Surrey, Surrey</td>\n",
       "      <td>Dorking</td>\n",
       "      <td>NaN</td>\n",
       "      <td>permanent</td>\n",
       "      <td>Gregory Martin International</td>\n",
       "      <td>Engineering Jobs</td>\n",
       "      <td>20000 - 30000/annum 20-30K</td>\n",
       "      <td>25000</td>\n",
       "      <td>cv-library.co.uk</td>\n",
       "    </tr>\n",
       "    <tr>\n",
       "      <th>1</th>\n",
       "      <td>12612830</td>\n",
       "      <td>Stress Engineer Glasgow</td>\n",
       "      <td>Stress Engineer Glasgow Salary **** to **** We...</td>\n",
       "      <td>Glasgow, Scotland, Scotland</td>\n",
       "      <td>Glasgow</td>\n",
       "      <td>NaN</td>\n",
       "      <td>permanent</td>\n",
       "      <td>Gregory Martin International</td>\n",
       "      <td>Engineering Jobs</td>\n",
       "      <td>25000 - 35000/annum 25-35K</td>\n",
       "      <td>30000</td>\n",
       "      <td>cv-library.co.uk</td>\n",
       "    </tr>\n",
       "    <tr>\n",
       "      <th>2</th>\n",
       "      <td>12612844</td>\n",
       "      <td>Modelling and simulation analyst</td>\n",
       "      <td>Mathematical Modeller / Simulation Analyst / O...</td>\n",
       "      <td>Hampshire, South East, South East</td>\n",
       "      <td>Hampshire</td>\n",
       "      <td>NaN</td>\n",
       "      <td>permanent</td>\n",
       "      <td>Gregory Martin International</td>\n",
       "      <td>Engineering Jobs</td>\n",
       "      <td>20000 - 40000/annum 20-40K</td>\n",
       "      <td>30000</td>\n",
       "      <td>cv-library.co.uk</td>\n",
       "    </tr>\n",
       "  </tbody>\n",
       "</table>\n",
       "</div>"
      ],
      "text/plain": [
       "         Id                             Title  \\\n",
       "0  12612628       Engineering Systems Analyst   \n",
       "1  12612830           Stress Engineer Glasgow   \n",
       "2  12612844  Modelling and simulation analyst   \n",
       "\n",
       "                                     FullDescription  \\\n",
       "0  Engineering Systems Analyst Dorking Surrey Sal...   \n",
       "1  Stress Engineer Glasgow Salary **** to **** We...   \n",
       "2  Mathematical Modeller / Simulation Analyst / O...   \n",
       "\n",
       "                         LocationRaw LocationNormalized ContractType  \\\n",
       "0            Dorking, Surrey, Surrey            Dorking          NaN   \n",
       "1        Glasgow, Scotland, Scotland            Glasgow          NaN   \n",
       "2  Hampshire, South East, South East          Hampshire          NaN   \n",
       "\n",
       "  ContractTime                       Company          Category  \\\n",
       "0    permanent  Gregory Martin International  Engineering Jobs   \n",
       "1    permanent  Gregory Martin International  Engineering Jobs   \n",
       "2    permanent  Gregory Martin International  Engineering Jobs   \n",
       "\n",
       "                    SalaryRaw  SalaryNormalized        SourceName  \n",
       "0  20000 - 30000/annum 20-30K             25000  cv-library.co.uk  \n",
       "1  25000 - 35000/annum 25-35K             30000  cv-library.co.uk  \n",
       "2  20000 - 40000/annum 20-40K             30000  cv-library.co.uk  "
      ]
     },
     "execution_count": 3,
     "metadata": {},
     "output_type": "execute_result"
    }
   ],
   "source": [
    "train = pd.read_csv(\"..\\..\\Assignments\\Assignment1\\Train_rev1.csv\")\n",
    "train[:3]"
   ]
  },
  {
   "cell_type": "code",
   "execution_count": 4,
   "metadata": {
    "collapsed": true
   },
   "outputs": [],
   "source": [
    "train_sample = train.sample(1000).reset_index() # Creates sample of 1000 job descriptions"
   ]
  },
  {
   "cell_type": "markdown",
   "metadata": {},
   "source": [
    "# Part A (Basic Text Mining)"
   ]
  },
  {
   "cell_type": "code",
   "execution_count": 5,
   "metadata": {
    "collapsed": false
   },
   "outputs": [],
   "source": [
    "# Tokenize all job descriptions\n",
    "train_sample['tokenized_strip'] = train_sample.apply(lambda row: row['FullDescription'].decode('utf-8').strip(),axis=1)\n",
    "train_sample['tokenized'] = train_sample.apply(lambda row: nltk.word_tokenize(row['tokenized_strip']),axis=1)"
   ]
  },
  {
   "cell_type": "code",
   "execution_count": 6,
   "metadata": {
    "collapsed": false
   },
   "outputs": [],
   "source": [
    "# Get part of speech tags for each token in each description\n",
    "train_sample['PoS'] = train_sample.apply(lambda row: nltk.pos_tag(row['tokenized']), axis=1)"
   ]
  },
  {
   "cell_type": "markdown",
   "metadata": {},
   "source": [
    "## A1. Top 5 Parts of Speech in Corpus"
   ]
  },
  {
   "cell_type": "code",
   "execution_count": 7,
   "metadata": {
    "collapsed": false
   },
   "outputs": [],
   "source": [
    "# Create list of all tokens in corpus\n",
    "all_tokens = []\n",
    "for i in range(len(train_sample['tokenized'])):\n",
    "    all_tokens = all_tokens + train_sample['tokenized'][i]"
   ]
  },
  {
   "cell_type": "code",
   "execution_count": 8,
   "metadata": {
    "collapsed": false
   },
   "outputs": [],
   "source": [
    "# Get part of speech tags for all tokens in corpus\n",
    "all_PoS = nltk.pos_tag(all_tokens)"
   ]
  },
  {
   "cell_type": "code",
   "execution_count": 9,
   "metadata": {
    "collapsed": false
   },
   "outputs": [
    {
     "data": {
      "text/plain": [
       "[('NN', 45695), ('NNP', 35081), ('IN', 26039), ('JJ', 21797), ('DT', 20048)]"
      ]
     },
     "execution_count": 9,
     "metadata": {},
     "output_type": "execute_result"
    }
   ],
   "source": [
    "tokens, PoS = zip(*all_PoS) # Unzip all_PoS to separate list of tokens from list of parts of speech\n",
    "PoS_freq = nltk.FreqDist(PoS) # Frequency of each part of speech\n",
    "top5_PoS = PoS_freq.most_common()[:5] # 5 most frequent parts of speech in corpus\n",
    "top5_PoS"
   ]
  },
  {
   "cell_type": "markdown",
   "metadata": {},
   "source": [
    "The 5 most common parts of speech in this corpus along with their respective frequencies are:\n",
    "1. Noun, singular or mass: 46,389\n",
    "2. Proper noun, singular: 33,742\n",
    "3. Preposition or Subordinating Conjunction: 25,724\n",
    "4. Adjective: 22,063\n",
    "5. Determiner: 20,188"
   ]
  },
  {
   "cell_type": "markdown",
   "metadata": {},
   "source": [
    "## A2. Zipf's Law, 100 Most Common Words"
   ]
  },
  {
   "cell_type": "code",
   "execution_count": 10,
   "metadata": {
    "collapsed": true
   },
   "outputs": [],
   "source": [
    "from nltk.tokenize import RegexpTokenizer\n",
    "word_tokenizer = RegexpTokenizer(r'\\w+')\n",
    "\n",
    "# Get list of words without punctuation for each job description\n",
    "train_sample['tokenized_words'] = train_sample.apply(lambda row: word_tokenizer.tokenize(row['tokenized_strip']),axis=1)\n",
    "\n",
    "# Create list of words from all job descriptions\n",
    "all_words = []\n",
    "for i in range(len(train_sample['tokenized_words'])):\n",
    "    all_words = all_words + train_sample['tokenized_words'][i]\n",
    "\n",
    "# Make all words lowercase\n",
    "words_lower = []\n",
    "for word in all_words:\n",
    "    words_lower.append(word.lower())"
   ]
  },
  {
   "cell_type": "code",
   "execution_count": 11,
   "metadata": {
    "collapsed": false
   },
   "outputs": [
    {
     "data": {
      "text/plain": [
       "<matplotlib.text.Text at 0x1a143c88>"
      ]
     },
     "execution_count": 11,
     "metadata": {},
     "output_type": "execute_result"
    },
    {
     "data": {
      "image/png": "[encoded data removed]",
      "text/plain": [
       "<matplotlib.figure.Figure at 0x33204c18>"
      ]
     },
     "metadata": {},
     "output_type": "display_data"
    }
   ],
   "source": [
    "# Find 100 most frequent words\n",
    "words_freq = nltk.FreqDist(words_lower)\n",
    "top100_words = words_freq.most_common()[:100]\n",
    "\n",
    "# Get values for expected frequency of top 100 words using Zipf's Law\n",
    "max_freq = top100_words[0][1]\n",
    "counter = 1\n",
    "zipf = []\n",
    "while len(zipf) < 100:\n",
    "    zipf.append(max_freq/counter)\n",
    "    counter += 1\n",
    "\n",
    "# Plot actual frequencies and Zipf frequencies\n",
    "plot([b for (a,b) in top100_words], label = 'Word Frequency') # Blue\n",
    "plot(zipf, label = 'Zipf Predicted Frequency') # Green\n",
    "legend(loc='best')\n",
    "xlabel('Rank')\n",
    "ylabel('Frequency')"
   ]
  },
  {
   "cell_type": "markdown",
   "metadata": {},
   "source": [
    "## Top 10 Words after Stemming and Removing Stop Words"
   ]
  },
  {
   "cell_type": "code",
   "execution_count": 12,
   "metadata": {
    "collapsed": false
   },
   "outputs": [],
   "source": [
    "# Remove stop words\n",
    "from nltk.corpus import stopwords\n",
    "no_stops_words = [word for word in words_lower if word not in stopwords.words('english')]"
   ]
  },
  {
   "cell_type": "code",
   "execution_count": 13,
   "metadata": {
    "collapsed": false
   },
   "outputs": [],
   "source": [
    "from nltk.stem.porter import PorterStemmer\n",
    "PS = PorterStemmer()\n",
    "\n",
    "# Perform stemming on words\n",
    "stem_words = []\n",
    "for word in no_stops_words:\n",
    "    stem_word = PS.stem(word)\n",
    "    stem_words.append(stem_word)"
   ]
  },
  {
   "cell_type": "code",
   "execution_count": 14,
   "metadata": {
    "collapsed": false
   },
   "outputs": [
    {
     "data": {
      "text/plain": [
       "[(u'work', 2234),\n",
       " (u'manag', 1887),\n",
       " (u'experi', 1806),\n",
       " (u'develop', 1562),\n",
       " (u'client', 1276),\n",
       " (u'role', 1241),\n",
       " (u'team', 1237),\n",
       " (u'busi', 1179),\n",
       " (u'requir', 1122),\n",
       " (u'skill', 1064)]"
      ]
     },
     "execution_count": 14,
     "metadata": {},
     "output_type": "execute_result"
    }
   ],
   "source": [
    "# Find 10 most frequent words\n",
    "words_freq_no_stops = nltk.FreqDist(stem_words)\n",
    "top10_words = words_freq_no_stops.most_common()[:10]\n",
    "\n",
    "top10_words"
   ]
  },
  {
   "cell_type": "markdown",
   "metadata": {
    "collapsed": true
   },
   "source": [
    "Due to the size of the data set, we chose to use stemming rather than lemmatization. This resulted in a list of the top 10 word stems rather than words themselves or lemmas. However, given the context, the lemmas for each stem can be estimated. \n",
    "\n",
    "The 10 most frequent word stems with their likely associated lemmas are listed below, along with their respective frequencies:\n",
    "1. 'work' (work) - 2141\n",
    "2. 'manag' (manage) - 2049\n",
    "3. 'experi'(experience) - 1642\n",
    "4. 'role' (role) - 1246\n",
    "5. 'team' (team) - 1226\n",
    "6. 'busi' (business) - 1213\n",
    "7. 'client' (client) - 1206\n",
    "8. 'develop' (develop) - 1150\n",
    "9. 'requir' (require) - 1018\n",
    "10. 'servic' (service) - 1017"
   ]
  },
  {
   "cell_type": "markdown",
   "metadata": {},
   "source": [
    "# Part B (Salary Prediction)"
   ]
  },
  {
   "cell_type": "code",
   "execution_count": 20,
   "metadata": {
    "collapsed": true
   },
   "outputs": [
    {
     "data": {
      "text/html": [
       "<div>\n",
       "<table border=\"1\" class=\"dataframe\">\n",
       "  <thead>\n",
       "    <tr style=\"text-align: right;\">\n",
       "      <th></th>\n",
       "      <th>index</th>\n",
       "      <th>Id</th>\n",
       "      <th>Title</th>\n",
       "      <th>FullDescription</th>\n",
       "      <th>LocationRaw</th>\n",
       "      <th>LocationNormalized</th>\n",
       "      <th>ContractType</th>\n",
       "      <th>ContractTime</th>\n",
       "      <th>Company</th>\n",
       "      <th>Category</th>\n",
       "      <th>SalaryRaw</th>\n",
       "      <th>SalaryNormalized</th>\n",
       "      <th>SourceName</th>\n",
       "      <th>tokenized_strip</th>\n",
       "      <th>tokenized</th>\n",
       "      <th>PoS</th>\n",
       "      <th>tokenized_words</th>\n",
       "      <th>salary_class</th>\n",
       "    </tr>\n",
       "  </thead>\n",
       "  <tbody>\n",
       "    <tr>\n",
       "      <th>0</th>\n",
       "      <td>108759</td>\n",
       "      <td>69622349</td>\n",
       "      <td>Theatre Practitioner First Assistant, Somerset...</td>\n",
       "      <td>HCL Permanent`s client, an NHS treatment centr...</td>\n",
       "      <td>Taunton</td>\n",
       "      <td>Taunton</td>\n",
       "      <td>full_time</td>\n",
       "      <td>NaN</td>\n",
       "      <td>HCL Permanent</td>\n",
       "      <td>Healthcare &amp; Nursing Jobs</td>\n",
       "      <td>28,000 - 34,000/Year</td>\n",
       "      <td>31000</td>\n",
       "      <td>staffnurse.com</td>\n",
       "      <td>HCL Permanent`s client, an NHS treatment centr...</td>\n",
       "      <td>[HCL, Permanent`s, client, ,, an, NHS, treatme...</td>\n",
       "      <td>[(HCL, NNP), (Permanent`s, NNP), (client, NN),...</td>\n",
       "      <td>[HCL, Permanent, s, client, an, NHS, treatment...</td>\n",
       "      <td>low</td>\n",
       "    </tr>\n",
       "    <tr>\n",
       "      <th>1</th>\n",
       "      <td>161466</td>\n",
       "      <td>71189727</td>\n",
       "      <td>Deputy General Manager</td>\n",
       "      <td>Experience: Must have at least 3 years minimum...</td>\n",
       "      <td>Renfrewshire Scotland</td>\n",
       "      <td>Renfrewshire</td>\n",
       "      <td>NaN</td>\n",
       "      <td>permanent</td>\n",
       "      <td>Resource Hospitality Limited</td>\n",
       "      <td>Travel Jobs</td>\n",
       "      <td>Up to 23,000 per annum</td>\n",
       "      <td>23000</td>\n",
       "      <td>totaljobs.com</td>\n",
       "      <td>Experience: Must have at least 3 years minimum...</td>\n",
       "      <td>[Experience, :, Must, have, at, least, 3, year...</td>\n",
       "      <td>[(Experience, NN), (:, :), (Must, NN), (have, ...</td>\n",
       "      <td>[Experience, Must, have, at, least, 3, years, ...</td>\n",
       "      <td>low</td>\n",
       "    </tr>\n",
       "    <tr>\n",
       "      <th>2</th>\n",
       "      <td>233625</td>\n",
       "      <td>72481470</td>\n",
       "      <td>Legal Cashier</td>\n",
       "      <td>Legal Cashier. To act as a legal cashier for c...</td>\n",
       "      <td>Manchester</td>\n",
       "      <td>Manchester</td>\n",
       "      <td>NaN</td>\n",
       "      <td>permanent</td>\n",
       "      <td>Cover Management</td>\n",
       "      <td>Legal Jobs</td>\n",
       "      <td>14,500 - 21,500</td>\n",
       "      <td>18000</td>\n",
       "      <td>jobsite.co.uk</td>\n",
       "      <td>Legal Cashier. To act as a legal cashier for c...</td>\n",
       "      <td>[Legal, Cashier, ., To, act, as, a, legal, cas...</td>\n",
       "      <td>[(Legal, NNP), (Cashier, NNP), (., .), (To, TO...</td>\n",
       "      <td>[Legal, Cashier, To, act, as, a, legal, cashie...</td>\n",
       "      <td>low</td>\n",
       "    </tr>\n",
       "    <tr>\n",
       "      <th>3</th>\n",
       "      <td>123819</td>\n",
       "      <td>69965475</td>\n",
       "      <td>Customer Support Engineer</td>\n",
       "      <td>Excellent Opportunity for an Enthusiastic Engi...</td>\n",
       "      <td>Wembley, Middlesex, London</td>\n",
       "      <td>London</td>\n",
       "      <td>NaN</td>\n",
       "      <td>permanent</td>\n",
       "      <td>Brookstreet UK</td>\n",
       "      <td>Engineering Jobs</td>\n",
       "      <td>23800 - 27495/annum</td>\n",
       "      <td>25647</td>\n",
       "      <td>cv-library.co.uk</td>\n",
       "      <td>Excellent Opportunity for an Enthusiastic Engi...</td>\n",
       "      <td>[Excellent, Opportunity, for, an, Enthusiastic...</td>\n",
       "      <td>[(Excellent, JJ), (Opportunity, NNP), (for, IN...</td>\n",
       "      <td>[Excellent, Opportunity, for, an, Enthusiastic...</td>\n",
       "      <td>low</td>\n",
       "    </tr>\n",
       "    <tr>\n",
       "      <th>4</th>\n",
       "      <td>32221</td>\n",
       "      <td>68095772</td>\n",
       "      <td>Web Content Editor</td>\n",
       "      <td>My client are a digital media agency who speci...</td>\n",
       "      <td>Chester Cheshire North West</td>\n",
       "      <td>Chester</td>\n",
       "      <td>NaN</td>\n",
       "      <td>contract</td>\n",
       "      <td>Korus</td>\n",
       "      <td>IT Jobs</td>\n",
       "      <td>9 per hour</td>\n",
       "      <td>17280</td>\n",
       "      <td>totaljobs.com</td>\n",
       "      <td>My client are a digital media agency who speci...</td>\n",
       "      <td>[My, client, are, a, digital, media, agency, w...</td>\n",
       "      <td>[(My, PRP$), (client, NN), (are, VBP), (a, DT)...</td>\n",
       "      <td>[My, client, are, a, digital, media, agency, w...</td>\n",
       "      <td>low</td>\n",
       "    </tr>\n",
       "  </tbody>\n",
       "</table>\n",
       "</div>"
      ],
      "text/plain": [
       "    index        Id                                              Title  \\\n",
       "0  108759  69622349  Theatre Practitioner First Assistant, Somerset...   \n",
       "1  161466  71189727                             Deputy General Manager   \n",
       "2  233625  72481470                                      Legal Cashier   \n",
       "3  123819  69965475                          Customer Support Engineer   \n",
       "4   32221  68095772                                 Web Content Editor   \n",
       "\n",
       "                                     FullDescription  \\\n",
       "0  HCL Permanent`s client, an NHS treatment centr...   \n",
       "1  Experience: Must have at least 3 years minimum...   \n",
       "2  Legal Cashier. To act as a legal cashier for c...   \n",
       "3  Excellent Opportunity for an Enthusiastic Engi...   \n",
       "4  My client are a digital media agency who speci...   \n",
       "\n",
       "                   LocationRaw LocationNormalized ContractType ContractTime  \\\n",
       "0                      Taunton            Taunton    full_time          NaN   \n",
       "1        Renfrewshire Scotland       Renfrewshire          NaN    permanent   \n",
       "2                   Manchester         Manchester          NaN    permanent   \n",
       "3   Wembley, Middlesex, London             London          NaN    permanent   \n",
       "4  Chester Cheshire North West            Chester          NaN     contract   \n",
       "\n",
       "                        Company                   Category  \\\n",
       "0                 HCL Permanent  Healthcare & Nursing Jobs   \n",
       "1  Resource Hospitality Limited                Travel Jobs   \n",
       "2             Cover Management                  Legal Jobs   \n",
       "3                Brookstreet UK           Engineering Jobs   \n",
       "4                         Korus                    IT Jobs   \n",
       "\n",
       "                SalaryRaw  SalaryNormalized        SourceName  \\\n",
       "0    28,000 - 34,000/Year             31000    staffnurse.com   \n",
       "1  Up to 23,000 per annum             23000     totaljobs.com   \n",
       "2         14,500 - 21,500             18000     jobsite.co.uk   \n",
       "3     23800 - 27495/annum             25647  cv-library.co.uk   \n",
       "4              9 per hour             17280     totaljobs.com   \n",
       "\n",
       "                                     tokenized_strip  \\\n",
       "0  HCL Permanent`s client, an NHS treatment centr...   \n",
       "1  Experience: Must have at least 3 years minimum...   \n",
       "2  Legal Cashier. To act as a legal cashier for c...   \n",
       "3  Excellent Opportunity for an Enthusiastic Engi...   \n",
       "4  My client are a digital media agency who speci...   \n",
       "\n",
       "                                           tokenized  \\\n",
       "0  [HCL, Permanent`s, client, ,, an, NHS, treatme...   \n",
       "1  [Experience, :, Must, have, at, least, 3, year...   \n",
       "2  [Legal, Cashier, ., To, act, as, a, legal, cas...   \n",
       "3  [Excellent, Opportunity, for, an, Enthusiastic...   \n",
       "4  [My, client, are, a, digital, media, agency, w...   \n",
       "\n",
       "                                                 PoS  \\\n",
       "0  [(HCL, NNP), (Permanent`s, NNP), (client, NN),...   \n",
       "1  [(Experience, NN), (:, :), (Must, NN), (have, ...   \n",
       "2  [(Legal, NNP), (Cashier, NNP), (., .), (To, TO...   \n",
       "3  [(Excellent, JJ), (Opportunity, NNP), (for, IN...   \n",
       "4  [(My, PRP$), (client, NN), (are, VBP), (a, DT)...   \n",
       "\n",
       "                                     tokenized_words salary_class  \n",
       "0  [HCL, Permanent, s, client, an, NHS, treatment...          low  \n",
       "1  [Experience, Must, have, at, least, 3, years, ...          low  \n",
       "2  [Legal, Cashier, To, act, as, a, legal, cashie...          low  \n",
       "3  [Excellent, Opportunity, for, an, Enthusiastic...          low  \n",
       "4  [My, client, are, a, digital, media, agency, w...          low  "
      ]
     },
     "execution_count": 20,
     "metadata": {},
     "output_type": "execute_result"
    }
   ],
   "source": [
    "#Create new classifier for job posting salaries in the top quartile\n",
    "sal_75 = train_sample['SalaryNormalized'].quantile(.75)\n",
    "\n",
    "train_sample['salary_class'] = np.where(train_sample['SalaryNormalized']>=sal_75,'high','low')\n",
    "\n",
    "train_sample.head()"
   ]
  },
  {
   "cell_type": "code",
   "execution_count": 22,
   "metadata": {
    "collapsed": false
   },
   "outputs": [],
   "source": [
    "#Create two separate lists for text and salary classifier for each job posting\n",
    "descriptions = []\n",
    "pay_class = []\n",
    "\n",
    "for index, value in train_sample.iterrows():\n",
    "    descriptions.append(value['FullDescription'])\n",
    "    pay_class.append(value['salary_class'])"
   ]
  },
  {
   "cell_type": "code",
   "execution_count": 23,
   "metadata": {
    "collapsed": false
   },
   "outputs": [],
   "source": [
    "#Split data into test/training set\n",
    "trainset_size = int(round(len(train_sample)*0.75))\n",
    "\n",
    "X_train = np.array([''.join(el) for el in descriptions[0:trainset_size]])\n",
    "y_train = np.array([el for el in pay_class[0:trainset_size]])\n",
    "\n",
    "X_test = np.array([''.join(el) for el in descriptions[trainset_size+1:len(descriptions)]]) \n",
    "y_test = np.array([el for el in pay_class[trainset_size+1:len(pay_class)]]) "
   ]
  },
  {
   "cell_type": "code",
   "execution_count": 25,
   "metadata": {
    "collapsed": false
   },
   "outputs": [],
   "source": [
    "from sklearn.feature_extraction.text import TfidfVectorizer\n",
    "#Create TF IDF Matrix\n",
    "vectorizer = TfidfVectorizer(min_df=2, \n",
    " ngram_range=(1, 2), \n",
    " stop_words='english', \n",
    " strip_accents='unicode', \n",
    " norm='l2')\n",
    "\n",
    "X_train = vectorizer.fit_transform(X_train)\n",
    "X_test = vectorizer.transform(X_test)"
   ]
  },
  {
   "cell_type": "code",
   "execution_count": 26,
   "metadata": {
    "collapsed": true
   },
   "outputs": [],
   "source": [
    "from sklearn.naive_bayes import MultinomialNB\n",
    "\n",
    "#Run Naive Bayes Classifier\n",
    "nb_classifier = MultinomialNB().fit(X_train, y_train)\n",
    "\n",
    "y_nb_predicted = nb_classifier.predict(X_test)"
   ]
  },
  {
   "cell_type": "code",
   "execution_count": 29,
   "metadata": {
    "collapsed": false
   },
   "outputs": [
    {
     "data": {
      "text/plain": [
       "array(['low', 'low', 'low', 'high', 'low', 'high', 'high', 'low', 'low',\n",
       "       'low', 'low', 'low', 'low', 'high', 'low', 'low', 'low', 'low',\n",
       "       'low', 'high', 'low', 'high', 'low', 'low', 'low', 'low', 'low',\n",
       "       'low', 'low', 'high', 'high', 'low', 'low', 'low', 'low', 'low',\n",
       "       'low', 'low', 'low', 'high', 'low', 'low', 'high', 'low', 'low',\n",
       "       'low', 'low', 'low', 'high', 'low', 'low', 'low', 'low', 'low',\n",
       "       'high', 'high', 'low', 'low', 'low', 'low', 'low', 'high', 'low',\n",
       "       'low', 'low', 'high', 'low', 'low', 'low', 'low', 'low', 'high',\n",
       "       'high', 'high', 'low', 'high', 'high', 'low', 'high', 'high', 'low',\n",
       "       'high', 'low', 'high', 'low', 'high', 'low', 'low', 'low', 'low',\n",
       "       'high', 'low', 'low', 'low', 'low', 'low', 'high', 'low', 'low',\n",
       "       'low', 'low', 'low', 'low', 'low', 'low', 'low', 'low', 'high',\n",
       "       'low', 'low', 'low', 'high', 'low', 'high', 'low', 'high', 'low',\n",
       "       'low', 'low', 'low', 'low', 'high', 'low', 'high', 'high', 'low',\n",
       "       'low', 'low', 'high', 'high', 'low', 'low', 'low', 'low', 'low',\n",
       "       'low', 'low', 'high', 'low', 'high', 'high', 'low', 'low', 'low',\n",
       "       'low', 'low', 'low', 'low', 'low', 'low', 'low', 'high', 'low',\n",
       "       'low', 'high', 'low', 'low', 'high', 'low', 'low', 'low', 'low',\n",
       "       'low', 'high', 'high', 'high', 'low', 'low', 'low', 'low', 'low',\n",
       "       'low', 'high', 'high', 'low', 'low', 'low', 'low', 'high', 'high',\n",
       "       'low', 'low', 'low', 'low', 'low', 'high', 'low', 'high', 'high',\n",
       "       'high', 'high', 'low', 'low', 'low', 'low', 'low', 'low', 'high',\n",
       "       'high', 'low', 'low', 'low', 'low', 'low', 'low', 'high', 'low',\n",
       "       'high', 'high', 'low', 'high', 'high', 'high', 'high', 'low', 'low',\n",
       "       'low', 'low', 'low', 'low', 'low', 'low', 'low', 'low', 'low',\n",
       "       'low', 'high', 'low', 'low', 'low', 'low', 'low', 'low', 'low',\n",
       "       'high', 'low', 'low', 'low', 'high', 'low', 'low', 'low', 'low',\n",
       "       'low', 'low', 'low', 'low', 'low', 'low'], \n",
       "      dtype='|S4')"
      ]
     },
     "execution_count": 29,
     "metadata": {},
     "output_type": "execute_result"
    }
   ],
   "source": [
    "y_test"
   ]
  },
  {
   "cell_type": "code",
   "execution_count": 28,
   "metadata": {
    "collapsed": false
   },
   "outputs": [
    {
     "data": {
      "text/plain": [
       "array(['low', 'low', 'low', 'low', 'low', 'low', 'low', 'low', 'low',\n",
       "       'low', 'low', 'low', 'low', 'low', 'low', 'low', 'low', 'low',\n",
       "       'low', 'low', 'low', 'low', 'low', 'low', 'low', 'low', 'low',\n",
       "       'low', 'low', 'low', 'low', 'low', 'low', 'low', 'low', 'low',\n",
       "       'low', 'low', 'low', 'low', 'low', 'low', 'low', 'low', 'low',\n",
       "       'low', 'low', 'low', 'low', 'low', 'low', 'low', 'low', 'low',\n",
       "       'low', 'low', 'low', 'low', 'low', 'low', 'low', 'low', 'low',\n",
       "       'low', 'low', 'low', 'low', 'low', 'low', 'low', 'low', 'low',\n",
       "       'low', 'low', 'low', 'low', 'low', 'low', 'low', 'low', 'low',\n",
       "       'low', 'low', 'low', 'low', 'low', 'low', 'low', 'low', 'low',\n",
       "       'low', 'low', 'low', 'low', 'low', 'low', 'low', 'low', 'low',\n",
       "       'low', 'low', 'low', 'low', 'low', 'low', 'low', 'low', 'low',\n",
       "       'low', 'low', 'low', 'low', 'low', 'low', 'low', 'low', 'low',\n",
       "       'low', 'low', 'low', 'low', 'low', 'low', 'low', 'low', 'low',\n",
       "       'low', 'low', 'low', 'low', 'low', 'low', 'low', 'low', 'low',\n",
       "       'low', 'low', 'low', 'low', 'low', 'low', 'low', 'low', 'low',\n",
       "       'low', 'low', 'low', 'low', 'low', 'low', 'low', 'low', 'low',\n",
       "       'low', 'low', 'low', 'low', 'low', 'low', 'low', 'low', 'low',\n",
       "       'low', 'low', 'low', 'low', 'low', 'low', 'low', 'low', 'low',\n",
       "       'low', 'low', 'low', 'low', 'low', 'low', 'low', 'low', 'low',\n",
       "       'low', 'low', 'low', 'low', 'low', 'low', 'low', 'low', 'low',\n",
       "       'low', 'low', 'low', 'low', 'low', 'low', 'low', 'low', 'low',\n",
       "       'low', 'low', 'low', 'low', 'low', 'low', 'low', 'low', 'low',\n",
       "       'low', 'low', 'low', 'low', 'low', 'low', 'low', 'low', 'low',\n",
       "       'low', 'low', 'low', 'low', 'low', 'low', 'low', 'low', 'low',\n",
       "       'low', 'low', 'low', 'low', 'low', 'low', 'low', 'low', 'low',\n",
       "       'low', 'low', 'low', 'low', 'low', 'low', 'low', 'low', 'low',\n",
       "       'low', 'low', 'low', 'low', 'low', 'low'], \n",
       "      dtype='|S4')"
      ]
     },
     "execution_count": 28,
     "metadata": {},
     "output_type": "execute_result"
    }
   ],
   "source": [
    "y_nb_predicted"
   ]
  },
  {
   "cell_type": "code",
   "execution_count": 39,
   "metadata": {
    "collapsed": false
   },
   "outputs": [
    {
     "name": "stdout",
     "output_type": "stream",
     "text": [
      "Precision:0.734939759036\n",
      "Recall: 0.734939759036\n",
      "Accuracy: 0.734939759036\n"
     ]
    }
   ],
   "source": [
    "from sklearn import metrics\n",
    "print 'Precision:' + str(metrics.precision_score(y_test, y_nb_predicted, average = 'micro', pos_label=None))\n",
    "print 'Recall: ' + str(metrics.recall_score(y_test, y_nb_predicted, average = 'micro', pos_label=None))\n",
    "print 'Accuracy: ' + str(metrics.accuracy_score(y_test, y_nb_predicted))"
   ]
  },
  {
   "cell_type": "code",
   "execution_count": 43,
   "metadata": {
    "collapsed": false
   },
   "outputs": [
    {
     "name": "stdout",
     "output_type": "stream",
     "text": [
      "Confusion Matrix:\n",
      "[[  0  66]\n",
      " [  0 183]]\n"
     ]
    }
   ],
   "source": [
    "print 'Confusion Matrix:'\n",
    "print metrics.confusion_matrix(y_test, y_nb_predicted, labels=unique(pay_class))"
   ]
  },
  {
   "cell_type": "code",
   "execution_count": null,
   "metadata": {
    "collapsed": true
   },
   "outputs": [],
   "source": []
  }
 ],
 "metadata": {
  "anaconda-cloud": {},
  "kernelspec": {
   "display_name": "Python 2",
   "language": "python",
   "name": "python2"
  },
  "language_info": {
   "codemirror_mode": {
    "name": "ipython",
    "version": 2
   },
   "file_extension": ".py",
   "mimetype": "text/x-python",
   "name": "python",
   "nbconvert_exporter": "python",
   "pygments_lexer": "ipython2",
   "version": "2.7.11"
  }
 },
 "nbformat": 4,
 "nbformat_minor": 0
}
